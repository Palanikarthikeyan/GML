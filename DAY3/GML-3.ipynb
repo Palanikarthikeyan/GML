{
 "cells": [
  {
   "cell_type": "code",
   "execution_count": null,
   "id": "b73790d7-c328-4b05-8a11-c4445c72d465",
   "metadata": {},
   "outputs": [],
   "source": [
    "General programming\n",
    "Input -> m/c -> output\n",
    "\n",
    "Vs\n",
    "\n",
    "ML\n",
    "Input + Output -> m/c ->Algorithm\n",
    "\n",
    "1984: input: pm of india  answer:    --->m/c <-- Q\n",
    "                                          |_____ Q - 2025\n",
    "\n",
    " [personA] ---- 100 books about - list of dog's + 5more books\n",
    "                ----------//data                 //more data\n",
    "    |\n",
    "    |_____Q: ......\n",
    "\n",
    "\n",
    "1. Supervised ML - labelled data - regression ; classification\n",
    "\n",
    "2. Unsupervised ML - unlabelled data - cluster,association \n",
    "\n",
    "3. Reinforcement - agent\n",
    "\n",
    "Train the model \n",
    " - training phase - tech the model how to make predictions\n",
    " - test/evaluate the model\n",
    "    |\n",
    "   trained data + <unseen data>\n",
    "\n",
    " [Apple Orange ] -> ML  ---->  ?  --> don't know  -->Good\n",
    "                               |\n",
    "                              Banana (input)\n",
    "\n",
    "[Apple Orange ] -> ML  ---->  ?  --> Orange  --> Not-Good - re-train\n",
    "                               |\n",
    "                              Banana (input)\n",
    "\n",
    "[Apple Orange ] -> ML  ---->  ?  --> Apple  -->Good\n",
    "                               |\n",
    "                              Apple (input)\n",
    "\n",
    "[Apple Orange ] -> ML  ---->  ?  --> Orange  -->Good\n",
    "                               |\n",
    "                             Orange (input)\n",
    "\n",
    "Deploy the model \n",
    " - after validation model\n",
    "|\n",
    "Monitor and maintain the model \n",
    " |\n",
    "model performance - to get more accurate result \n",
    "\n",
    "2000 --> Supermarket software ->billing process ( VB + msaccess)\n",
    "           - customer ->product ->Cost * Qtr \n",
    "           - available stores \n",
    "|\n",
    "2022 + AI\n",
    "       ---\n",
    "        |-> product - features \n",
    "             pen \n",
    "              suggestion \n",
    "        |-> shop <------------->House\n",
    "                    distance\n",
    "    - get the alogrithm + load our customdata (additional data - 5more books)\n",
    "        (100Books)                                excel;csv;json;text ->vector (1011) ->vectorstore\n",
    "       vectorstore+embedding into existing model\n",
    "\n",
    "regression - prediction\n",
    "\n",
    "input data  - X - independent variable\n",
    "output data - Y - dependent (or) target variable \n",
    "\n",
    "150    |      .\n",
    "100    | .\n",
    " 50    |----------.--\n",
    "         10  15   25\n",
    "\n",
    "y=mx+c\n",
    "  | | |___\n",
    "  | input(independent variable)\n",
    "  |\n",
    "slope\n",
    "\n",
    "b0 b1 - coefficient - accuracy of predicted value\n",
    "\n",
    "split the data - independent / dependent variables \n",
    "|\n",
    "train/test <== training 80% - test ->20%\n",
    "|\n",
    "fit the model (ML-model) Linearregression\n",
    "|\n",
    "predict the result\n",
    "|\n",
    "evaluate score"
   ]
  },
  {
   "cell_type": "code",
   "execution_count": 1,
   "id": "8c835572-eff7-41a5-b57b-07439f84ac26",
   "metadata": {},
   "outputs": [],
   "source": [
    "import numpy as np\n",
    "import pandas as pd\n",
    "import matplotlib.pyplot as plt\n",
    "\n",
    "from sklearn.linear_model import LinearRegression"
   ]
  },
  {
   "cell_type": "code",
   "execution_count": 3,
   "id": "f93c8857-b6ea-4fde-9e6d-40e66dddbc06",
   "metadata": {},
   "outputs": [
    {
     "name": "stdout",
     "output_type": "stream",
     "text": [
      "product predicted sales count value:[425.]\n"
     ]
    }
   ],
   "source": [
    "# product info\n",
    "X = np.array([[1000],[1500],[2000],[2500]]) # product cost \n",
    "Y = np.array([150,250,300,350]) # product sales count\n",
    "\n",
    "obj = LinearRegression()\n",
    "obj.fit(X,Y)\n",
    "\n",
    "X_test = np.array([[3000]]) # make predictions\n",
    "\n",
    "predicted_sales_count = obj.predict(X_test)\n",
    "print(f\"product predicted sales count value:{predicted_sales_count}\")"
   ]
  },
  {
   "cell_type": "code",
   "execution_count": 5,
   "id": "8b1abe89-f01b-4c15-aed3-39c21c9dc357",
   "metadata": {},
   "outputs": [
    {
     "name": "stdout",
     "output_type": "stream",
     "text": [
      "product predicted sales count value:[197.5]\n"
     ]
    }
   ],
   "source": [
    "X_test = np.array([[1250]]) # make predictions\n",
    "\n",
    "predicted_sales_count = obj.predict(X_test)\n",
    "print(f\"product predicted sales count value:{predicted_sales_count}\")"
   ]
  },
  {
   "cell_type": "code",
   "execution_count": 27,
   "id": "247c7b8a-dcb8-4730-9f3f-987cab42cd06",
   "metadata": {},
   "outputs": [
    {
     "name": "stdout",
     "output_type": "stream",
     "text": [
      "product predicted sales count value:[425.]\n"
     ]
    },
    {
     "data": {
      "text/plain": [
       "[<matplotlib.lines.Line2D at 0x20c81cc1430>]"
      ]
     },
     "execution_count": 27,
     "metadata": {},
     "output_type": "execute_result"
    },
    {
     "data": {
      "image/png": "[encoded data removed]",
      "text/plain": [
       "<Figure size 640x480 with 1 Axes>"
      ]
     },
     "metadata": {},
     "output_type": "display_data"
    }
   ],
   "source": [
    "# product info\n",
    "X = np.array([[1000],[1500],[2000],[2500]]) # product cost \n",
    "Y = np.array([150,250,300,350]) # product sales count\n",
    "\n",
    "obj = LinearRegression()\n",
    "obj.fit(X,Y)\n",
    "\n",
    "X_test = np.array([[3000]]) # make predictions\n",
    "\n",
    "predicted_sales_count = obj.predict(X_test)\n",
    "print(f\"product predicted sales count value:{predicted_sales_count}\")\n",
    "\n",
    "plt.scatter(X,Y) # actual data\n",
    "plt.plot(X,obj.predict(X),color='red',marker='s') # regression line"
   ]
  },
  {
   "cell_type": "code",
   "execution_count": 31,
   "id": "ac2ea5d0-f710-409a-98b5-c407f8bf970a",
   "metadata": {},
   "outputs": [
    {
     "data": {
      "text/plain": [
       "LinregressResult(slope=0.13, intercept=35.0, rvalue=0.9827076298239907, pvalue=0.01729237017600926, stderr=0.017320508075688794, intercept_stderr=31.819805153394675)"
      ]
     },
     "execution_count": 31,
     "metadata": {},
     "output_type": "execute_result"
    }
   ],
   "source": [
    "from scipy import stats\n",
    "\n",
    "X = [1000,1500,2000,2500] # product cost \n",
    "Y = [150,250,300,350]  # product sales count\n",
    "\n",
    "stats.linregress(X,Y)"
   ]
  },
  {
   "cell_type": "code",
   "execution_count": 33,
   "id": "d83c2c78-2a65-427f-8e6a-6c5cf245db2c",
   "metadata": {},
   "outputs": [],
   "source": [
    "# y = mx+c\n",
    "slope,intercept,r,p,stderr = stats.linregress(X,Y)"
   ]
  },
  {
   "cell_type": "code",
   "execution_count": 35,
   "id": "c023ca8a-68c5-41eb-9899-13abc27790c7",
   "metadata": {},
   "outputs": [
    {
     "name": "stdout",
     "output_type": "stream",
     "text": [
      "[165.0, 230.0, 295.0, 360.0]\n"
     ]
    }
   ],
   "source": [
    "def fx(x):\n",
    "    return slope * x + intercept  # mx+c \n",
    "\n",
    "model = []\n",
    "\n",
    "for var in X:\n",
    "    r = fx(var)\n",
    "    model.append(r)\n",
    "\n",
    "print(model)"
   ]
  },
  {
   "cell_type": "code",
   "execution_count": 37,
   "id": "24e9202a-f6a7-4ebe-bb66-23ee56b67528",
   "metadata": {},
   "outputs": [
    {
     "data": {
      "text/plain": [
       "425.0"
      ]
     },
     "execution_count": 37,
     "metadata": {},
     "output_type": "execute_result"
    }
   ],
   "source": [
    "fx(3000)"
   ]
  },
  {
   "cell_type": "code",
   "execution_count": 39,
   "id": "79c1ce28-fc69-48bf-9241-5f914b013479",
   "metadata": {},
   "outputs": [
    {
     "data": {
      "text/plain": [
       "197.5"
      ]
     },
     "execution_count": 39,
     "metadata": {},
     "output_type": "execute_result"
    }
   ],
   "source": [
    "fx(1250)"
   ]
  },
  {
   "cell_type": "code",
   "execution_count": 41,
   "id": "5fa482b9-b81b-4a37-9417-0cecba366820",
   "metadata": {},
   "outputs": [
    {
     "data": {
      "text/plain": [
       "[<matplotlib.lines.Line2D at 0x20c8aab0f80>]"
      ]
     },
     "execution_count": 41,
     "metadata": {},
     "output_type": "execute_result"
    },
    {
     "data": {
      "image/png": "[encoded data removed]",
      "text/plain": [
       "<Figure size 640x480 with 1 Axes>"
      ]
     },
     "metadata": {},
     "output_type": "display_data"
    }
   ],
   "source": [
    "plt.plot(X,model,color='red',marker='s')"
   ]
  },
  {
   "cell_type": "code",
   "execution_count": 55,
   "id": "1e8ba8e6-4558-4631-84fa-ab2ec7509035",
   "metadata": {},
   "outputs": [
    {
     "data": {
      "text/html": [
       "<div>\n",
       "<style scoped>\n",
       "    .dataframe tbody tr th:only-of-type {\n",
       "        vertical-align: middle;\n",
       "    }\n",
       "\n",
       "    .dataframe tbody tr th {\n",
       "        vertical-align: top;\n",
       "    }\n",
       "\n",
       "    .dataframe thead th {\n",
       "        text-align: right;\n",
       "    }\n",
       "</style>\n",
       "<table border=\"1\" class=\"dataframe\">\n",
       "  <thead>\n",
       "    <tr style=\"text-align: right;\">\n",
       "      <th></th>\n",
       "      <th>sepal_length</th>\n",
       "      <th>sepal_width</th>\n",
       "      <th>petal_length</th>\n",
       "      <th>petal_width</th>\n",
       "      <th>species</th>\n",
       "    </tr>\n",
       "  </thead>\n",
       "  <tbody>\n",
       "    <tr>\n",
       "      <th>0</th>\n",
       "      <td>5.1</td>\n",
       "      <td>3.5</td>\n",
       "      <td>1.4</td>\n",
       "      <td>0.2</td>\n",
       "      <td>setosa</td>\n",
       "    </tr>\n",
       "    <tr>\n",
       "      <th>1</th>\n",
       "      <td>4.9</td>\n",
       "      <td>3.0</td>\n",
       "      <td>1.4</td>\n",
       "      <td>0.2</td>\n",
       "      <td>setosa</td>\n",
       "    </tr>\n",
       "    <tr>\n",
       "      <th>2</th>\n",
       "      <td>4.7</td>\n",
       "      <td>3.2</td>\n",
       "      <td>1.3</td>\n",
       "      <td>0.2</td>\n",
       "      <td>setosa</td>\n",
       "    </tr>\n",
       "    <tr>\n",
       "      <th>3</th>\n",
       "      <td>4.6</td>\n",
       "      <td>3.1</td>\n",
       "      <td>1.5</td>\n",
       "      <td>0.2</td>\n",
       "      <td>setosa</td>\n",
       "    </tr>\n",
       "    <tr>\n",
       "      <th>4</th>\n",
       "      <td>5.0</td>\n",
       "      <td>3.6</td>\n",
       "      <td>1.4</td>\n",
       "      <td>0.2</td>\n",
       "      <td>setosa</td>\n",
       "    </tr>\n",
       "    <tr>\n",
       "      <th>...</th>\n",
       "      <td>...</td>\n",
       "      <td>...</td>\n",
       "      <td>...</td>\n",
       "      <td>...</td>\n",
       "      <td>...</td>\n",
       "    </tr>\n",
       "    <tr>\n",
       "      <th>145</th>\n",
       "      <td>6.7</td>\n",
       "      <td>3.0</td>\n",
       "      <td>5.2</td>\n",
       "      <td>2.3</td>\n",
       "      <td>virginica</td>\n",
       "    </tr>\n",
       "    <tr>\n",
       "      <th>146</th>\n",
       "      <td>6.3</td>\n",
       "      <td>2.5</td>\n",
       "      <td>5.0</td>\n",
       "      <td>1.9</td>\n",
       "      <td>virginica</td>\n",
       "    </tr>\n",
       "    <tr>\n",
       "      <th>147</th>\n",
       "      <td>6.5</td>\n",
       "      <td>3.0</td>\n",
       "      <td>5.2</td>\n",
       "      <td>2.0</td>\n",
       "      <td>virginica</td>\n",
       "    </tr>\n",
       "    <tr>\n",
       "      <th>148</th>\n",
       "      <td>6.2</td>\n",
       "      <td>3.4</td>\n",
       "      <td>5.4</td>\n",
       "      <td>2.3</td>\n",
       "      <td>virginica</td>\n",
       "    </tr>\n",
       "    <tr>\n",
       "      <th>149</th>\n",
       "      <td>5.9</td>\n",
       "      <td>3.0</td>\n",
       "      <td>5.1</td>\n",
       "      <td>1.8</td>\n",
       "      <td>virginica</td>\n",
       "    </tr>\n",
       "  </tbody>\n",
       "</table>\n",
       "<p>150 rows × 5 columns</p>\n",
       "</div>"
      ],
      "text/plain": [
       "     sepal_length  sepal_width  petal_length  petal_width    species\n",
       "0             5.1          3.5           1.4          0.2     setosa\n",
       "1             4.9          3.0           1.4          0.2     setosa\n",
       "2             4.7          3.2           1.3          0.2     setosa\n",
       "3             4.6          3.1           1.5          0.2     setosa\n",
       "4             5.0          3.6           1.4          0.2     setosa\n",
       "..            ...          ...           ...          ...        ...\n",
       "145           6.7          3.0           5.2          2.3  virginica\n",
       "146           6.3          2.5           5.0          1.9  virginica\n",
       "147           6.5          3.0           5.2          2.0  virginica\n",
       "148           6.2          3.4           5.4          2.3  virginica\n",
       "149           5.9          3.0           5.1          1.8  virginica\n",
       "\n",
       "[150 rows x 5 columns]"
      ]
     },
     "execution_count": 55,
     "metadata": {},
     "output_type": "execute_result"
    }
   ],
   "source": [
    "import seaborn as sns\n",
    "#help(sns.load_dataset)\n",
    "sns.load_dataset('iris')"
   ]
  },
  {
   "cell_type": "code",
   "execution_count": 59,
   "id": "aa4df60d-e388-4034-84c1-8a9489974f18",
   "metadata": {},
   "outputs": [],
   "source": [
    "iris_df = sns.load_dataset('iris')\n",
    "iris = iris_df[['petal_length','petal_width']]"
   ]
  },
  {
   "cell_type": "code",
   "execution_count": 61,
   "id": "d1698b39-b2a2-44f8-9318-d81d0f2867da",
   "metadata": {},
   "outputs": [],
   "source": [
    "X = iris ['petal_length']\n",
    "Y = iris ['petal_width']"
   ]
  },
  {
   "cell_type": "code",
   "execution_count": 65,
   "id": "162e65a2-8c3f-4988-a24c-0ec3d5ea94db",
   "metadata": {},
   "outputs": [],
   "source": [
    "from sklearn.model_selection import train_test_split\n",
    "\n",
    "x_train,x_test,y_train,y_test = train_test_split(X,Y,test_size=0.4,random_state=24)"
   ]
  },
  {
   "cell_type": "code",
   "execution_count": 67,
   "id": "eb155eaf-2e85-4d40-be13-8fea147b3099",
   "metadata": {},
   "outputs": [],
   "source": [
    "x_train = np.array(x_train).reshape(-1,1)\n",
    "x_test = np.array(y_test).reshape(-1,1)"
   ]
  },
  {
   "cell_type": "code",
   "execution_count": 69,
   "id": "53a5635a-7958-4450-87c7-02570ac05b8f",
   "metadata": {},
   "outputs": [],
   "source": [
    "from sklearn.linear_model import LinearRegression\n",
    "obj = LinearRegression()\n",
    "obj.fit(x_train,y_train)\n",
    "y_pre_train = obj.predict(x_train)"
   ]
  },
  {
   "cell_type": "code",
   "execution_count": 71,
   "id": "6b26adb9-86c9-4edf-bc37-1042b83aa939",
   "metadata": {},
   "outputs": [
    {
     "data": {
      "text/plain": [
       "[<matplotlib.lines.Line2D at 0x20c8de8a300>]"
      ]
     },
     "execution_count": 71,
     "metadata": {},
     "output_type": "execute_result"
    },
    {
     "data": {
      "image/png": "[encoded data removed]",
      "text/plain": [
       "<Figure size 640x480 with 1 Axes>"
      ]
     },
     "metadata": {},
     "output_type": "display_data"
    }
   ],
   "source": [
    "plt.scatter(x_train,y_train)\n",
    "plt.plot(x_train,y_pre_train,color='r',marker='o')"
   ]
  },
  {
   "cell_type": "code",
   "execution_count": 73,
   "id": "42b880ee-2821-4ccc-ba61-ddfdd2ab5846",
   "metadata": {},
   "outputs": [
    {
     "data": {
      "text/plain": [
       "0.9365729397395005"
      ]
     },
     "execution_count": 73,
     "metadata": {},
     "output_type": "execute_result"
    }
   ],
   "source": [
    "# evaluation\n",
    "# R2 Score\n",
    "\n",
    "# R2  - How much variance in the target variable\n",
    "#              Sum of squares of residuals (errors)\n",
    "#     R2 = 1 -  ---------------------------------\n",
    "#                    total no.of squares\n",
    "\n",
    "# result => 1.0 perfect prediction \n",
    "#           0.5 - 0-9 -> Good fit \n",
    "#           0.0 - 0.4 - retrain the model \n",
    "\n",
    "from sklearn.metrics import r2_score\n",
    "r2_score(y_train,y_pre_train)"
   ]
  },
  {
   "cell_type": "code",
   "execution_count": 75,
   "id": "0402607c-a23f-4034-854a-bac5cd8e296d",
   "metadata": {},
   "outputs": [
    {
     "name": "stdout",
     "output_type": "stream",
     "text": [
      "m= -0.3571937188921539 c= [0.41230693]\n"
     ]
    }
   ],
   "source": [
    "from sklearn.linear_model import LinearRegression\n",
    "obj = LinearRegression()\n",
    "obj.fit(x_train,y_train)\n",
    "m = obj.intercept_\n",
    "c = obj.coef_\n",
    "print(\"m=\",m,\"c=\",c)"
   ]
  },
  {
   "cell_type": "code",
   "execution_count": 77,
   "id": "ca4f8d04-dadb-4685-873b-1b485218bce2",
   "metadata": {},
   "outputs": [],
   "source": [
    "def fx(x):         # logic about  obj.predict(x_train) ->y_pred_train \n",
    "    return m*x+c     \n",
    "\n",
    "L=[]\n",
    "for var in x_train:\n",
    "    r = fx(var)\n",
    "    L.append(r)"
   ]
  },
  {
   "cell_type": "code",
   "execution_count": 79,
   "id": "afc4ef31-c121-46f3-a620-861c95c5d504",
   "metadata": {},
   "outputs": [
    {
     "data": {
      "text/plain": [
       "[array([-1.08790669]),\n",
       " array([-1.26650355]),\n",
       " array([-0.15920302]),\n",
       " array([-1.55225853]),\n",
       " array([-1.33794229]),\n",
       " array([-0.05204491]),\n",
       " array([-1.08790669]),\n",
       " array([-1.98089099]),\n",
       " array([-0.9450292]),\n",
       " array([-0.65927423]),\n",
       " array([-1.5879779]),\n",
       " array([-1.01646795]),\n",
       " array([-0.26636114]),\n",
       " array([-0.26636114]),\n",
       " array([-0.12348365]),\n",
       " array([-1.62369727]),\n",
       " array([-1.40938104]),\n",
       " array([-1.05218732]),\n",
       " array([-1.23078418]),\n",
       " array([-1.33794229]),\n",
       " array([-1.40938104]),\n",
       " array([-0.19492239]),\n",
       " array([-1.33794229]),\n",
       " array([-0.76643234]),\n",
       " array([-0.08776428]),\n",
       " array([-1.01646795]),\n",
       " array([-1.05218732]),\n",
       " array([-1.26650355]),\n",
       " array([-1.19506481]),\n",
       " array([-0.12348365]),\n",
       " array([-1.19506481]),\n",
       " array([-1.15934544]),\n",
       " array([-0.12348365]),\n",
       " array([-1.26650355]),\n",
       " array([-1.19506481]),\n",
       " array([-1.23078418]),\n",
       " array([-0.05204491]),\n",
       " array([-1.19506481]),\n",
       " array([-0.12348365]),\n",
       " array([-1.30222292]),\n",
       " array([-0.08776428]),\n",
       " array([-0.05204491]),\n",
       " array([-1.40938104]),\n",
       " array([-1.76657476]),\n",
       " array([-0.19492239]),\n",
       " array([-0.12348365]),\n",
       " array([-0.08776428]),\n",
       " array([-1.26650355]),\n",
       " array([-0.05204491]),\n",
       " array([-0.12348365]),\n",
       " array([-1.98089099]),\n",
       " array([-1.40938104]),\n",
       " array([-0.12348365]),\n",
       " array([-1.40938104]),\n",
       " array([-1.30222292]),\n",
       " array([-0.12348365]),\n",
       " array([-0.87359046]),\n",
       " array([-0.01632553]),\n",
       " array([-1.12362606]),\n",
       " array([-1.01646795]),\n",
       " array([-0.08776428]),\n",
       " array([-2.05232973]),\n",
       " array([-1.15934544]),\n",
       " array([-0.15920302]),\n",
       " array([-0.08776428]),\n",
       " array([-0.90930983]),\n",
       " array([-1.12362606]),\n",
       " array([-1.30222292]),\n",
       " array([-1.19506481]),\n",
       " array([-0.83787109]),\n",
       " array([-1.37366167]),\n",
       " array([-0.08776428]),\n",
       " array([-0.08776428]),\n",
       " array([-1.5879779]),\n",
       " array([-0.08776428]),\n",
       " array([-1.37366167]),\n",
       " array([-0.19492239]),\n",
       " array([-1.26650355]),\n",
       " array([-1.48081978]),\n",
       " array([-1.69513601]),\n",
       " array([-1.51653915]),\n",
       " array([-0.98074858]),\n",
       " array([-0.08776428]),\n",
       " array([-1.33794229]),\n",
       " array([-1.73085539]),\n",
       " array([-1.65941664]),\n",
       " array([-1.44510041]),\n",
       " array([-1.44510041]),\n",
       " array([-1.15934544]),\n",
       " array([-1.87373287])]"
      ]
     },
     "execution_count": 79,
     "metadata": {},
     "output_type": "execute_result"
    }
   ],
   "source": [
    "L"
   ]
  },
  {
   "cell_type": "code",
   "execution_count": null,
   "id": "94687df8-e00c-42bc-ac9f-8e5fa298adf4",
   "metadata": {},
   "outputs": [],
   "source": [
    "outlier\n",
    "---------\n",
    "[100,200,300,400,50,600,700]\n",
    "             ---\n",
    "[10,20,30,800,50,60]\n",
    "          ---\n",
    "\n",
    "zscore\n",
    "--------\n",
    "x = individual data point\n",
    "u = mean of the data point\n",
    "a = standard deviation of the data set\n",
    "      x - u\n",
    "z =   ------\n",
    "         a\n",
    "\n",
    "z +ve\n",
    "z -ve \n",
    "z - above value 2 (or) depending on the threshold"
   ]
  },
  {
   "cell_type": "code",
   "execution_count": 81,
   "id": "1696e79c-924d-43ba-aaea-49a561836d5c",
   "metadata": {},
   "outputs": [
    {
     "data": {
      "text/plain": [
       "array([-1.41421356, -0.70710678,  0.        ,  0.70710678,  1.41421356])"
      ]
     },
     "execution_count": 81,
     "metadata": {},
     "output_type": "execute_result"
    }
   ],
   "source": [
    "d = np.array([50,60,70,80,90])\n",
    "mean = np.mean(d)\n",
    "std_dev = np.std(d)\n",
    "zscore = (d-mean)/std_dev\n",
    "zscore"
   ]
  },
  {
   "cell_type": "code",
   "execution_count": 83,
   "id": "df9c4ad1-d067-4b05-9c02-6321ef5c910a",
   "metadata": {},
   "outputs": [
    {
     "data": {
      "text/plain": [
       "array([-0.55915734, -0.52506238, -0.49096742,  1.99796465, -0.4227775 ])"
      ]
     },
     "execution_count": 83,
     "metadata": {},
     "output_type": "execute_result"
    }
   ],
   "source": [
    "d = np.array([50,60,70,800,90])\n",
    "mean = np.mean(d)\n",
    "std_dev = np.std(d)\n",
    "zscore = (d-mean)/std_dev\n",
    "zscore"
   ]
  },
  {
   "cell_type": "code",
   "execution_count": 85,
   "id": "09a71e7c-515c-442f-b429-8640a112d2c7",
   "metadata": {},
   "outputs": [
    {
     "data": {
      "text/plain": [
       "array([800])"
      ]
     },
     "execution_count": 85,
     "metadata": {},
     "output_type": "execute_result"
    }
   ],
   "source": [
    "outliers = d[np.abs(zscore) >1.99]\n",
    "outliers"
   ]
  },
  {
   "cell_type": "code",
   "execution_count": 89,
   "id": "4b1a3d50-6011-4780-9844-75ea88bc5823",
   "metadata": {},
   "outputs": [
    {
     "data": {
      "text/plain": [
       "<Axes: >"
      ]
     },
     "execution_count": 89,
     "metadata": {},
     "output_type": "execute_result"
    },
    {
     "data": {
      "image/png": "[encoded data removed]",
      "text/plain": [
       "<Figure size 640x480 with 1 Axes>"
      ]
     },
     "metadata": {},
     "output_type": "display_data"
    }
   ],
   "source": [
    "sns.boxenplot(data=d)"
   ]
  },
  {
   "cell_type": "code",
   "execution_count": 91,
   "id": "93a5ee93-9a8b-4202-acbf-22dc625339d3",
   "metadata": {},
   "outputs": [
    {
     "data": {
      "text/plain": [
       "<Axes: >"
      ]
     },
     "execution_count": 91,
     "metadata": {},
     "output_type": "execute_result"
    },
    {
     "data": {
      "image/png": "[encoded data removed]",
      "text/plain": [
       "<Figure size 640x480 with 1 Axes>"
      ]
     },
     "metadata": {},
     "output_type": "display_data"
    }
   ],
   "source": [
    "d = np.array([50,60,70,80,90])\n",
    "mean = np.mean(d)\n",
    "std_dev = np.std(d)\n",
    "zscore = (d-mean)/std_dev\n",
    "zscore\n",
    "sns.boxplot(data=d)"
   ]
  },
  {
   "cell_type": "code",
   "execution_count": null,
   "id": "0b5ee864-f42e-488d-b5d6-a11137b79273",
   "metadata": {},
   "outputs": [],
   "source": [
    "# ploynomial regression\n",
    "# choose the degree \n",
    "# fit \n",
    "# evalue\n",
    "# y=b0+b1x+b2x.."
   ]
  },
  {
   "cell_type": "code",
   "execution_count": 101,
   "id": "9182bb2b-27f3-420c-acd7-33e747eff742",
   "metadata": {},
   "outputs": [
    {
     "name": "stdout",
     "output_type": "stream",
     "text": [
      "r= [ 1.        1.296875  1.59375   1.890625  2.1875    2.484375  2.78125\n",
      "  3.078125  3.375     3.671875  3.96875   4.265625  4.5625    4.859375\n",
      "  5.15625   5.453125  5.75      6.046875  6.34375   6.640625  6.9375\n",
      "  7.234375  7.53125   7.828125  8.125     8.421875  8.71875   9.015625\n",
      "  9.3125    9.609375  9.90625  10.203125 10.5      10.796875 11.09375\n",
      " 11.390625 11.6875   11.984375 12.28125  12.578125 12.875    13.171875\n",
      " 13.46875  13.765625 14.0625   14.359375 14.65625  14.953125 15.25\n",
      " 15.546875 15.84375  16.140625 16.4375   16.734375 17.03125  17.328125\n",
      " 17.625    17.921875 18.21875  18.515625 18.8125   19.109375 19.40625\n",
      " 19.703125 20.      ]\n"
     ]
    },
    {
     "data": {
      "text/plain": [
       "[<matplotlib.lines.Line2D at 0x20c95e25af0>]"
      ]
     },
     "execution_count": 101,
     "metadata": {},
     "output_type": "execute_result"
    },
    {
     "data": {
      "image/png": "[encoded data removed]",
      "text/plain": [
       "<Figure size 640x480 with 1 Axes>"
      ]
     },
     "metadata": {},
     "output_type": "display_data"
    }
   ],
   "source": [
    "x=[1,2,5,7,9,11,15,17,21]\n",
    "y=[65,55,50,40,35,42,49,55,65]\n",
    "model = np.poly1d(np.polyfit(x,y,3)) # x = 2 -> x0 ->1 ; x1 ->2 ; x2 ->4 ; x3 ->2*2*2 ->8\n",
    "r=np.linspace(1,20,65) # linspace(start,stop,number)\n",
    "print(\"r=\",r)\n",
    "plt.scatter(x,y)\n",
    "plt.plot(r,model(r))"
   ]
  },
  {
   "cell_type": "code",
   "execution_count": 103,
   "id": "9a4eb810-8254-4de3-9527-34f1e9def31f",
   "metadata": {},
   "outputs": [],
   "source": [
    "from sklearn.model_selection import train_test_split\n",
    "from sklearn.preprocessing import PolynomialFeatures"
   ]
  },
  {
   "cell_type": "code",
   "execution_count": 105,
   "id": "793bf8e1-fa66-4a07-8981-94ec53552a22",
   "metadata": {},
   "outputs": [
    {
     "data": {
      "text/html": [
       "<div>\n",
       "<style scoped>\n",
       "    .dataframe tbody tr th:only-of-type {\n",
       "        vertical-align: middle;\n",
       "    }\n",
       "\n",
       "    .dataframe tbody tr th {\n",
       "        vertical-align: top;\n",
       "    }\n",
       "\n",
       "    .dataframe thead th {\n",
       "        text-align: right;\n",
       "    }\n",
       "</style>\n",
       "<table border=\"1\" class=\"dataframe\">\n",
       "  <thead>\n",
       "    <tr style=\"text-align: right;\">\n",
       "      <th></th>\n",
       "      <th>Position</th>\n",
       "      <th>Level</th>\n",
       "      <th>Salary</th>\n",
       "    </tr>\n",
       "  </thead>\n",
       "  <tbody>\n",
       "    <tr>\n",
       "      <th>0</th>\n",
       "      <td>Business Analyst</td>\n",
       "      <td>1</td>\n",
       "      <td>45000</td>\n",
       "    </tr>\n",
       "    <tr>\n",
       "      <th>1</th>\n",
       "      <td>Junior Consultant</td>\n",
       "      <td>2</td>\n",
       "      <td>50000</td>\n",
       "    </tr>\n",
       "    <tr>\n",
       "      <th>2</th>\n",
       "      <td>Senior Consultant</td>\n",
       "      <td>3</td>\n",
       "      <td>60000</td>\n",
       "    </tr>\n",
       "  </tbody>\n",
       "</table>\n",
       "</div>"
      ],
      "text/plain": [
       "            Position  Level  Salary\n",
       "0   Business Analyst      1   45000\n",
       "1  Junior Consultant      2   50000\n",
       "2  Senior Consultant      3   60000"
      ]
     },
     "execution_count": 105,
     "metadata": {},
     "output_type": "execute_result"
    }
   ],
   "source": [
    "df_sal = pd.read_csv('Position_Salaries.csv')\n",
    "df_sal.head(3)"
   ]
  },
  {
   "cell_type": "code",
   "execution_count": 107,
   "id": "bab6f19b-729e-4e84-9df0-96f59c2dbab7",
   "metadata": {},
   "outputs": [
    {
     "data": {
      "text/plain": [
       "<matplotlib.collections.PathCollection at 0x20c940fb890>"
      ]
     },
     "execution_count": 107,
     "metadata": {},
     "output_type": "execute_result"
    },
    {
     "data": {
      "image/png": "[encoded data removed]",
      "text/plain": [
       "<Figure size 640x480 with 1 Axes>"
      ]
     },
     "metadata": {},
     "output_type": "display_data"
    }
   ],
   "source": [
    "plt.scatter(df_sal['Level'],df_sal['Salary'])"
   ]
  },
  {
   "cell_type": "code",
   "execution_count": 109,
   "id": "0471ea66-1577-472d-bab3-bb0446070e39",
   "metadata": {},
   "outputs": [],
   "source": [
    "# split data\n",
    "X = df_sal.iloc[:,1:-1].values\n",
    "Y = df_sal.iloc[:,-1].values"
   ]
  },
  {
   "cell_type": "code",
   "execution_count": 113,
   "id": "87e84e44-000a-490e-a468-17fa869d8f5f",
   "metadata": {},
   "outputs": [
    {
     "data": {
      "text/html": [
       "<style>#sk-container-id-1 {\n",
       "  /* Definition of color scheme common for light and dark mode */\n",
       "  --sklearn-color-text: black;\n",
       "  --sklearn-color-line: gray;\n",
       "  /* Definition of color scheme for unfitted estimators */\n",
       "  --sklearn-color-unfitted-level-0: #fff5e6;\n",
       "  --sklearn-color-unfitted-level-1: #f6e4d2;\n",
       "  --sklearn-color-unfitted-level-2: #ffe0b3;\n",
       "  --sklearn-color-unfitted-level-3: chocolate;\n",
       "  /* Definition of color scheme for fitted estimators */\n",
       "  --sklearn-color-fitted-level-0: #f0f8ff;\n",
       "  --sklearn-color-fitted-level-1: #d4ebff;\n",
       "  --sklearn-color-fitted-level-2: #b3dbfd;\n",
       "  --sklearn-color-fitted-level-3: cornflowerblue;\n",
       "\n",
       "  /* Specific color for light theme */\n",
       "  --sklearn-color-text-on-default-background: var(--sg-text-color, var(--theme-code-foreground, var(--jp-content-font-color1, black)));\n",
       "  --sklearn-color-background: var(--sg-background-color, var(--theme-background, var(--jp-layout-color0, white)));\n",
       "  --sklearn-color-border-box: var(--sg-text-color, var(--theme-code-foreground, var(--jp-content-font-color1, black)));\n",
       "  --sklearn-color-icon: #696969;\n",
       "\n",
       "  @media (prefers-color-scheme: dark) {\n",
       "    /* Redefinition of color scheme for dark theme */\n",
       "    --sklearn-color-text-on-default-background: var(--sg-text-color, var(--theme-code-foreground, var(--jp-content-font-color1, white)));\n",
       "    --sklearn-color-background: var(--sg-background-color, var(--theme-background, var(--jp-layout-color0, #111)));\n",
       "    --sklearn-color-border-box: var(--sg-text-color, var(--theme-code-foreground, var(--jp-content-font-color1, white)));\n",
       "    --sklearn-color-icon: #878787;\n",
       "  }\n",
       "}\n",
       "\n",
       "#sk-container-id-1 {\n",
       "  color: var(--sklearn-color-text);\n",
       "}\n",
       "\n",
       "#sk-container-id-1 pre {\n",
       "  padding: 0;\n",
       "}\n",
       "\n",
       "#sk-container-id-1 input.sk-hidden--visually {\n",
       "  border: 0;\n",
       "  clip: rect(1px 1px 1px 1px);\n",
       "  clip: rect(1px, 1px, 1px, 1px);\n",
       "  height: 1px;\n",
       "  margin: -1px;\n",
       "  overflow: hidden;\n",
       "  padding: 0;\n",
       "  position: absolute;\n",
       "  width: 1px;\n",
       "}\n",
       "\n",
       "#sk-container-id-1 div.sk-dashed-wrapped {\n",
       "  border: 1px dashed var(--sklearn-color-line);\n",
       "  margin: 0 0.4em 0.5em 0.4em;\n",
       "  box-sizing: border-box;\n",
       "  padding-bottom: 0.4em;\n",
       "  background-color: var(--sklearn-color-background);\n",
       "}\n",
       "\n",
       "#sk-container-id-1 div.sk-container {\n",
       "  /* jupyter's `normalize.less` sets `[hidden] { display: none; }`\n",
       "     but bootstrap.min.css set `[hidden] { display: none !important; }`\n",
       "     so we also need the `!important` here to be able to override the\n",
       "     default hidden behavior on the sphinx rendered scikit-learn.org.\n",
       "     See: https://github.com/scikit-learn/scikit-learn/issues/21755 */\n",
       "  display: inline-block !important;\n",
       "  position: relative;\n",
       "}\n",
       "\n",
       "#sk-container-id-1 div.sk-text-repr-fallback {\n",
       "  display: none;\n",
       "}\n",
       "\n",
       "div.sk-parallel-item,\n",
       "div.sk-serial,\n",
       "div.sk-item {\n",
       "  /* draw centered vertical line to link estimators */\n",
       "  background-image: linear-gradient(var(--sklearn-color-text-on-default-background), var(--sklearn-color-text-on-default-background));\n",
       "  background-size: 2px 100%;\n",
       "  background-repeat: no-repeat;\n",
       "  background-position: center center;\n",
       "}\n",
       "\n",
       "/* Parallel-specific style estimator block */\n",
       "\n",
       "#sk-container-id-1 div.sk-parallel-item::after {\n",
       "  content: \"\";\n",
       "  width: 100%;\n",
       "  border-bottom: 2px solid var(--sklearn-color-text-on-default-background);\n",
       "  flex-grow: 1;\n",
       "}\n",
       "\n",
       "#sk-container-id-1 div.sk-parallel {\n",
       "  display: flex;\n",
       "  align-items: stretch;\n",
       "  justify-content: center;\n",
       "  background-color: var(--sklearn-color-background);\n",
       "  position: relative;\n",
       "}\n",
       "\n",
       "#sk-container-id-1 div.sk-parallel-item {\n",
       "  display: flex;\n",
       "  flex-direction: column;\n",
       "}\n",
       "\n",
       "#sk-container-id-1 div.sk-parallel-item:first-child::after {\n",
       "  align-self: flex-end;\n",
       "  width: 50%;\n",
       "}\n",
       "\n",
       "#sk-container-id-1 div.sk-parallel-item:last-child::after {\n",
       "  align-self: flex-start;\n",
       "  width: 50%;\n",
       "}\n",
       "\n",
       "#sk-container-id-1 div.sk-parallel-item:only-child::after {\n",
       "  width: 0;\n",
       "}\n",
       "\n",
       "/* Serial-specific style estimator block */\n",
       "\n",
       "#sk-container-id-1 div.sk-serial {\n",
       "  display: flex;\n",
       "  flex-direction: column;\n",
       "  align-items: center;\n",
       "  background-color: var(--sklearn-color-background);\n",
       "  padding-right: 1em;\n",
       "  padding-left: 1em;\n",
       "}\n",
       "\n",
       "\n",
       "/* Toggleable style: style used for estimator/Pipeline/ColumnTransformer box that is\n",
       "clickable and can be expanded/collapsed.\n",
       "- Pipeline and ColumnTransformer use this feature and define the default style\n",
       "- Estimators will overwrite some part of the style using the `sk-estimator` class\n",
       "*/\n",
       "\n",
       "/* Pipeline and ColumnTransformer style (default) */\n",
       "\n",
       "#sk-container-id-1 div.sk-toggleable {\n",
       "  /* Default theme specific background. It is overwritten whether we have a\n",
       "  specific estimator or a Pipeline/ColumnTransformer */\n",
       "  background-color: var(--sklearn-color-background);\n",
       "}\n",
       "\n",
       "/* Toggleable label */\n",
       "#sk-container-id-1 label.sk-toggleable__label {\n",
       "  cursor: pointer;\n",
       "  display: block;\n",
       "  width: 100%;\n",
       "  margin-bottom: 0;\n",
       "  padding: 0.5em;\n",
       "  box-sizing: border-box;\n",
       "  text-align: center;\n",
       "}\n",
       "\n",
       "#sk-container-id-1 label.sk-toggleable__label-arrow:before {\n",
       "  /* Arrow on the left of the label */\n",
       "  content: \"▸\";\n",
       "  float: left;\n",
       "  margin-right: 0.25em;\n",
       "  color: var(--sklearn-color-icon);\n",
       "}\n",
       "\n",
       "#sk-container-id-1 label.sk-toggleable__label-arrow:hover:before {\n",
       "  color: var(--sklearn-color-text);\n",
       "}\n",
       "\n",
       "/* Toggleable content - dropdown */\n",
       "\n",
       "#sk-container-id-1 div.sk-toggleable__content {\n",
       "  max-height: 0;\n",
       "  max-width: 0;\n",
       "  overflow: hidden;\n",
       "  text-align: left;\n",
       "  /* unfitted */\n",
       "  background-color: var(--sklearn-color-unfitted-level-0);\n",
       "}\n",
       "\n",
       "#sk-container-id-1 div.sk-toggleable__content.fitted {\n",
       "  /* fitted */\n",
       "  background-color: var(--sklearn-color-fitted-level-0);\n",
       "}\n",
       "\n",
       "#sk-container-id-1 div.sk-toggleable__content pre {\n",
       "  margin: 0.2em;\n",
       "  border-radius: 0.25em;\n",
       "  color: var(--sklearn-color-text);\n",
       "  /* unfitted */\n",
       "  background-color: var(--sklearn-color-unfitted-level-0);\n",
       "}\n",
       "\n",
       "#sk-container-id-1 div.sk-toggleable__content.fitted pre {\n",
       "  /* unfitted */\n",
       "  background-color: var(--sklearn-color-fitted-level-0);\n",
       "}\n",
       "\n",
       "#sk-container-id-1 input.sk-toggleable__control:checked~div.sk-toggleable__content {\n",
       "  /* Expand drop-down */\n",
       "  max-height: 200px;\n",
       "  max-width: 100%;\n",
       "  overflow: auto;\n",
       "}\n",
       "\n",
       "#sk-container-id-1 input.sk-toggleable__control:checked~label.sk-toggleable__label-arrow:before {\n",
       "  content: \"▾\";\n",
       "}\n",
       "\n",
       "/* Pipeline/ColumnTransformer-specific style */\n",
       "\n",
       "#sk-container-id-1 div.sk-label input.sk-toggleable__control:checked~label.sk-toggleable__label {\n",
       "  color: var(--sklearn-color-text);\n",
       "  background-color: var(--sklearn-color-unfitted-level-2);\n",
       "}\n",
       "\n",
       "#sk-container-id-1 div.sk-label.fitted input.sk-toggleable__control:checked~label.sk-toggleable__label {\n",
       "  background-color: var(--sklearn-color-fitted-level-2);\n",
       "}\n",
       "\n",
       "/* Estimator-specific style */\n",
       "\n",
       "/* Colorize estimator box */\n",
       "#sk-container-id-1 div.sk-estimator input.sk-toggleable__control:checked~label.sk-toggleable__label {\n",
       "  /* unfitted */\n",
       "  background-color: var(--sklearn-color-unfitted-level-2);\n",
       "}\n",
       "\n",
       "#sk-container-id-1 div.sk-estimator.fitted input.sk-toggleable__control:checked~label.sk-toggleable__label {\n",
       "  /* fitted */\n",
       "  background-color: var(--sklearn-color-fitted-level-2);\n",
       "}\n",
       "\n",
       "#sk-container-id-1 div.sk-label label.sk-toggleable__label,\n",
       "#sk-container-id-1 div.sk-label label {\n",
       "  /* The background is the default theme color */\n",
       "  color: var(--sklearn-color-text-on-default-background);\n",
       "}\n",
       "\n",
       "/* On hover, darken the color of the background */\n",
       "#sk-container-id-1 div.sk-label:hover label.sk-toggleable__label {\n",
       "  color: var(--sklearn-color-text);\n",
       "  background-color: var(--sklearn-color-unfitted-level-2);\n",
       "}\n",
       "\n",
       "/* Label box, darken color on hover, fitted */\n",
       "#sk-container-id-1 div.sk-label.fitted:hover label.sk-toggleable__label.fitted {\n",
       "  color: var(--sklearn-color-text);\n",
       "  background-color: var(--sklearn-color-fitted-level-2);\n",
       "}\n",
       "\n",
       "/* Estimator label */\n",
       "\n",
       "#sk-container-id-1 div.sk-label label {\n",
       "  font-family: monospace;\n",
       "  font-weight: bold;\n",
       "  display: inline-block;\n",
       "  line-height: 1.2em;\n",
       "}\n",
       "\n",
       "#sk-container-id-1 div.sk-label-container {\n",
       "  text-align: center;\n",
       "}\n",
       "\n",
       "/* Estimator-specific */\n",
       "#sk-container-id-1 div.sk-estimator {\n",
       "  font-family: monospace;\n",
       "  border: 1px dotted var(--sklearn-color-border-box);\n",
       "  border-radius: 0.25em;\n",
       "  box-sizing: border-box;\n",
       "  margin-bottom: 0.5em;\n",
       "  /* unfitted */\n",
       "  background-color: var(--sklearn-color-unfitted-level-0);\n",
       "}\n",
       "\n",
       "#sk-container-id-1 div.sk-estimator.fitted {\n",
       "  /* fitted */\n",
       "  background-color: var(--sklearn-color-fitted-level-0);\n",
       "}\n",
       "\n",
       "/* on hover */\n",
       "#sk-container-id-1 div.sk-estimator:hover {\n",
       "  /* unfitted */\n",
       "  background-color: var(--sklearn-color-unfitted-level-2);\n",
       "}\n",
       "\n",
       "#sk-container-id-1 div.sk-estimator.fitted:hover {\n",
       "  /* fitted */\n",
       "  background-color: var(--sklearn-color-fitted-level-2);\n",
       "}\n",
       "\n",
       "/* Specification for estimator info (e.g. \"i\" and \"?\") */\n",
       "\n",
       "/* Common style for \"i\" and \"?\" */\n",
       "\n",
       ".sk-estimator-doc-link,\n",
       "a:link.sk-estimator-doc-link,\n",
       "a:visited.sk-estimator-doc-link {\n",
       "  float: right;\n",
       "  font-size: smaller;\n",
       "  line-height: 1em;\n",
       "  font-family: monospace;\n",
       "  background-color: var(--sklearn-color-background);\n",
       "  border-radius: 1em;\n",
       "  height: 1em;\n",
       "  width: 1em;\n",
       "  text-decoration: none !important;\n",
       "  margin-left: 1ex;\n",
       "  /* unfitted */\n",
       "  border: var(--sklearn-color-unfitted-level-1) 1pt solid;\n",
       "  color: var(--sklearn-color-unfitted-level-1);\n",
       "}\n",
       "\n",
       ".sk-estimator-doc-link.fitted,\n",
       "a:link.sk-estimator-doc-link.fitted,\n",
       "a:visited.sk-estimator-doc-link.fitted {\n",
       "  /* fitted */\n",
       "  border: var(--sklearn-color-fitted-level-1) 1pt solid;\n",
       "  color: var(--sklearn-color-fitted-level-1);\n",
       "}\n",
       "\n",
       "/* On hover */\n",
       "div.sk-estimator:hover .sk-estimator-doc-link:hover,\n",
       ".sk-estimator-doc-link:hover,\n",
       "div.sk-label-container:hover .sk-estimator-doc-link:hover,\n",
       ".sk-estimator-doc-link:hover {\n",
       "  /* unfitted */\n",
       "  background-color: var(--sklearn-color-unfitted-level-3);\n",
       "  color: var(--sklearn-color-background);\n",
       "  text-decoration: none;\n",
       "}\n",
       "\n",
       "div.sk-estimator.fitted:hover .sk-estimator-doc-link.fitted:hover,\n",
       ".sk-estimator-doc-link.fitted:hover,\n",
       "div.sk-label-container:hover .sk-estimator-doc-link.fitted:hover,\n",
       ".sk-estimator-doc-link.fitted:hover {\n",
       "  /* fitted */\n",
       "  background-color: var(--sklearn-color-fitted-level-3);\n",
       "  color: var(--sklearn-color-background);\n",
       "  text-decoration: none;\n",
       "}\n",
       "\n",
       "/* Span, style for the box shown on hovering the info icon */\n",
       ".sk-estimator-doc-link span {\n",
       "  display: none;\n",
       "  z-index: 9999;\n",
       "  position: relative;\n",
       "  font-weight: normal;\n",
       "  right: .2ex;\n",
       "  padding: .5ex;\n",
       "  margin: .5ex;\n",
       "  width: min-content;\n",
       "  min-width: 20ex;\n",
       "  max-width: 50ex;\n",
       "  color: var(--sklearn-color-text);\n",
       "  box-shadow: 2pt 2pt 4pt #999;\n",
       "  /* unfitted */\n",
       "  background: var(--sklearn-color-unfitted-level-0);\n",
       "  border: .5pt solid var(--sklearn-color-unfitted-level-3);\n",
       "}\n",
       "\n",
       ".sk-estimator-doc-link.fitted span {\n",
       "  /* fitted */\n",
       "  background: var(--sklearn-color-fitted-level-0);\n",
       "  border: var(--sklearn-color-fitted-level-3);\n",
       "}\n",
       "\n",
       ".sk-estimator-doc-link:hover span {\n",
       "  display: block;\n",
       "}\n",
       "\n",
       "/* \"?\"-specific style due to the `<a>` HTML tag */\n",
       "\n",
       "#sk-container-id-1 a.estimator_doc_link {\n",
       "  float: right;\n",
       "  font-size: 1rem;\n",
       "  line-height: 1em;\n",
       "  font-family: monospace;\n",
       "  background-color: var(--sklearn-color-background);\n",
       "  border-radius: 1rem;\n",
       "  height: 1rem;\n",
       "  width: 1rem;\n",
       "  text-decoration: none;\n",
       "  /* unfitted */\n",
       "  color: var(--sklearn-color-unfitted-level-1);\n",
       "  border: var(--sklearn-color-unfitted-level-1) 1pt solid;\n",
       "}\n",
       "\n",
       "#sk-container-id-1 a.estimator_doc_link.fitted {\n",
       "  /* fitted */\n",
       "  border: var(--sklearn-color-fitted-level-1) 1pt solid;\n",
       "  color: var(--sklearn-color-fitted-level-1);\n",
       "}\n",
       "\n",
       "/* On hover */\n",
       "#sk-container-id-1 a.estimator_doc_link:hover {\n",
       "  /* unfitted */\n",
       "  background-color: var(--sklearn-color-unfitted-level-3);\n",
       "  color: var(--sklearn-color-background);\n",
       "  text-decoration: none;\n",
       "}\n",
       "\n",
       "#sk-container-id-1 a.estimator_doc_link.fitted:hover {\n",
       "  /* fitted */\n",
       "  background-color: var(--sklearn-color-fitted-level-3);\n",
       "}\n",
       "</style><div id=\"sk-container-id-1\" class=\"sk-top-container\"><div class=\"sk-text-repr-fallback\"><pre>LinearRegression()</pre><b>In a Jupyter environment, please rerun this cell to show the HTML representation or trust the notebook. <br />On GitHub, the HTML representation is unable to render, please try loading this page with nbviewer.org.</b></div><div class=\"sk-container\" hidden><div class=\"sk-item\"><div class=\"sk-estimator fitted sk-toggleable\"><input class=\"sk-toggleable__control sk-hidden--visually\" id=\"sk-estimator-id-1\" type=\"checkbox\" checked><label for=\"sk-estimator-id-1\" class=\"sk-toggleable__label fitted sk-toggleable__label-arrow fitted\">&nbsp;&nbsp;LinearRegression<a class=\"sk-estimator-doc-link fitted\" rel=\"noreferrer\" target=\"_blank\" href=\"https://scikit-learn.org/1.4/modules/generated/sklearn.linear_model.LinearRegression.html\">?<span>Documentation for LinearRegression</span></a><span class=\"sk-estimator-doc-link fitted\">i<span>Fitted</span></span></label><div class=\"sk-toggleable__content fitted\"><pre>LinearRegression()</pre></div> </div></div></div></div>"
      ],
      "text/plain": [
       "LinearRegression()"
      ]
     },
     "execution_count": 113,
     "metadata": {},
     "output_type": "execute_result"
    }
   ],
   "source": [
    "# Linear Regression\n",
    "Lr = LinearRegression()\n",
    "Lr.fit(X,Y)"
   ]
  },
  {
   "cell_type": "code",
   "execution_count": 115,
   "id": "90122563-2d87-4d74-a603-d976c81bde13",
   "metadata": {},
   "outputs": [
    {
     "data": {
      "text/html": [
       "<style>#sk-container-id-2 {\n",
       "  /* Definition of color scheme common for light and dark mode */\n",
       "  --sklearn-color-text: black;\n",
       "  --sklearn-color-line: gray;\n",
       "  /* Definition of color scheme for unfitted estimators */\n",
       "  --sklearn-color-unfitted-level-0: #fff5e6;\n",
       "  --sklearn-color-unfitted-level-1: #f6e4d2;\n",
       "  --sklearn-color-unfitted-level-2: #ffe0b3;\n",
       "  --sklearn-color-unfitted-level-3: chocolate;\n",
       "  /* Definition of color scheme for fitted estimators */\n",
       "  --sklearn-color-fitted-level-0: #f0f8ff;\n",
       "  --sklearn-color-fitted-level-1: #d4ebff;\n",
       "  --sklearn-color-fitted-level-2: #b3dbfd;\n",
       "  --sklearn-color-fitted-level-3: cornflowerblue;\n",
       "\n",
       "  /* Specific color for light theme */\n",
       "  --sklearn-color-text-on-default-background: var(--sg-text-color, var(--theme-code-foreground, var(--jp-content-font-color1, black)));\n",
       "  --sklearn-color-background: var(--sg-background-color, var(--theme-background, var(--jp-layout-color0, white)));\n",
       "  --sklearn-color-border-box: var(--sg-text-color, var(--theme-code-foreground, var(--jp-content-font-color1, black)));\n",
       "  --sklearn-color-icon: #696969;\n",
       "\n",
       "  @media (prefers-color-scheme: dark) {\n",
       "    /* Redefinition of color scheme for dark theme */\n",
       "    --sklearn-color-text-on-default-background: var(--sg-text-color, var(--theme-code-foreground, var(--jp-content-font-color1, white)));\n",
       "    --sklearn-color-background: var(--sg-background-color, var(--theme-background, var(--jp-layout-color0, #111)));\n",
       "    --sklearn-color-border-box: var(--sg-text-color, var(--theme-code-foreground, var(--jp-content-font-color1, white)));\n",
       "    --sklearn-color-icon: #878787;\n",
       "  }\n",
       "}\n",
       "\n",
       "#sk-container-id-2 {\n",
       "  color: var(--sklearn-color-text);\n",
       "}\n",
       "\n",
       "#sk-container-id-2 pre {\n",
       "  padding: 0;\n",
       "}\n",
       "\n",
       "#sk-container-id-2 input.sk-hidden--visually {\n",
       "  border: 0;\n",
       "  clip: rect(1px 1px 1px 1px);\n",
       "  clip: rect(1px, 1px, 1px, 1px);\n",
       "  height: 1px;\n",
       "  margin: -1px;\n",
       "  overflow: hidden;\n",
       "  padding: 0;\n",
       "  position: absolute;\n",
       "  width: 1px;\n",
       "}\n",
       "\n",
       "#sk-container-id-2 div.sk-dashed-wrapped {\n",
       "  border: 1px dashed var(--sklearn-color-line);\n",
       "  margin: 0 0.4em 0.5em 0.4em;\n",
       "  box-sizing: border-box;\n",
       "  padding-bottom: 0.4em;\n",
       "  background-color: var(--sklearn-color-background);\n",
       "}\n",
       "\n",
       "#sk-container-id-2 div.sk-container {\n",
       "  /* jupyter's `normalize.less` sets `[hidden] { display: none; }`\n",
       "     but bootstrap.min.css set `[hidden] { display: none !important; }`\n",
       "     so we also need the `!important` here to be able to override the\n",
       "     default hidden behavior on the sphinx rendered scikit-learn.org.\n",
       "     See: https://github.com/scikit-learn/scikit-learn/issues/21755 */\n",
       "  display: inline-block !important;\n",
       "  position: relative;\n",
       "}\n",
       "\n",
       "#sk-container-id-2 div.sk-text-repr-fallback {\n",
       "  display: none;\n",
       "}\n",
       "\n",
       "div.sk-parallel-item,\n",
       "div.sk-serial,\n",
       "div.sk-item {\n",
       "  /* draw centered vertical line to link estimators */\n",
       "  background-image: linear-gradient(var(--sklearn-color-text-on-default-background), var(--sklearn-color-text-on-default-background));\n",
       "  background-size: 2px 100%;\n",
       "  background-repeat: no-repeat;\n",
       "  background-position: center center;\n",
       "}\n",
       "\n",
       "/* Parallel-specific style estimator block */\n",
       "\n",
       "#sk-container-id-2 div.sk-parallel-item::after {\n",
       "  content: \"\";\n",
       "  width: 100%;\n",
       "  border-bottom: 2px solid var(--sklearn-color-text-on-default-background);\n",
       "  flex-grow: 1;\n",
       "}\n",
       "\n",
       "#sk-container-id-2 div.sk-parallel {\n",
       "  display: flex;\n",
       "  align-items: stretch;\n",
       "  justify-content: center;\n",
       "  background-color: var(--sklearn-color-background);\n",
       "  position: relative;\n",
       "}\n",
       "\n",
       "#sk-container-id-2 div.sk-parallel-item {\n",
       "  display: flex;\n",
       "  flex-direction: column;\n",
       "}\n",
       "\n",
       "#sk-container-id-2 div.sk-parallel-item:first-child::after {\n",
       "  align-self: flex-end;\n",
       "  width: 50%;\n",
       "}\n",
       "\n",
       "#sk-container-id-2 div.sk-parallel-item:last-child::after {\n",
       "  align-self: flex-start;\n",
       "  width: 50%;\n",
       "}\n",
       "\n",
       "#sk-container-id-2 div.sk-parallel-item:only-child::after {\n",
       "  width: 0;\n",
       "}\n",
       "\n",
       "/* Serial-specific style estimator block */\n",
       "\n",
       "#sk-container-id-2 div.sk-serial {\n",
       "  display: flex;\n",
       "  flex-direction: column;\n",
       "  align-items: center;\n",
       "  background-color: var(--sklearn-color-background);\n",
       "  padding-right: 1em;\n",
       "  padding-left: 1em;\n",
       "}\n",
       "\n",
       "\n",
       "/* Toggleable style: style used for estimator/Pipeline/ColumnTransformer box that is\n",
       "clickable and can be expanded/collapsed.\n",
       "- Pipeline and ColumnTransformer use this feature and define the default style\n",
       "- Estimators will overwrite some part of the style using the `sk-estimator` class\n",
       "*/\n",
       "\n",
       "/* Pipeline and ColumnTransformer style (default) */\n",
       "\n",
       "#sk-container-id-2 div.sk-toggleable {\n",
       "  /* Default theme specific background. It is overwritten whether we have a\n",
       "  specific estimator or a Pipeline/ColumnTransformer */\n",
       "  background-color: var(--sklearn-color-background);\n",
       "}\n",
       "\n",
       "/* Toggleable label */\n",
       "#sk-container-id-2 label.sk-toggleable__label {\n",
       "  cursor: pointer;\n",
       "  display: block;\n",
       "  width: 100%;\n",
       "  margin-bottom: 0;\n",
       "  padding: 0.5em;\n",
       "  box-sizing: border-box;\n",
       "  text-align: center;\n",
       "}\n",
       "\n",
       "#sk-container-id-2 label.sk-toggleable__label-arrow:before {\n",
       "  /* Arrow on the left of the label */\n",
       "  content: \"▸\";\n",
       "  float: left;\n",
       "  margin-right: 0.25em;\n",
       "  color: var(--sklearn-color-icon);\n",
       "}\n",
       "\n",
       "#sk-container-id-2 label.sk-toggleable__label-arrow:hover:before {\n",
       "  color: var(--sklearn-color-text);\n",
       "}\n",
       "\n",
       "/* Toggleable content - dropdown */\n",
       "\n",
       "#sk-container-id-2 div.sk-toggleable__content {\n",
       "  max-height: 0;\n",
       "  max-width: 0;\n",
       "  overflow: hidden;\n",
       "  text-align: left;\n",
       "  /* unfitted */\n",
       "  background-color: var(--sklearn-color-unfitted-level-0);\n",
       "}\n",
       "\n",
       "#sk-container-id-2 div.sk-toggleable__content.fitted {\n",
       "  /* fitted */\n",
       "  background-color: var(--sklearn-color-fitted-level-0);\n",
       "}\n",
       "\n",
       "#sk-container-id-2 div.sk-toggleable__content pre {\n",
       "  margin: 0.2em;\n",
       "  border-radius: 0.25em;\n",
       "  color: var(--sklearn-color-text);\n",
       "  /* unfitted */\n",
       "  background-color: var(--sklearn-color-unfitted-level-0);\n",
       "}\n",
       "\n",
       "#sk-container-id-2 div.sk-toggleable__content.fitted pre {\n",
       "  /* unfitted */\n",
       "  background-color: var(--sklearn-color-fitted-level-0);\n",
       "}\n",
       "\n",
       "#sk-container-id-2 input.sk-toggleable__control:checked~div.sk-toggleable__content {\n",
       "  /* Expand drop-down */\n",
       "  max-height: 200px;\n",
       "  max-width: 100%;\n",
       "  overflow: auto;\n",
       "}\n",
       "\n",
       "#sk-container-id-2 input.sk-toggleable__control:checked~label.sk-toggleable__label-arrow:before {\n",
       "  content: \"▾\";\n",
       "}\n",
       "\n",
       "/* Pipeline/ColumnTransformer-specific style */\n",
       "\n",
       "#sk-container-id-2 div.sk-label input.sk-toggleable__control:checked~label.sk-toggleable__label {\n",
       "  color: var(--sklearn-color-text);\n",
       "  background-color: var(--sklearn-color-unfitted-level-2);\n",
       "}\n",
       "\n",
       "#sk-container-id-2 div.sk-label.fitted input.sk-toggleable__control:checked~label.sk-toggleable__label {\n",
       "  background-color: var(--sklearn-color-fitted-level-2);\n",
       "}\n",
       "\n",
       "/* Estimator-specific style */\n",
       "\n",
       "/* Colorize estimator box */\n",
       "#sk-container-id-2 div.sk-estimator input.sk-toggleable__control:checked~label.sk-toggleable__label {\n",
       "  /* unfitted */\n",
       "  background-color: var(--sklearn-color-unfitted-level-2);\n",
       "}\n",
       "\n",
       "#sk-container-id-2 div.sk-estimator.fitted input.sk-toggleable__control:checked~label.sk-toggleable__label {\n",
       "  /* fitted */\n",
       "  background-color: var(--sklearn-color-fitted-level-2);\n",
       "}\n",
       "\n",
       "#sk-container-id-2 div.sk-label label.sk-toggleable__label,\n",
       "#sk-container-id-2 div.sk-label label {\n",
       "  /* The background is the default theme color */\n",
       "  color: var(--sklearn-color-text-on-default-background);\n",
       "}\n",
       "\n",
       "/* On hover, darken the color of the background */\n",
       "#sk-container-id-2 div.sk-label:hover label.sk-toggleable__label {\n",
       "  color: var(--sklearn-color-text);\n",
       "  background-color: var(--sklearn-color-unfitted-level-2);\n",
       "}\n",
       "\n",
       "/* Label box, darken color on hover, fitted */\n",
       "#sk-container-id-2 div.sk-label.fitted:hover label.sk-toggleable__label.fitted {\n",
       "  color: var(--sklearn-color-text);\n",
       "  background-color: var(--sklearn-color-fitted-level-2);\n",
       "}\n",
       "\n",
       "/* Estimator label */\n",
       "\n",
       "#sk-container-id-2 div.sk-label label {\n",
       "  font-family: monospace;\n",
       "  font-weight: bold;\n",
       "  display: inline-block;\n",
       "  line-height: 1.2em;\n",
       "}\n",
       "\n",
       "#sk-container-id-2 div.sk-label-container {\n",
       "  text-align: center;\n",
       "}\n",
       "\n",
       "/* Estimator-specific */\n",
       "#sk-container-id-2 div.sk-estimator {\n",
       "  font-family: monospace;\n",
       "  border: 1px dotted var(--sklearn-color-border-box);\n",
       "  border-radius: 0.25em;\n",
       "  box-sizing: border-box;\n",
       "  margin-bottom: 0.5em;\n",
       "  /* unfitted */\n",
       "  background-color: var(--sklearn-color-unfitted-level-0);\n",
       "}\n",
       "\n",
       "#sk-container-id-2 div.sk-estimator.fitted {\n",
       "  /* fitted */\n",
       "  background-color: var(--sklearn-color-fitted-level-0);\n",
       "}\n",
       "\n",
       "/* on hover */\n",
       "#sk-container-id-2 div.sk-estimator:hover {\n",
       "  /* unfitted */\n",
       "  background-color: var(--sklearn-color-unfitted-level-2);\n",
       "}\n",
       "\n",
       "#sk-container-id-2 div.sk-estimator.fitted:hover {\n",
       "  /* fitted */\n",
       "  background-color: var(--sklearn-color-fitted-level-2);\n",
       "}\n",
       "\n",
       "/* Specification for estimator info (e.g. \"i\" and \"?\") */\n",
       "\n",
       "/* Common style for \"i\" and \"?\" */\n",
       "\n",
       ".sk-estimator-doc-link,\n",
       "a:link.sk-estimator-doc-link,\n",
       "a:visited.sk-estimator-doc-link {\n",
       "  float: right;\n",
       "  font-size: smaller;\n",
       "  line-height: 1em;\n",
       "  font-family: monospace;\n",
       "  background-color: var(--sklearn-color-background);\n",
       "  border-radius: 1em;\n",
       "  height: 1em;\n",
       "  width: 1em;\n",
       "  text-decoration: none !important;\n",
       "  margin-left: 1ex;\n",
       "  /* unfitted */\n",
       "  border: var(--sklearn-color-unfitted-level-1) 1pt solid;\n",
       "  color: var(--sklearn-color-unfitted-level-1);\n",
       "}\n",
       "\n",
       ".sk-estimator-doc-link.fitted,\n",
       "a:link.sk-estimator-doc-link.fitted,\n",
       "a:visited.sk-estimator-doc-link.fitted {\n",
       "  /* fitted */\n",
       "  border: var(--sklearn-color-fitted-level-1) 1pt solid;\n",
       "  color: var(--sklearn-color-fitted-level-1);\n",
       "}\n",
       "\n",
       "/* On hover */\n",
       "div.sk-estimator:hover .sk-estimator-doc-link:hover,\n",
       ".sk-estimator-doc-link:hover,\n",
       "div.sk-label-container:hover .sk-estimator-doc-link:hover,\n",
       ".sk-estimator-doc-link:hover {\n",
       "  /* unfitted */\n",
       "  background-color: var(--sklearn-color-unfitted-level-3);\n",
       "  color: var(--sklearn-color-background);\n",
       "  text-decoration: none;\n",
       "}\n",
       "\n",
       "div.sk-estimator.fitted:hover .sk-estimator-doc-link.fitted:hover,\n",
       ".sk-estimator-doc-link.fitted:hover,\n",
       "div.sk-label-container:hover .sk-estimator-doc-link.fitted:hover,\n",
       ".sk-estimator-doc-link.fitted:hover {\n",
       "  /* fitted */\n",
       "  background-color: var(--sklearn-color-fitted-level-3);\n",
       "  color: var(--sklearn-color-background);\n",
       "  text-decoration: none;\n",
       "}\n",
       "\n",
       "/* Span, style for the box shown on hovering the info icon */\n",
       ".sk-estimator-doc-link span {\n",
       "  display: none;\n",
       "  z-index: 9999;\n",
       "  position: relative;\n",
       "  font-weight: normal;\n",
       "  right: .2ex;\n",
       "  padding: .5ex;\n",
       "  margin: .5ex;\n",
       "  width: min-content;\n",
       "  min-width: 20ex;\n",
       "  max-width: 50ex;\n",
       "  color: var(--sklearn-color-text);\n",
       "  box-shadow: 2pt 2pt 4pt #999;\n",
       "  /* unfitted */\n",
       "  background: var(--sklearn-color-unfitted-level-0);\n",
       "  border: .5pt solid var(--sklearn-color-unfitted-level-3);\n",
       "}\n",
       "\n",
       ".sk-estimator-doc-link.fitted span {\n",
       "  /* fitted */\n",
       "  background: var(--sklearn-color-fitted-level-0);\n",
       "  border: var(--sklearn-color-fitted-level-3);\n",
       "}\n",
       "\n",
       ".sk-estimator-doc-link:hover span {\n",
       "  display: block;\n",
       "}\n",
       "\n",
       "/* \"?\"-specific style due to the `<a>` HTML tag */\n",
       "\n",
       "#sk-container-id-2 a.estimator_doc_link {\n",
       "  float: right;\n",
       "  font-size: 1rem;\n",
       "  line-height: 1em;\n",
       "  font-family: monospace;\n",
       "  background-color: var(--sklearn-color-background);\n",
       "  border-radius: 1rem;\n",
       "  height: 1rem;\n",
       "  width: 1rem;\n",
       "  text-decoration: none;\n",
       "  /* unfitted */\n",
       "  color: var(--sklearn-color-unfitted-level-1);\n",
       "  border: var(--sklearn-color-unfitted-level-1) 1pt solid;\n",
       "}\n",
       "\n",
       "#sk-container-id-2 a.estimator_doc_link.fitted {\n",
       "  /* fitted */\n",
       "  border: var(--sklearn-color-fitted-level-1) 1pt solid;\n",
       "  color: var(--sklearn-color-fitted-level-1);\n",
       "}\n",
       "\n",
       "/* On hover */\n",
       "#sk-container-id-2 a.estimator_doc_link:hover {\n",
       "  /* unfitted */\n",
       "  background-color: var(--sklearn-color-unfitted-level-3);\n",
       "  color: var(--sklearn-color-background);\n",
       "  text-decoration: none;\n",
       "}\n",
       "\n",
       "#sk-container-id-2 a.estimator_doc_link.fitted:hover {\n",
       "  /* fitted */\n",
       "  background-color: var(--sklearn-color-fitted-level-3);\n",
       "}\n",
       "</style><div id=\"sk-container-id-2\" class=\"sk-top-container\"><div class=\"sk-text-repr-fallback\"><pre>LinearRegression()</pre><b>In a Jupyter environment, please rerun this cell to show the HTML representation or trust the notebook. <br />On GitHub, the HTML representation is unable to render, please try loading this page with nbviewer.org.</b></div><div class=\"sk-container\" hidden><div class=\"sk-item\"><div class=\"sk-estimator fitted sk-toggleable\"><input class=\"sk-toggleable__control sk-hidden--visually\" id=\"sk-estimator-id-2\" type=\"checkbox\" checked><label for=\"sk-estimator-id-2\" class=\"sk-toggleable__label fitted sk-toggleable__label-arrow fitted\">&nbsp;&nbsp;LinearRegression<a class=\"sk-estimator-doc-link fitted\" rel=\"noreferrer\" target=\"_blank\" href=\"https://scikit-learn.org/1.4/modules/generated/sklearn.linear_model.LinearRegression.html\">?<span>Documentation for LinearRegression</span></a><span class=\"sk-estimator-doc-link fitted\">i<span>Fitted</span></span></label><div class=\"sk-toggleable__content fitted\"><pre>LinearRegression()</pre></div> </div></div></div></div>"
      ],
      "text/plain": [
       "LinearRegression()"
      ]
     },
     "execution_count": 115,
     "metadata": {},
     "output_type": "execute_result"
    }
   ],
   "source": [
    "pr = PolynomialFeatures(degree=4)\n",
    "X_poly = pr.fit_transform(X)\n",
    "Lr2 = LinearRegression()\n",
    "Lr2.fit(X_poly,Y)"
   ]
  },
  {
   "cell_type": "code",
   "execution_count": 121,
   "id": "cd0fd5bf-8778-4a61-8b78-1f0d3d5d638c",
   "metadata": {},
   "outputs": [
    {
     "data": {
      "text/plain": [
       "[<matplotlib.lines.Line2D at 0x20c96cf6d80>]"
      ]
     },
     "execution_count": 121,
     "metadata": {},
     "output_type": "execute_result"
    },
    {
     "data": {
      "image/png": "[encoded data removed]",
      "text/plain": [
       "<Figure size 640x480 with 1 Axes>"
      ]
     },
     "metadata": {},
     "output_type": "display_data"
    }
   ],
   "source": [
    "y_pred_lr = Lr.predict(X) # linear regression\n",
    "y_pred_poly = Lr2.predict(X_poly) # polynomial regression\n",
    "\n",
    "plt.scatter(X,Y)\n",
    "plt.plot(X,Lr.predict(X),c='r')\n"
   ]
  },
  {
   "cell_type": "code",
   "execution_count": 125,
   "id": "b6fa949e-a43c-4a78-bb8f-6e0fa61f78a0",
   "metadata": {},
   "outputs": [
    {
     "data": {
      "text/plain": [
       "[<matplotlib.lines.Line2D at 0x20c99edf020>]"
      ]
     },
     "execution_count": 125,
     "metadata": {},
     "output_type": "execute_result"
    },
    {
     "data": {
      "image/png": "[encoded data removed]",
      "text/plain": [
       "<Figure size 640x480 with 1 Axes>"
      ]
     },
     "metadata": {},
     "output_type": "display_data"
    }
   ],
   "source": [
    "plt.scatter(X,Y)\n",
    "plt.plot(X,Lr2.predict(X_poly),color='red')"
   ]
  },
  {
   "cell_type": "code",
   "execution_count": 127,
   "id": "115ce087-49a6-4614-906c-78077434d0b9",
   "metadata": {},
   "outputs": [],
   "source": [
    "import networkx as nx\n",
    "import matplotlib.pyplot as plt\n",
    "\n",
    "# 1st create Graph object         =>  Gobj  = nx.Graph()\n",
    "# 2nd add edges from set of nodes => Gobj.add_edges_from([(),(),()])\n",
    "#  ....\n",
    "# finally - display  => nx.draw(Gobj) Vs nx.draw_networkx(Gobj)"
   ]
  },
  {
   "cell_type": "code",
   "execution_count": 131,
   "id": "c87ea3f5-67d6-4a1a-9846-3ddcf70540c6",
   "metadata": {},
   "outputs": [
    {
     "data": {
      "image/png": "[encoded data removed]",
      "text/plain": [
       "<Figure size 640x480 with 1 Axes>"
      ]
     },
     "metadata": {},
     "output_type": "display_data"
    }
   ],
   "source": [
    "Gobj = nx.Graph()\n",
    "Gobj.add_edges_from([('A','B'),('A','C'),('B','D'),('B','E'),('C','F')])\n",
    "nx.draw(Gobj)"
   ]
  },
  {
   "cell_type": "code",
   "execution_count": 133,
   "id": "e066ad74-ef31-469f-95f1-3a7058c4e0bd",
   "metadata": {},
   "outputs": [
    {
     "data": {
      "image/png": "[encoded data removed]",
      "text/plain": [
       "<Figure size 640x480 with 1 Axes>"
      ]
     },
     "metadata": {},
     "output_type": "display_data"
    }
   ],
   "source": [
    "Gobj = nx.Graph()\n",
    "Gobj.add_edges_from([('A','B'),('A','C'),('B','D'),('B','E'),('C','F')])\n",
    "nx.draw_networkx(Gobj)"
   ]
  },
  {
   "cell_type": "code",
   "execution_count": 135,
   "id": "e1bac661-ec14-47f8-ba2b-010a84e06f10",
   "metadata": {},
   "outputs": [
    {
     "data": {
      "image/png": "[encoded data removed]",
      "text/plain": [
       "<Figure size 640x480 with 1 Axes>"
      ]
     },
     "metadata": {},
     "output_type": "display_data"
    }
   ],
   "source": [
    "Gobj = nx.DiGraph() # Directed Graph\n",
    "Gobj.add_edges_from([('A','B'),('A','C'),('B','D'),('B','E'),('C','F')])\n",
    "nx.draw_networkx(Gobj)"
   ]
  },
  {
   "cell_type": "code",
   "execution_count": 139,
   "id": "e552c08a-f158-466c-80ab-fd7ad5a4dc1c",
   "metadata": {},
   "outputs": [
    {
     "data": {
      "text/plain": [
       "True"
      ]
     },
     "execution_count": 139,
     "metadata": {},
     "output_type": "execute_result"
    }
   ],
   "source": [
    "G1 = nx.Graph()\n",
    "G1.add_edges_from([(1,2),(2,3),(3,1)])\n",
    "nx.is_connected(G1)"
   ]
  },
  {
   "cell_type": "code",
   "execution_count": 145,
   "id": "26c1bedf-1d83-4998-9740-38f321ad8ce7",
   "metadata": {},
   "outputs": [
    {
     "data": {
      "text/plain": [
       "False"
      ]
     },
     "execution_count": 145,
     "metadata": {},
     "output_type": "execute_result"
    }
   ],
   "source": [
    "G2 = nx.Graph()\n",
    "G2.add_edges_from([(1,2),(2,3),(3,1),(4,5)])\n",
    "nx.is_connected(G2)"
   ]
  },
  {
   "cell_type": "code",
   "execution_count": null,
   "id": "7ae8d82c-4c64-42af-b84a-91e0a9083557",
   "metadata": {},
   "outputs": [],
   "source": [
    "To create weigthed graph \n",
    " [node1] <-------<Weight>---------> [node2]\n",
    "               |->edge attributes"
   ]
  },
  {
   "cell_type": "code",
   "execution_count": 171,
   "id": "f2b32912-7529-476f-877b-9863bc275733",
   "metadata": {},
   "outputs": [
    {
     "name": "stdout",
     "output_type": "stream",
     "text": [
      "{(1, 2): 10, (2, 3): 15}\n"
     ]
    }
   ],
   "source": [
    "G = nx.Graph()\n",
    "G.add_edge(1,2,weight=10)\n",
    "G.add_edge(2,3,weight=15)\n",
    "weights = nx.get_edge_attributes(G,'weight')\n",
    "print(weights)"
   ]
  },
  {
   "cell_type": "code",
   "execution_count": 169,
   "id": "3df4884c-cafa-4d58-803b-2cda87e56f20",
   "metadata": {},
   "outputs": [
    {
     "data": {
      "image/png": "[encoded data removed]",
      "text/plain": [
       "<Figure size 640x480 with 1 Axes>"
      ]
     },
     "metadata": {},
     "output_type": "display_data"
    }
   ],
   "source": [
    "G[1][2]['color']='green' # adding edge attributes\n",
    "colors = nx.get_edge_attributes(G,'color')\n",
    "pos=nx.spring_layout(G)\n",
    "nx.draw(G,pos,with_labels=True)\n",
    "nx.draw_networkx_edge_labels(G,pos,edge_labels=weights)\n",
    "plt.show()"
   ]
  },
  {
   "cell_type": "code",
   "execution_count": 173,
   "id": "ceaf4e77-d231-4869-855c-3508a9958399",
   "metadata": {},
   "outputs": [
    {
     "data": {
      "image/png": "[encoded data removed]",
      "text/plain": [
       "<Figure size 640x480 with 1 Axes>"
      ]
     },
     "metadata": {},
     "output_type": "display_data"
    }
   ],
   "source": [
    "Gobj = nx.DiGraph() # Directed Graph\n",
    "Gobj.add_edges_from([('A','B'),('A','C'),('B','D'),('B','E'),('C','F')])\n",
    "nx.draw_networkx(Gobj)"
   ]
  },
  {
   "cell_type": "code",
   "execution_count": 175,
   "id": "bf417468-8248-4f3c-8863-bed5b0be36b5",
   "metadata": {},
   "outputs": [
    {
     "data": {
      "image/png": "[encoded data removed]",
      "text/plain": [
       "<Figure size 640x480 with 1 Axes>"
      ]
     },
     "metadata": {},
     "output_type": "display_data"
    }
   ],
   "source": [
    "Gobj = nx.DiGraph() # Directed Graph\n",
    "Gobj.add_edges_from([('A','B'),('A','C'),('B','D'),('B','E'),('C','F')])\n",
    "nx.draw_networkx(Gobj)"
   ]
  },
  {
   "cell_type": "code",
   "execution_count": 179,
   "id": "14264fe4-0870-40ba-b77a-36d332988da3",
   "metadata": {},
   "outputs": [
    {
     "data": {
      "image/png": "[encoded data removed]",
      "text/plain": [
       "<Figure size 640x480 with 1 Axes>"
      ]
     },
     "metadata": {},
     "output_type": "display_data"
    }
   ],
   "source": [
    "Gobj = nx.DiGraph() # Directed Graph\n",
    "Gobj.add_edges_from([('A','B'),('A','C'),('B','D'),('B','E'),('C','F')])\n",
    "nx.draw_networkx(Gobj,pos=nx.spring_layout(Gobj,seed=0))"
   ]
  },
  {
   "cell_type": "code",
   "execution_count": 181,
   "id": "f926b48d-69eb-460e-9394-53daa1383055",
   "metadata": {},
   "outputs": [
    {
     "data": {
      "image/png": "[encoded data removed]",
      "text/plain": [
       "<Figure size 640x480 with 1 Axes>"
      ]
     },
     "metadata": {},
     "output_type": "display_data"
    }
   ],
   "source": [
    "Gobj = nx.DiGraph() # Directed Graph\n",
    "Gobj.add_edges_from([('A','B'),('A','C'),('B','D'),('B','E'),('C','F')])\n",
    "nx.draw_networkx(Gobj,pos=nx.spring_layout(Gobj,seed=0))"
   ]
  },
  {
   "cell_type": "code",
   "execution_count": 193,
   "id": "946d4d22-431b-4086-9d56-2e170e9af3a2",
   "metadata": {},
   "outputs": [
    {
     "data": {
      "image/png": "[encoded data removed]",
      "text/plain": [
       "<Figure size 640x480 with 1 Axes>"
      ]
     },
     "metadata": {},
     "output_type": "display_data"
    }
   ],
   "source": [
    "Gobj = nx.DiGraph() # Directed Graph\n",
    "Gobj.add_edges_from([('A','B'),('A','C'),('B','D'),('B','E'),('C','F')])\n",
    "nx.draw_networkx(Gobj,pos=nx.spring_layout(Gobj,seed=0),node_size=600,font_size=10,font_color='yellow')"
   ]
  },
  {
   "cell_type": "code",
   "execution_count": 209,
   "id": "f848c758-6d24-4b23-ab9f-ce50523422c1",
   "metadata": {},
   "outputs": [
    {
     "data": {
      "text/plain": [
       "{('A', 'B'): Text(-0.0006736890616168599, 0.019902235845012606, '10'),\n",
       " ('A', 'C'): Text(0.023609100273693253, -0.7037328829692673, '20'),\n",
       " ('B', 'D'): Text(-0.02360910027369325, 0.7037328829692668, '30')}"
      ]
     },
     "execution_count": 209,
     "metadata": {},
     "output_type": "execute_result"
    },
    {
     "data": {
      "image/png": "[encoded data removed]",
      "text/plain": [
       "<Figure size 640x480 with 1 Axes>"
      ]
     },
     "metadata": {},
     "output_type": "display_data"
    }
   ],
   "source": [
    "WGobj = nx.Graph()\n",
    "\n",
    "L=[('A','B',{'weight': 10}),('A','C',{'weight':20}),('B','D',{'weight':30})]\n",
    "WGobj.add_edges_from(L)\n",
    "labels = nx.get_edge_attributes(WGobj,'weight')\n",
    "\n",
    "nx.draw_networkx(WGobj,pos=nx.spring_layout(WGobj,seed=0),node_size=600,font_size=12,font_color='white')\n",
    "nx.draw_networkx_edge_labels(WGobj,pos=nx.spring_layout(WGobj,seed=0),edge_labels=labels)"
   ]
  },
  {
   "cell_type": "code",
   "execution_count": 217,
   "id": "41ef4ff8-1e98-499d-8f10-4c454083b836",
   "metadata": {},
   "outputs": [
    {
     "data": {
      "text/plain": [
       "{('A', 'B'): Text(0.0972660951466324, -0.05577539664040915, '10'),\n",
       " ('A', 'C'): Text(-0.4590570629052718, -0.6334569713728038, '20'),\n",
       " ('B', 'D'): Text(0.4590570629052718, 0.6334569713728038, '30')}"
      ]
     },
     "execution_count": 217,
     "metadata": {},
     "output_type": "execute_result"
    },
    {
     "data": {
      "image/png": "[encoded data removed]",
      "text/plain": [
       "<Figure size 640x480 with 1 Axes>"
      ]
     },
     "metadata": {},
     "output_type": "display_data"
    }
   ],
   "source": [
    "WGobj = nx.Graph()\n",
    "\n",
    "L=[('A','B',{'Km': 10}),('A','C',{'Km':20}),('B','D',{'Km':30})]\n",
    "WGobj.add_edges_from(L)\n",
    "labels = nx.get_edge_attributes(WGobj,'Km')\n",
    "\n",
    "nx.draw_networkx(WGobj,pos=nx.spring_layout(WGobj,seed=0),node_size=600,font_size=12,font_color='white')\n",
    "nx.draw_networkx_edge_labels(WGobj,pos=nx.spring_layout(WGobj,seed=0),edge_labels=labels)"
   ]
  },
  {
   "cell_type": "code",
   "execution_count": 223,
   "id": "b10df473-946d-4895-bfb9-f8ea7391d53e",
   "metadata": {},
   "outputs": [
    {
     "data": {
      "text/plain": [
       "{('A', 'B'): Text(-0.0006736890616168599, 0.019902235845012606, '10'),\n",
       " ('A', 'C'): Text(0.023609100273693253, -0.7037328829692673, '20'),\n",
       " ('B', 'D'): Text(-0.02360910027369325, 0.7037328829692668, '30')}"
      ]
     },
     "execution_count": 223,
     "metadata": {},
     "output_type": "execute_result"
    },
    {
     "data": {
      "image/png": "[encoded data removed]",
      "text/plain": [
       "<Figure size 400x400 with 1 Axes>"
      ]
     },
     "metadata": {},
     "output_type": "display_data"
    }
   ],
   "source": [
    "plt.figure(figsize=(4,4))\n",
    "WGobj = nx.Graph()\n",
    "\n",
    "L=[('A','B',{'weight': 10}),('A','C',{'weight':20}),('B','D',{'weight':30})]\n",
    "WGobj.add_edges_from(L)\n",
    "labels = nx.get_edge_attributes(WGobj,'weight')\n",
    "\n",
    "nx.draw_networkx(WGobj,pos=nx.spring_layout(WGobj,seed=0),node_size=600,font_size=12,font_color='white')\n",
    "nx.draw_networkx_edge_labels(WGobj,pos=nx.spring_layout(WGobj,seed=0),edge_labels=labels)"
   ]
  },
  {
   "cell_type": "raw",
   "id": "3f9c4893-eb23-4016-aee1-e5b54e61a606",
   "metadata": {},
   "source": [
    "Tasks\n",
    "======\n",
    "Create two undirected graph ( G1, G2 from Graph() class)\n",
    "|\n",
    "G1 - connected - create a nodes \n",
    "G2 - unconnected  -create a nodes\n",
    "|\n",
    "validate - nx.is_connected(G1) ; nx.is_connected(G2)\n",
    "|\n",
    "|\n",
    "plt.subplot(221)\n",
    "draw_networkx(G1...) - display  \n",
    "plt.subplot(222)\n",
    "draw_networkx(G2...) - display "
   ]
  },
  {
   "cell_type": "code",
   "execution_count": 233,
   "id": "f0657e0e-2e89-4d1b-be1f-4aef6330ce25",
   "metadata": {},
   "outputs": [
    {
     "name": "stdout",
     "output_type": "stream",
     "text": [
      "G1 is connected :True\n",
      "G2 is connected :False\n",
      "\n"
     ]
    },
    {
     "data": {
      "image/png": "[encoded data removed]",
      "text/plain": [
       "<Figure size 500x500 with 2 Axes>"
      ]
     },
     "metadata": {},
     "output_type": "display_data"
    }
   ],
   "source": [
    "G1 = nx.Graph()\n",
    "G1.add_edges_from([(1,2),(2,3),(3,1)])\n",
    "print(f'G1 is connected :{nx.is_connected(G1)}')\n",
    "\n",
    "G2 = nx.Graph()\n",
    "G2.add_edges_from([(1,2),(2,3),(4,5)])\n",
    "print(f'G2 is connected :{nx.is_connected(G2)}')\n",
    "print('') # empty line\n",
    "\n",
    "plt.figure(figsize=(5,5))\n",
    "plt.subplot(221)\n",
    "nx.draw_networkx(G1,pos=nx.spring_layout(G1,seed=0),node_size=600,font_size=12,font_color='white')\n",
    "\n",
    "plt.subplot(222)\n",
    "nx.draw_networkx(G2,pos=nx.spring_layout(G2,seed=0),node_size=600,font_size=12,font_color='yellow')\n"
   ]
  },
  {
   "cell_type": "code",
   "execution_count": null,
   "id": "e83ecce5-7aca-4926-8f09-43f9e07fd58c",
   "metadata": {},
   "outputs": [],
   "source": [
    "# create undirected graph \n",
    "# GraphObj.degree['Node']\n",
    "\n",
    "# create directed graph nx.DiGraph()\n",
    "# GraphObj.in_degree['Node']\n",
    "# GraphObj.out_degree['Node']"
   ]
  },
  {
   "cell_type": "code",
   "execution_count": 241,
   "id": "1ee89b68-0dc8-4bf6-a317-fd270c4de644",
   "metadata": {},
   "outputs": [
    {
     "name": "stdout",
     "output_type": "stream",
     "text": [
      "True\n",
      "degree of node (A): 2\n"
     ]
    },
    {
     "data": {
      "image/png": "[encoded data removed]",
      "text/plain": [
       "<Figure size 500x500 with 1 Axes>"
      ]
     },
     "metadata": {},
     "output_type": "display_data"
    }
   ],
   "source": [
    "# undirected graph - connectivity - degree of particular node\n",
    "plt.figure(figsize=(5,5))\n",
    "Gobj1 = nx.Graph()\n",
    "Gobj1.add_edges_from([('A','B'),('A','C'),('B','D'),('B','E')])\n",
    "print(nx.is_connected(Gobj1))\n",
    "print(f\"degree of node (A): {Gobj1.degree['A']}\")\n",
    "nx.draw_networkx(Gobj1,pos=nx.spring_layout(Gobj1,seed=0),node_size=600,font_size=12,font_color='white')"
   ]
  },
  {
   "cell_type": "code",
   "execution_count": 245,
   "id": "dd4de556-bf52-44c1-8afd-04ab58f847af",
   "metadata": {},
   "outputs": [
    {
     "name": "stdout",
     "output_type": "stream",
     "text": [
      "In-degree of node (A): 0\n",
      "Out-degree of node (A): 2\n"
     ]
    },
    {
     "data": {
      "image/png": "[encoded data removed]",
      "text/plain": [
       "<Figure size 500x500 with 1 Axes>"
      ]
     },
     "metadata": {},
     "output_type": "display_data"
    }
   ],
   "source": [
    "# directed graph -  degree of particular node\n",
    "plt.figure(figsize=(5,5))\n",
    "DGobj1 = nx.DiGraph()\n",
    "DGobj1.add_edges_from([('A','B'),('A','C'),('B','D'),('B','E')])\n",
    "#print(nx.is_connected(DGobj1))\n",
    "print(f\"In-degree of node (A): {DGobj1.in_degree['A']}\")\n",
    "print(f\"Out-degree of node (A): {DGobj1.out_degree['A']}\")\n",
    "nx.draw_networkx(DGobj1,pos=nx.spring_layout(DGobj1,seed=0),node_size=600,font_size=12,font_color='white')"
   ]
  },
  {
   "cell_type": "code",
   "execution_count": 247,
   "id": "93e651f8-01bb-4979-a448-8bf72eb24c6a",
   "metadata": {},
   "outputs": [
    {
     "name": "stdout",
     "output_type": "stream",
     "text": [
      "In-degree of node (B): 1\n",
      "Out-degree of node (B): 2\n"
     ]
    }
   ],
   "source": [
    "print(f\"In-degree of node (B): {DGobj1.in_degree['B']}\")\n",
    "print(f\"Out-degree of node (B): {DGobj1.out_degree['B']}\")"
   ]
  },
  {
   "cell_type": "raw",
   "id": "31629314-c18f-48d7-8542-f38646c6f4f5",
   "metadata": {},
   "source": [
    "In graph theory degree notation\n",
    "deg^- <== in-degree\n",
    "deg^+ <== out-degree \n"
   ]
  },
  {
   "cell_type": "code",
   "execution_count": null,
   "id": "d2141439-5557-40d0-acf7-52d928a6b290",
   "metadata": {},
   "outputs": [],
   "source": [
    "Breadth-First Search (BFS)\n",
    "---------------------------\n",
    " |->graph traversal algorithm\n",
    " |->explore all the neighbors of node - each level \n",
    " |->queue - keep all the visiting nodes \n",
    "\n",
    " |->Shortest path\n",
    "(City1) ---------- (City2)\n",
    "  |                |\n",
    "(City3)--------(City4)\n",
    " # adjacency list\n",
    "City1 [0,City2,City3,0]\n",
    "City2 [City1,0,0,City4]\n",
    "..\n",
    "initialize \n",
    " - start node = 1 ->Queue -[1] ; visited - 1\n",
    "next visiting node 1\n",
    "    (from City1 neighbors City2,City3) //add to queue ->visited \n",
    "next visiting node 2"
   ]
  },
  {
   "cell_type": "code",
   "execution_count": 249,
   "id": "30e78b65-9394-49ed-9c36-d1f3ecd6cdc8",
   "metadata": {},
   "outputs": [
    {
     "data": {
      "text/plain": [
       "['A', 'B', 'C', 'D', 'E', 'F', 'G']"
      ]
     },
     "execution_count": 249,
     "metadata": {},
     "output_type": "execute_result"
    }
   ],
   "source": [
    "# bfs algorithm\n",
    "G = nx.Graph()\n",
    "G.add_edges_from([('A','B'),('A','C'),('B','D'),('B','E'),('C','F'),('C','G')])\n",
    "\n",
    "def f1(graph,node):\n",
    "    visited,queue = [node],[node]\n",
    "    while queue:\n",
    "        node = queue.pop(0)\n",
    "        for neighbor in graph[node]:\n",
    "            if neighbor not in visited:\n",
    "                visited.append(neighbor)\n",
    "                queue.append(neighbor)\n",
    "    return visited\n",
    "\n",
    "f1(G,'A')"
   ]
  },
  {
   "cell_type": "code",
   "execution_count": 251,
   "id": "2402939d-dcc1-449d-9c16-12e6152a35f8",
   "metadata": {},
   "outputs": [
    {
     "data": {
      "text/plain": [
       "['B', 'A', 'D', 'E', 'C', 'F', 'G']"
      ]
     },
     "execution_count": 251,
     "metadata": {},
     "output_type": "execute_result"
    }
   ],
   "source": [
    "f1(G,'B')"
   ]
  },
  {
   "cell_type": "code",
   "execution_count": 253,
   "id": "9e231c7d-a225-41f2-96f2-b710469ba274",
   "metadata": {},
   "outputs": [
    {
     "data": {
      "text/plain": [
       "['E', 'B', 'A', 'D', 'C', 'F', 'G']"
      ]
     },
     "execution_count": 253,
     "metadata": {},
     "output_type": "execute_result"
    }
   ],
   "source": [
    "f1(G,'E')"
   ]
  },
  {
   "cell_type": "code",
   "execution_count": null,
   "id": "2d2b778c-debb-4824-854b-89b9d47c6091",
   "metadata": {},
   "outputs": [],
   "source": [
    "in\n",
    "not in \n",
    "######## membership operators\n",
    "\n",
    "'pattern' in inputCollection ->True/False \n",
    "'pattern' not in inputCollection ->True/False "
   ]
  },
  {
   "cell_type": "code",
   "execution_count": 255,
   "id": "33b3f346-d642-4a26-944c-2548b3cd686a",
   "metadata": {},
   "outputs": [
    {
     "data": {
      "text/plain": [
       "True"
      ]
     },
     "execution_count": 255,
     "metadata": {},
     "output_type": "execute_result"
    }
   ],
   "source": [
    "'sales' in 'raj,sales,pune'"
   ]
  },
  {
   "cell_type": "code",
   "execution_count": 257,
   "id": "c711fc5f-b1f9-4e9d-8be0-304e08b2967e",
   "metadata": {},
   "outputs": [
    {
     "data": {
      "text/plain": [
       "False"
      ]
     },
     "execution_count": 257,
     "metadata": {},
     "output_type": "execute_result"
    }
   ],
   "source": [
    "'sales' not in 'raj,sales,pune'"
   ]
  },
  {
   "cell_type": "code",
   "execution_count": 259,
   "id": "3736974c-259a-4d5b-b0d1-8ed80e389653",
   "metadata": {},
   "outputs": [
    {
     "data": {
      "text/plain": [
       "True"
      ]
     },
     "execution_count": 259,
     "metadata": {},
     "output_type": "execute_result"
    }
   ],
   "source": [
    "'prod' not in 'raj,sales,pune'"
   ]
  },
  {
   "cell_type": "code",
   "execution_count": 263,
   "id": "288f37ca-f574-4493-8f1f-34865127cba2",
   "metadata": {},
   "outputs": [
    {
     "data": {
      "text/plain": [
       "NodeView(('A', 'B', 'C', 'D', 'E', 'F', 'G'))"
      ]
     },
     "execution_count": 263,
     "metadata": {},
     "output_type": "execute_result"
    }
   ],
   "source": [
    "# To get list of nodes from graph \n",
    "G.nodes()"
   ]
  },
  {
   "cell_type": "code",
   "execution_count": null,
   "id": "6be61ffc-0d5f-42b0-8e88-56085d810df1",
   "metadata": {},
   "outputs": [],
   "source": [
    "# DFS - Depth-First Search\n",
    "# backtracking \n",
    "# stack "
   ]
  },
  {
   "cell_type": "code",
   "execution_count": 267,
   "id": "c1d52814-364f-4e54-9acc-7fc8276642bd",
   "metadata": {},
   "outputs": [
    {
     "data": {
      "text/plain": [
       "['A', 'B', 'D', 'E', 'C', 'F', 'G']"
      ]
     },
     "execution_count": 267,
     "metadata": {},
     "output_type": "execute_result"
    }
   ],
   "source": [
    "# dfs \n",
    "visited = []\n",
    "def f1(visited,graph,node):\n",
    "    if node not in visited:\n",
    "        visited.append(node)\n",
    "        for neighbor in graph[node]:\n",
    "            visited = f1(visited,graph,neighbor)\n",
    "    return visited\n",
    "\n",
    "f1(visited,G,'A')"
   ]
  },
  {
   "cell_type": "code",
   "execution_count": null,
   "id": "b7351ea5-bfc0-46a7-ba7b-8ff42bb1fc75",
   "metadata": {},
   "outputs": [],
   "source": [
    "# Data Collection ->networkx ->Graph() Vs DiGraph() ->add_edges()...\n",
    "# feature engineering\n",
    "#  |\n",
    "# jaccard_coefficient\n",
    "\n",
    "jaccard_coefficient - measures similarity between two sets //based on neighbors\n",
    "         N(a) <intersection> N(b)   =>  | Size of a intersection b |\n",
    "J(a,b)=  -----------------------         --------------------------\n",
    "            N(a) <union> N(b)           |  Size a union b  |"
   ]
  },
  {
   "cell_type": "code",
   "execution_count": 269,
   "id": "ebdd1ebf-062b-41e8-ad0a-054ec11a9ba5",
   "metadata": {},
   "outputs": [
    {
     "data": {
      "text/plain": [
       "{3, 4}"
      ]
     },
     "execution_count": 269,
     "metadata": {},
     "output_type": "execute_result"
    }
   ],
   "source": [
    "A = {1,2,3,4}\n",
    "B = {3,4,5,6}\n",
    "A.intersection(B)"
   ]
  },
  {
   "cell_type": "code",
   "execution_count": 271,
   "id": "979bed81-3ff9-4159-a409-e810e2109ff6",
   "metadata": {},
   "outputs": [
    {
     "data": {
      "text/plain": [
       "{1, 2, 3, 4, 5, 6}"
      ]
     },
     "execution_count": 271,
     "metadata": {},
     "output_type": "execute_result"
    }
   ],
   "source": [
    "A.union(B)"
   ]
  },
  {
   "cell_type": "code",
   "execution_count": 273,
   "id": "9184deac-15c0-4a3c-9725-f0a0ea428f5d",
   "metadata": {},
   "outputs": [
    {
     "data": {
      "text/plain": [
       "0.3333333333333333"
      ]
     },
     "execution_count": 273,
     "metadata": {},
     "output_type": "execute_result"
    }
   ],
   "source": [
    "2/6"
   ]
  },
  {
   "cell_type": "code",
   "execution_count": null,
   "id": "1492b45d-848d-4e13-a6de-61f80a0580f5",
   "metadata": {},
   "outputs": [],
   "source": [
    "# 33 % similarity \n",
    "J(A,B) = 1\n",
    "J(A,B) = 0"
   ]
  },
  {
   "cell_type": "code",
   "execution_count": 275,
   "id": "fb7a9041-826c-48c5-9fb5-bfdbd5f82c95",
   "metadata": {},
   "outputs": [
    {
     "data": {
      "image/png": "[encoded data removed]",
      "text/plain": [
       "<Figure size 640x480 with 1 Axes>"
      ]
     },
     "metadata": {},
     "output_type": "display_data"
    }
   ],
   "source": [
    "G = nx.Graph()\n",
    "G.add_edges_from([(1,2),(1,3),(2,3),(2,4),(3,4),(4,5)])\n",
    "nx.draw_networkx(G)"
   ]
  },
  {
   "cell_type": "code",
   "execution_count": 277,
   "id": "0d277824-a28d-4aaa-ac00-59146fe6f314",
   "metadata": {},
   "outputs": [
    {
     "data": {
      "text/plain": [
       "<generator object common_neighbors.<locals>.<genexpr> at 0x0000020C9D9873D0>"
      ]
     },
     "execution_count": 277,
     "metadata": {},
     "output_type": "execute_result"
    }
   ],
   "source": [
    "nx.common_neighbors(G,1,2)"
   ]
  },
  {
   "cell_type": "code",
   "execution_count": 279,
   "id": "430951f8-f833-4ea1-86d8-987b11db92dc",
   "metadata": {},
   "outputs": [
    {
     "data": {
      "text/plain": [
       "[3]"
      ]
     },
     "execution_count": 279,
     "metadata": {},
     "output_type": "execute_result"
    }
   ],
   "source": [
    "list(nx.common_neighbors(G,1,2))"
   ]
  },
  {
   "cell_type": "code",
   "execution_count": 281,
   "id": "7026b8cd-81df-48a9-8512-8a4630ead044",
   "metadata": {},
   "outputs": [
    {
     "data": {
      "text/plain": [
       "[1, 4]"
      ]
     },
     "execution_count": 281,
     "metadata": {},
     "output_type": "execute_result"
    }
   ],
   "source": [
    "list(nx.common_neighbors(G,3,2))"
   ]
  },
  {
   "cell_type": "code",
   "execution_count": 283,
   "id": "252ec3b3-7718-48db-9493-1cf7c831c5ec",
   "metadata": {},
   "outputs": [
    {
     "data": {
      "text/plain": [
       "<generator object _apply_prediction.<locals>.<genexpr> at 0x0000020C9AD8B040>"
      ]
     },
     "execution_count": 283,
     "metadata": {},
     "output_type": "execute_result"
    }
   ],
   "source": [
    "nx.jaccard_coefficient(G,[(1,2),(1,3),(2,3)])"
   ]
  },
  {
   "cell_type": "code",
   "execution_count": 287,
   "id": "e87eebbd-8316-478a-9eb7-c052c463b1ee",
   "metadata": {},
   "outputs": [
    {
     "name": "stdout",
     "output_type": "stream",
     "text": [
      "node1=1 and node2=2: 0.25\n",
      "node1=1 and node2=3: 0.25\n",
      "node1=2 and node2=3: 0.5\n"
     ]
    }
   ],
   "source": [
    "jaccard = nx.jaccard_coefficient(G,[(1,2),(1,3),(2,3)])\n",
    "for n1,n2,p in jaccard:\n",
    "    print(f'node1={n1} and node2={n2}: {p}')"
   ]
  },
  {
   "cell_type": "code",
   "execution_count": null,
   "id": "b863c755-2ac6-4aa3-9c22-24aca2768294",
   "metadata": {},
   "outputs": [],
   "source": [
    "# load the data\n",
    "# Graph structure \n",
    "# feature engineering - jaccard coefficient\n",
    "# data labels\n",
    "# model \n",
    "# prediction\n",
    "# --------->deploy this model -> social networks, medical bilogical networks..."
   ]
  },
  {
   "cell_type": "code",
   "execution_count": null,
   "id": "27d48fe1-9aa7-4140-96f7-23edf11ada5c",
   "metadata": {},
   "outputs": [],
   "source": [
    "person enquire about course  -> Friends  Teacher1 Teacher2 Brother Uncle \n",
    "                                 CS      Civil     Mech     CS     physics \n",
    "                                 --                        ---- \n",
    "Bagging - majority voting \n",
    "boosting \n"
   ]
  },
  {
   "cell_type": "code",
   "execution_count": 289,
   "id": "71f1c275-1388-48a7-bb10-a89cb4812394",
   "metadata": {},
   "outputs": [],
   "source": [
    "from sklearn.model_selection import train_test_split\n",
    "from sklearn.ensemble import RandomForestClassifier\n",
    "from sklearn.metrics import accuracy_score"
   ]
  },
  {
   "cell_type": "code",
   "execution_count": 291,
   "id": "bf3954bc-4078-4126-b58b-e87c066d3b67",
   "metadata": {},
   "outputs": [
    {
     "data": {
      "text/plain": [
       "<function networkx.generators.random_graphs.gnp_random_graph(n, p, seed=None, directed=False, *, backend=None, **backend_kwargs)>"
      ]
     },
     "execution_count": 291,
     "metadata": {},
     "output_type": "execute_result"
    }
   ],
   "source": [
    "nx.erdos_renyi_graph"
   ]
  },
  {
   "cell_type": "code",
   "execution_count": 299,
   "id": "5940cb97-16fb-4777-9799-a61fc532d47c",
   "metadata": {},
   "outputs": [
    {
     "data": {
      "image/png": "[encoded data removed]",
      "text/plain": [
       "<Figure size 640x480 with 1 Axes>"
      ]
     },
     "metadata": {},
     "output_type": "display_data"
    }
   ],
   "source": [
    "#help(nx.erdos_renyi_graph)\n",
    "nx.draw_networkx(nx.erdos_renyi_graph(50,0.2))"
   ]
  },
  {
   "cell_type": "code",
   "execution_count": 301,
   "id": "cb73770d-edab-4b53-b903-c5e49e881714",
   "metadata": {},
   "outputs": [],
   "source": [
    "from sklearn.model_selection import train_test_split\n",
    "from sklearn.ensemble import RandomForestClassifier\n",
    "from sklearn.metrics import accuracy_score"
   ]
  },
  {
   "cell_type": "code",
   "execution_count": 303,
   "id": "cc75a65e-a55c-40b4-bf84-208a0e99f1a6",
   "metadata": {},
   "outputs": [
    {
     "data": {
      "image/png": "[encoded data removed]",
      "text/plain": [
       "<Figure size 640x480 with 1 Axes>"
      ]
     },
     "metadata": {},
     "output_type": "display_data"
    }
   ],
   "source": [
    "G = nx.erdos_renyi_graph(30,0.2) #  30 nodes ; prob of edge is 0.2\n",
    "nx.draw_networkx(G)"
   ]
  },
  {
   "cell_type": "code",
   "execution_count": null,
   "id": "7f6f9be6-4a06-4876-8b59-a46fee5f10d9",
   "metadata": {},
   "outputs": [],
   "source": [
    "# load the data(Graph=(V,E))\n",
    "# Get the features from nodes - apply random features - countable - describe property \n",
    "# Add node - features - dict add operation\n",
    "# Assign label \n",
    "# X -> node features \n",
    "# Y -> node labels \n",
    "# train - split\n",
    "# RandomForestClassifier ->classifier - number of trees \n",
    "# predict(inputTest) ->Y_prediction\n",
    "# accuracy_score "
   ]
  },
  {
   "cell_type": "code",
   "execution_count": 315,
   "id": "81acf11a-20e8-4d92-b7f9-7f4739fceb66",
   "metadata": {},
   "outputs": [
    {
     "data": {
      "text/plain": [
       "array([[0.39339322, 0.51570513, 0.30524253, 0.25677044, 0.41758912],\n",
       "       [0.06982522, 0.79782876, 0.76696617, 0.82114377, 0.9743961 ],\n",
       "       [0.22684369, 0.7750216 , 0.49818614, 0.1716223 , 0.11086101],\n",
       "       [0.74497554, 0.13340293, 0.9059282 , 0.93559693, 0.92297993],\n",
       "       [0.19128937, 0.49851397, 0.56879545, 0.91392144, 0.57401483],\n",
       "       [0.50385584, 0.53703825, 0.03956467, 0.62086851, 0.45887261],\n",
       "       [0.11655778, 0.45801055, 0.53487795, 0.6427282 , 0.71698879],\n",
       "       [0.59997883, 0.61088413, 0.89847995, 0.52587903, 0.37344174],\n",
       "       [0.56153042, 0.74776919, 0.1577839 , 0.25174478, 0.69878924],\n",
       "       [0.40545281, 0.0105658 , 0.65454041, 0.41276056, 0.76673242],\n",
       "       [0.0579409 , 0.74262381, 0.89960781, 0.52087267, 0.85740466],\n",
       "       [0.61324592, 0.90792577, 0.16424073, 0.3032678 , 0.89845017],\n",
       "       [0.7452374 , 0.85270158, 0.53846103, 0.11775662, 0.51595789],\n",
       "       [0.67499895, 0.06962279, 0.35310266, 0.21876474, 0.92734885],\n",
       "       [0.0483777 , 0.07124594, 0.74381324, 0.16784311, 0.78454083],\n",
       "       [0.54929821, 0.24349973, 0.12748312, 0.27027619, 0.1430561 ],\n",
       "       [0.99097801, 0.78361828, 0.43449966, 0.05664801, 0.61177504],\n",
       "       [0.70539724, 0.08641705, 0.71133872, 0.28183484, 0.48618696],\n",
       "       [0.65139036, 0.35969118, 0.63175976, 0.51574161, 0.28466931],\n",
       "       [0.81430074, 0.72534731, 0.53249992, 0.92618225, 0.11300805],\n",
       "       [0.57974451, 0.51214047, 0.89339511, 0.98182613, 0.26515896],\n",
       "       [0.1570598 , 0.38177749, 0.40904204, 0.28688364, 0.94260574],\n",
       "       [0.44886449, 0.89498226, 0.85000519, 0.76865112, 0.84246175],\n",
       "       [0.00252083, 0.80092739, 0.03158477, 0.13459717, 0.6459314 ],\n",
       "       [0.62056802, 0.36036743, 0.19801924, 0.52781602, 0.04862963],\n",
       "       [0.47268314, 0.50277704, 0.73588308, 0.00226483, 0.92422766],\n",
       "       [0.1254808 , 0.26134568, 0.34615782, 0.88203432, 0.14043966],\n",
       "       [0.78388529, 0.51057115, 0.94701336, 0.79328504, 0.79664525],\n",
       "       [0.17757494, 0.6699628 , 0.4818389 , 0.0157309 , 0.82459465],\n",
       "       [0.07938079, 0.40021537, 0.53393753, 0.38805172, 0.71517857]])"
      ]
     },
     "execution_count": 315,
     "metadata": {},
     "output_type": "execute_result"
    }
   ],
   "source": [
    "G = nx.erdos_renyi_graph(30,0.2) #  30 nodes ; prob of edge is 0.2\n",
    "#nx.draw_networkx(G)\n",
    "\n",
    "# Assign random features to the nodes\n",
    "node_features = np.random.rand(len(G.nodes),5) # 5 features per node\n",
    "node_features "
   ]
  },
  {
   "cell_type": "code",
   "execution_count": 317,
   "id": "49b94c44-c82b-432f-9eff-253059aa5b2e",
   "metadata": {},
   "outputs": [
    {
     "data": {
      "text/plain": [
       "NodeView((0, 1, 2, 3, 4, 5, 6, 7, 8, 9, 10, 11, 12, 13, 14, 15, 16, 17, 18, 19, 20, 21, 22, 23, 24, 25, 26, 27, 28, 29))"
      ]
     },
     "execution_count": 317,
     "metadata": {},
     "output_type": "execute_result"
    }
   ],
   "source": [
    "G.nodes"
   ]
  },
  {
   "cell_type": "code",
   "execution_count": 321,
   "id": "3b977d9c-8093-428a-9dee-33b39ae4d8bf",
   "metadata": {},
   "outputs": [
    {
     "name": "stdout",
     "output_type": "stream",
     "text": [
      "(0, 'a')\n",
      "(1, 'b')\n",
      "(2, 'c')\n"
     ]
    }
   ],
   "source": [
    "for var in enumerate('abc'):\n",
    "    print(var)"
   ]
  },
  {
   "cell_type": "code",
   "execution_count": 323,
   "id": "795290c2-13ea-4dd1-87c9-94b6d6a5dda2",
   "metadata": {},
   "outputs": [
    {
     "name": "stdout",
     "output_type": "stream",
     "text": [
      "(5, 'a')\n",
      "(6, 'b')\n",
      "(7, 'c')\n"
     ]
    }
   ],
   "source": [
    "for var in enumerate('abc',5):\n",
    "    print(var)"
   ]
  },
  {
   "cell_type": "code",
   "execution_count": 325,
   "id": "d6a2140d-5ffa-4c4e-a121-45da1cef3e53",
   "metadata": {},
   "outputs": [],
   "source": [
    "for i,node in enumerate(G.nodes):\n",
    "    G.nodes[node]['features'] = node_features[i]"
   ]
  },
  {
   "cell_type": "code",
   "execution_count": 333,
   "id": "4eec71a1-b7c0-4e5e-b0ca-3af6d82d4a79",
   "metadata": {},
   "outputs": [],
   "source": [
    "# assign random label\n",
    "node_labels = np.random.randint(0,2,size=len(G.nodes))"
   ]
  },
  {
   "cell_type": "code",
   "execution_count": 335,
   "id": "1cc7043b-f53e-447c-91e4-e29131705fc6",
   "metadata": {},
   "outputs": [],
   "source": [
    "for i,node in enumerate(G.nodes):\n",
    "    G.nodes[node]['label']=node_labels[i]"
   ]
  },
  {
   "cell_type": "code",
   "execution_count": 341,
   "id": "edca79ee-ad4a-4024-9792-9caccecaf1ed",
   "metadata": {},
   "outputs": [],
   "source": [
    "X = np.array([G.nodes[node]['features'] for node in G.nodes]) # node features\n",
    "Y = np.array([G.nodes[node]['label'] for node in G.nodes]) # node labels "
   ]
  },
  {
   "cell_type": "code",
   "execution_count": 343,
   "id": "c5d27eee-1b10-4d43-a518-89cd805fb23a",
   "metadata": {},
   "outputs": [],
   "source": [
    "X_train,X_test,Y_train,Y_test = train_test_split(X,Y,test_size=0.4,random_state=42)"
   ]
  },
  {
   "cell_type": "code",
   "execution_count": 345,
   "id": "a6066f30-45f5-4e4b-a4b1-aa7166a23d29",
   "metadata": {},
   "outputs": [
    {
     "data": {
      "text/html": [
       "<style>#sk-container-id-3 {\n",
       "  /* Definition of color scheme common for light and dark mode */\n",
       "  --sklearn-color-text: black;\n",
       "  --sklearn-color-line: gray;\n",
       "  /* Definition of color scheme for unfitted estimators */\n",
       "  --sklearn-color-unfitted-level-0: #fff5e6;\n",
       "  --sklearn-color-unfitted-level-1: #f6e4d2;\n",
       "  --sklearn-color-unfitted-level-2: #ffe0b3;\n",
       "  --sklearn-color-unfitted-level-3: chocolate;\n",
       "  /* Definition of color scheme for fitted estimators */\n",
       "  --sklearn-color-fitted-level-0: #f0f8ff;\n",
       "  --sklearn-color-fitted-level-1: #d4ebff;\n",
       "  --sklearn-color-fitted-level-2: #b3dbfd;\n",
       "  --sklearn-color-fitted-level-3: cornflowerblue;\n",
       "\n",
       "  /* Specific color for light theme */\n",
       "  --sklearn-color-text-on-default-background: var(--sg-text-color, var(--theme-code-foreground, var(--jp-content-font-color1, black)));\n",
       "  --sklearn-color-background: var(--sg-background-color, var(--theme-background, var(--jp-layout-color0, white)));\n",
       "  --sklearn-color-border-box: var(--sg-text-color, var(--theme-code-foreground, var(--jp-content-font-color1, black)));\n",
       "  --sklearn-color-icon: #696969;\n",
       "\n",
       "  @media (prefers-color-scheme: dark) {\n",
       "    /* Redefinition of color scheme for dark theme */\n",
       "    --sklearn-color-text-on-default-background: var(--sg-text-color, var(--theme-code-foreground, var(--jp-content-font-color1, white)));\n",
       "    --sklearn-color-background: var(--sg-background-color, var(--theme-background, var(--jp-layout-color0, #111)));\n",
       "    --sklearn-color-border-box: var(--sg-text-color, var(--theme-code-foreground, var(--jp-content-font-color1, white)));\n",
       "    --sklearn-color-icon: #878787;\n",
       "  }\n",
       "}\n",
       "\n",
       "#sk-container-id-3 {\n",
       "  color: var(--sklearn-color-text);\n",
       "}\n",
       "\n",
       "#sk-container-id-3 pre {\n",
       "  padding: 0;\n",
       "}\n",
       "\n",
       "#sk-container-id-3 input.sk-hidden--visually {\n",
       "  border: 0;\n",
       "  clip: rect(1px 1px 1px 1px);\n",
       "  clip: rect(1px, 1px, 1px, 1px);\n",
       "  height: 1px;\n",
       "  margin: -1px;\n",
       "  overflow: hidden;\n",
       "  padding: 0;\n",
       "  position: absolute;\n",
       "  width: 1px;\n",
       "}\n",
       "\n",
       "#sk-container-id-3 div.sk-dashed-wrapped {\n",
       "  border: 1px dashed var(--sklearn-color-line);\n",
       "  margin: 0 0.4em 0.5em 0.4em;\n",
       "  box-sizing: border-box;\n",
       "  padding-bottom: 0.4em;\n",
       "  background-color: var(--sklearn-color-background);\n",
       "}\n",
       "\n",
       "#sk-container-id-3 div.sk-container {\n",
       "  /* jupyter's `normalize.less` sets `[hidden] { display: none; }`\n",
       "     but bootstrap.min.css set `[hidden] { display: none !important; }`\n",
       "     so we also need the `!important` here to be able to override the\n",
       "     default hidden behavior on the sphinx rendered scikit-learn.org.\n",
       "     See: https://github.com/scikit-learn/scikit-learn/issues/21755 */\n",
       "  display: inline-block !important;\n",
       "  position: relative;\n",
       "}\n",
       "\n",
       "#sk-container-id-3 div.sk-text-repr-fallback {\n",
       "  display: none;\n",
       "}\n",
       "\n",
       "div.sk-parallel-item,\n",
       "div.sk-serial,\n",
       "div.sk-item {\n",
       "  /* draw centered vertical line to link estimators */\n",
       "  background-image: linear-gradient(var(--sklearn-color-text-on-default-background), var(--sklearn-color-text-on-default-background));\n",
       "  background-size: 2px 100%;\n",
       "  background-repeat: no-repeat;\n",
       "  background-position: center center;\n",
       "}\n",
       "\n",
       "/* Parallel-specific style estimator block */\n",
       "\n",
       "#sk-container-id-3 div.sk-parallel-item::after {\n",
       "  content: \"\";\n",
       "  width: 100%;\n",
       "  border-bottom: 2px solid var(--sklearn-color-text-on-default-background);\n",
       "  flex-grow: 1;\n",
       "}\n",
       "\n",
       "#sk-container-id-3 div.sk-parallel {\n",
       "  display: flex;\n",
       "  align-items: stretch;\n",
       "  justify-content: center;\n",
       "  background-color: var(--sklearn-color-background);\n",
       "  position: relative;\n",
       "}\n",
       "\n",
       "#sk-container-id-3 div.sk-parallel-item {\n",
       "  display: flex;\n",
       "  flex-direction: column;\n",
       "}\n",
       "\n",
       "#sk-container-id-3 div.sk-parallel-item:first-child::after {\n",
       "  align-self: flex-end;\n",
       "  width: 50%;\n",
       "}\n",
       "\n",
       "#sk-container-id-3 div.sk-parallel-item:last-child::after {\n",
       "  align-self: flex-start;\n",
       "  width: 50%;\n",
       "}\n",
       "\n",
       "#sk-container-id-3 div.sk-parallel-item:only-child::after {\n",
       "  width: 0;\n",
       "}\n",
       "\n",
       "/* Serial-specific style estimator block */\n",
       "\n",
       "#sk-container-id-3 div.sk-serial {\n",
       "  display: flex;\n",
       "  flex-direction: column;\n",
       "  align-items: center;\n",
       "  background-color: var(--sklearn-color-background);\n",
       "  padding-right: 1em;\n",
       "  padding-left: 1em;\n",
       "}\n",
       "\n",
       "\n",
       "/* Toggleable style: style used for estimator/Pipeline/ColumnTransformer box that is\n",
       "clickable and can be expanded/collapsed.\n",
       "- Pipeline and ColumnTransformer use this feature and define the default style\n",
       "- Estimators will overwrite some part of the style using the `sk-estimator` class\n",
       "*/\n",
       "\n",
       "/* Pipeline and ColumnTransformer style (default) */\n",
       "\n",
       "#sk-container-id-3 div.sk-toggleable {\n",
       "  /* Default theme specific background. It is overwritten whether we have a\n",
       "  specific estimator or a Pipeline/ColumnTransformer */\n",
       "  background-color: var(--sklearn-color-background);\n",
       "}\n",
       "\n",
       "/* Toggleable label */\n",
       "#sk-container-id-3 label.sk-toggleable__label {\n",
       "  cursor: pointer;\n",
       "  display: block;\n",
       "  width: 100%;\n",
       "  margin-bottom: 0;\n",
       "  padding: 0.5em;\n",
       "  box-sizing: border-box;\n",
       "  text-align: center;\n",
       "}\n",
       "\n",
       "#sk-container-id-3 label.sk-toggleable__label-arrow:before {\n",
       "  /* Arrow on the left of the label */\n",
       "  content: \"▸\";\n",
       "  float: left;\n",
       "  margin-right: 0.25em;\n",
       "  color: var(--sklearn-color-icon);\n",
       "}\n",
       "\n",
       "#sk-container-id-3 label.sk-toggleable__label-arrow:hover:before {\n",
       "  color: var(--sklearn-color-text);\n",
       "}\n",
       "\n",
       "/* Toggleable content - dropdown */\n",
       "\n",
       "#sk-container-id-3 div.sk-toggleable__content {\n",
       "  max-height: 0;\n",
       "  max-width: 0;\n",
       "  overflow: hidden;\n",
       "  text-align: left;\n",
       "  /* unfitted */\n",
       "  background-color: var(--sklearn-color-unfitted-level-0);\n",
       "}\n",
       "\n",
       "#sk-container-id-3 div.sk-toggleable__content.fitted {\n",
       "  /* fitted */\n",
       "  background-color: var(--sklearn-color-fitted-level-0);\n",
       "}\n",
       "\n",
       "#sk-container-id-3 div.sk-toggleable__content pre {\n",
       "  margin: 0.2em;\n",
       "  border-radius: 0.25em;\n",
       "  color: var(--sklearn-color-text);\n",
       "  /* unfitted */\n",
       "  background-color: var(--sklearn-color-unfitted-level-0);\n",
       "}\n",
       "\n",
       "#sk-container-id-3 div.sk-toggleable__content.fitted pre {\n",
       "  /* unfitted */\n",
       "  background-color: var(--sklearn-color-fitted-level-0);\n",
       "}\n",
       "\n",
       "#sk-container-id-3 input.sk-toggleable__control:checked~div.sk-toggleable__content {\n",
       "  /* Expand drop-down */\n",
       "  max-height: 200px;\n",
       "  max-width: 100%;\n",
       "  overflow: auto;\n",
       "}\n",
       "\n",
       "#sk-container-id-3 input.sk-toggleable__control:checked~label.sk-toggleable__label-arrow:before {\n",
       "  content: \"▾\";\n",
       "}\n",
       "\n",
       "/* Pipeline/ColumnTransformer-specific style */\n",
       "\n",
       "#sk-container-id-3 div.sk-label input.sk-toggleable__control:checked~label.sk-toggleable__label {\n",
       "  color: var(--sklearn-color-text);\n",
       "  background-color: var(--sklearn-color-unfitted-level-2);\n",
       "}\n",
       "\n",
       "#sk-container-id-3 div.sk-label.fitted input.sk-toggleable__control:checked~label.sk-toggleable__label {\n",
       "  background-color: var(--sklearn-color-fitted-level-2);\n",
       "}\n",
       "\n",
       "/* Estimator-specific style */\n",
       "\n",
       "/* Colorize estimator box */\n",
       "#sk-container-id-3 div.sk-estimator input.sk-toggleable__control:checked~label.sk-toggleable__label {\n",
       "  /* unfitted */\n",
       "  background-color: var(--sklearn-color-unfitted-level-2);\n",
       "}\n",
       "\n",
       "#sk-container-id-3 div.sk-estimator.fitted input.sk-toggleable__control:checked~label.sk-toggleable__label {\n",
       "  /* fitted */\n",
       "  background-color: var(--sklearn-color-fitted-level-2);\n",
       "}\n",
       "\n",
       "#sk-container-id-3 div.sk-label label.sk-toggleable__label,\n",
       "#sk-container-id-3 div.sk-label label {\n",
       "  /* The background is the default theme color */\n",
       "  color: var(--sklearn-color-text-on-default-background);\n",
       "}\n",
       "\n",
       "/* On hover, darken the color of the background */\n",
       "#sk-container-id-3 div.sk-label:hover label.sk-toggleable__label {\n",
       "  color: var(--sklearn-color-text);\n",
       "  background-color: var(--sklearn-color-unfitted-level-2);\n",
       "}\n",
       "\n",
       "/* Label box, darken color on hover, fitted */\n",
       "#sk-container-id-3 div.sk-label.fitted:hover label.sk-toggleable__label.fitted {\n",
       "  color: var(--sklearn-color-text);\n",
       "  background-color: var(--sklearn-color-fitted-level-2);\n",
       "}\n",
       "\n",
       "/* Estimator label */\n",
       "\n",
       "#sk-container-id-3 div.sk-label label {\n",
       "  font-family: monospace;\n",
       "  font-weight: bold;\n",
       "  display: inline-block;\n",
       "  line-height: 1.2em;\n",
       "}\n",
       "\n",
       "#sk-container-id-3 div.sk-label-container {\n",
       "  text-align: center;\n",
       "}\n",
       "\n",
       "/* Estimator-specific */\n",
       "#sk-container-id-3 div.sk-estimator {\n",
       "  font-family: monospace;\n",
       "  border: 1px dotted var(--sklearn-color-border-box);\n",
       "  border-radius: 0.25em;\n",
       "  box-sizing: border-box;\n",
       "  margin-bottom: 0.5em;\n",
       "  /* unfitted */\n",
       "  background-color: var(--sklearn-color-unfitted-level-0);\n",
       "}\n",
       "\n",
       "#sk-container-id-3 div.sk-estimator.fitted {\n",
       "  /* fitted */\n",
       "  background-color: var(--sklearn-color-fitted-level-0);\n",
       "}\n",
       "\n",
       "/* on hover */\n",
       "#sk-container-id-3 div.sk-estimator:hover {\n",
       "  /* unfitted */\n",
       "  background-color: var(--sklearn-color-unfitted-level-2);\n",
       "}\n",
       "\n",
       "#sk-container-id-3 div.sk-estimator.fitted:hover {\n",
       "  /* fitted */\n",
       "  background-color: var(--sklearn-color-fitted-level-2);\n",
       "}\n",
       "\n",
       "/* Specification for estimator info (e.g. \"i\" and \"?\") */\n",
       "\n",
       "/* Common style for \"i\" and \"?\" */\n",
       "\n",
       ".sk-estimator-doc-link,\n",
       "a:link.sk-estimator-doc-link,\n",
       "a:visited.sk-estimator-doc-link {\n",
       "  float: right;\n",
       "  font-size: smaller;\n",
       "  line-height: 1em;\n",
       "  font-family: monospace;\n",
       "  background-color: var(--sklearn-color-background);\n",
       "  border-radius: 1em;\n",
       "  height: 1em;\n",
       "  width: 1em;\n",
       "  text-decoration: none !important;\n",
       "  margin-left: 1ex;\n",
       "  /* unfitted */\n",
       "  border: var(--sklearn-color-unfitted-level-1) 1pt solid;\n",
       "  color: var(--sklearn-color-unfitted-level-1);\n",
       "}\n",
       "\n",
       ".sk-estimator-doc-link.fitted,\n",
       "a:link.sk-estimator-doc-link.fitted,\n",
       "a:visited.sk-estimator-doc-link.fitted {\n",
       "  /* fitted */\n",
       "  border: var(--sklearn-color-fitted-level-1) 1pt solid;\n",
       "  color: var(--sklearn-color-fitted-level-1);\n",
       "}\n",
       "\n",
       "/* On hover */\n",
       "div.sk-estimator:hover .sk-estimator-doc-link:hover,\n",
       ".sk-estimator-doc-link:hover,\n",
       "div.sk-label-container:hover .sk-estimator-doc-link:hover,\n",
       ".sk-estimator-doc-link:hover {\n",
       "  /* unfitted */\n",
       "  background-color: var(--sklearn-color-unfitted-level-3);\n",
       "  color: var(--sklearn-color-background);\n",
       "  text-decoration: none;\n",
       "}\n",
       "\n",
       "div.sk-estimator.fitted:hover .sk-estimator-doc-link.fitted:hover,\n",
       ".sk-estimator-doc-link.fitted:hover,\n",
       "div.sk-label-container:hover .sk-estimator-doc-link.fitted:hover,\n",
       ".sk-estimator-doc-link.fitted:hover {\n",
       "  /* fitted */\n",
       "  background-color: var(--sklearn-color-fitted-level-3);\n",
       "  color: var(--sklearn-color-background);\n",
       "  text-decoration: none;\n",
       "}\n",
       "\n",
       "/* Span, style for the box shown on hovering the info icon */\n",
       ".sk-estimator-doc-link span {\n",
       "  display: none;\n",
       "  z-index: 9999;\n",
       "  position: relative;\n",
       "  font-weight: normal;\n",
       "  right: .2ex;\n",
       "  padding: .5ex;\n",
       "  margin: .5ex;\n",
       "  width: min-content;\n",
       "  min-width: 20ex;\n",
       "  max-width: 50ex;\n",
       "  color: var(--sklearn-color-text);\n",
       "  box-shadow: 2pt 2pt 4pt #999;\n",
       "  /* unfitted */\n",
       "  background: var(--sklearn-color-unfitted-level-0);\n",
       "  border: .5pt solid var(--sklearn-color-unfitted-level-3);\n",
       "}\n",
       "\n",
       ".sk-estimator-doc-link.fitted span {\n",
       "  /* fitted */\n",
       "  background: var(--sklearn-color-fitted-level-0);\n",
       "  border: var(--sklearn-color-fitted-level-3);\n",
       "}\n",
       "\n",
       ".sk-estimator-doc-link:hover span {\n",
       "  display: block;\n",
       "}\n",
       "\n",
       "/* \"?\"-specific style due to the `<a>` HTML tag */\n",
       "\n",
       "#sk-container-id-3 a.estimator_doc_link {\n",
       "  float: right;\n",
       "  font-size: 1rem;\n",
       "  line-height: 1em;\n",
       "  font-family: monospace;\n",
       "  background-color: var(--sklearn-color-background);\n",
       "  border-radius: 1rem;\n",
       "  height: 1rem;\n",
       "  width: 1rem;\n",
       "  text-decoration: none;\n",
       "  /* unfitted */\n",
       "  color: var(--sklearn-color-unfitted-level-1);\n",
       "  border: var(--sklearn-color-unfitted-level-1) 1pt solid;\n",
       "}\n",
       "\n",
       "#sk-container-id-3 a.estimator_doc_link.fitted {\n",
       "  /* fitted */\n",
       "  border: var(--sklearn-color-fitted-level-1) 1pt solid;\n",
       "  color: var(--sklearn-color-fitted-level-1);\n",
       "}\n",
       "\n",
       "/* On hover */\n",
       "#sk-container-id-3 a.estimator_doc_link:hover {\n",
       "  /* unfitted */\n",
       "  background-color: var(--sklearn-color-unfitted-level-3);\n",
       "  color: var(--sklearn-color-background);\n",
       "  text-decoration: none;\n",
       "}\n",
       "\n",
       "#sk-container-id-3 a.estimator_doc_link.fitted:hover {\n",
       "  /* fitted */\n",
       "  background-color: var(--sklearn-color-fitted-level-3);\n",
       "}\n",
       "</style><div id=\"sk-container-id-3\" class=\"sk-top-container\"><div class=\"sk-text-repr-fallback\"><pre>RandomForestClassifier(random_state=42)</pre><b>In a Jupyter environment, please rerun this cell to show the HTML representation or trust the notebook. <br />On GitHub, the HTML representation is unable to render, please try loading this page with nbviewer.org.</b></div><div class=\"sk-container\" hidden><div class=\"sk-item\"><div class=\"sk-estimator fitted sk-toggleable\"><input class=\"sk-toggleable__control sk-hidden--visually\" id=\"sk-estimator-id-3\" type=\"checkbox\" checked><label for=\"sk-estimator-id-3\" class=\"sk-toggleable__label fitted sk-toggleable__label-arrow fitted\">&nbsp;&nbsp;RandomForestClassifier<a class=\"sk-estimator-doc-link fitted\" rel=\"noreferrer\" target=\"_blank\" href=\"https://scikit-learn.org/1.4/modules/generated/sklearn.ensemble.RandomForestClassifier.html\">?<span>Documentation for RandomForestClassifier</span></a><span class=\"sk-estimator-doc-link fitted\">i<span>Fitted</span></span></label><div class=\"sk-toggleable__content fitted\"><pre>RandomForestClassifier(random_state=42)</pre></div> </div></div></div></div>"
      ],
      "text/plain": [
       "RandomForestClassifier(random_state=42)"
      ]
     },
     "execution_count": 345,
     "metadata": {},
     "output_type": "execute_result"
    }
   ],
   "source": [
    "classifier_obj = RandomForestClassifier(n_estimators=100,random_state=42)\n",
    "classifier_obj.fit(X_train,Y_train)"
   ]
  },
  {
   "cell_type": "code",
   "execution_count": 347,
   "id": "aa3b7adc-c97e-4b4e-837c-351cb82773de",
   "metadata": {},
   "outputs": [],
   "source": [
    "Y_pred = classifier_obj.predict(X_test)"
   ]
  },
  {
   "cell_type": "code",
   "execution_count": 349,
   "id": "3abe2e2f-c484-4733-b1a0-e842e9a7756a",
   "metadata": {},
   "outputs": [
    {
     "data": {
      "text/plain": [
       "array([0, 1, 0, 1, 0, 1, 0, 1, 1, 0, 0, 0])"
      ]
     },
     "execution_count": 349,
     "metadata": {},
     "output_type": "execute_result"
    }
   ],
   "source": [
    "Y_pred"
   ]
  },
  {
   "cell_type": "code",
   "execution_count": 351,
   "id": "5c559327-086a-4806-928e-93f19fd532c9",
   "metadata": {},
   "outputs": [
    {
     "data": {
      "text/plain": [
       "0.3333333333333333"
      ]
     },
     "execution_count": 351,
     "metadata": {},
     "output_type": "execute_result"
    }
   ],
   "source": [
    "accuracy_score(Y_test,Y_pred)"
   ]
  },
  {
   "cell_type": "code",
   "execution_count": null,
   "id": "3398158a-12fd-4f90-9d1a-5e00ba8b1f21",
   "metadata": {},
   "outputs": [],
   "source": [
    "DeepWalk - Graph data\n",
    "            GNN\n",
    " |\n",
    " |->Word2Vec\n",
    " |->randomwalks\n",
    "\n",
    "Word2Vector - NLP\n",
    "             -----\n",
    "\n",
    "NLP\n",
    "====\n",
    "Appln ->Google Translate \n",
    "\n",
    "Input: Hello Good morning  --->output : French  ......\n",
    "\n",
    "Text(word) ---> M/C -->10101 (vector)\n",
    "\n",
    "1.corpus - paragraph \n",
    "2.documents - sentence \n",
    "3.vocabulary - unique words \n",
    "\n",
    "Tokenization\n",
    "\n",
    "My name is karthik, i am teaching NLP.Also i likes to write code. //Corpus \n",
    "\n",
    "D1: My name is karthik, i am teaching NLP\n",
    "D2: Also i likes to write code\n",
    "\n",
    "unique words: \n",
    "S1: My name is karthik, i am teaching NLP\n",
    "S2: Also likes to write code\n",
    "\n",
    "My    name\n",
    "|      |\n",
    "01010  01010\n",
    "|\n",
    "stop words \n",
    "|\n",
    "stemming - reducing root word (ex: history ->histori )\n",
    "--------                                     ------//meaning is changed \n",
    "|\n",
    "lemma (history ->history ; eating ->eat)\n",
    "|\n",
    "Good morning how are you\n",
    "\n",
    "\n",
    "D1:  the food is good\n",
    "D2:  the food is bad\n",
    "\n",
    "[the food good bad ] <== unique words \n",
    "\n",
    "the =>  [ 1 0 0 0 \n",
    "food      0 1 0 0\n",
    "good      0 0 1 0\n",
    "bad       0 0 0 1 ] //vector\n",
    "|\n",
    "Bag of word(BOW) + frequency   \n",
    "\n",
    "[the food good bad]\n",
    "n=2 -> the food  \n",
    "n=3 -> the food good\n",
    "n=4 -> the food good bad ===> 1 \n",
    "..\n",
    "n=N \n",
    "ngram\n",
    "\n",
    "gensim\n",
    "\n",
    "from gensim.models.word2vec import Word2Vec\n",
    "model = Word2Vec([text],sg=1)\n",
    "model.train([text],corputs_count)\n",
    "model.wv[0] ->[101010]\n",
    "\n",
    "the   food good bad\n",
    "|       |   |    |___(n4)\n",
    "(n1)  (n2)  (n3)"
   ]
  },
  {
   "cell_type": "code",
   "execution_count": 357,
   "id": "7a956868-595c-44c9-a506-49f290618ccb",
   "metadata": {},
   "outputs": [],
   "source": [
    "import nltk"
   ]
  },
  {
   "cell_type": "code",
   "execution_count": 359,
   "id": "baccc936-5917-4795-aebe-4cca378b430f",
   "metadata": {},
   "outputs": [],
   "source": [
    "# !pip install nltk"
   ]
  },
  {
   "cell_type": "code",
   "execution_count": 363,
   "id": "d670e7ff-a59b-4748-9543-0f8fac92bf96",
   "metadata": {},
   "outputs": [],
   "source": [
    "corpus = '''Hello welcome,to NLP learning.\n",
    "please do activity the entire course module! to ab'c defg'''"
   ]
  },
  {
   "cell_type": "code",
   "execution_count": 365,
   "id": "88a2805e-17d0-4cc0-a640-a6f12426ba9d",
   "metadata": {},
   "outputs": [
    {
     "data": {
      "text/plain": [
       "['Hello welcome,to NLP learning.',\n",
       " 'please do activity the entire course module!',\n",
       " \"to ab'c defg\"]"
      ]
     },
     "execution_count": 365,
     "metadata": {},
     "output_type": "execute_result"
    }
   ],
   "source": [
    "from nltk.tokenize import sent_tokenize\n",
    "sent_tokenize(corpus)"
   ]
  },
  {
   "cell_type": "code",
   "execution_count": 369,
   "id": "7b830dd4-b12b-46d7-943d-d25092a09b3c",
   "metadata": {},
   "outputs": [
    {
     "data": {
      "text/plain": [
       "['Hello',\n",
       " 'welcome',\n",
       " ',',\n",
       " 'to',\n",
       " 'NLP',\n",
       " 'learning',\n",
       " '.',\n",
       " 'please',\n",
       " 'do',\n",
       " 'activity',\n",
       " 'the',\n",
       " 'entire',\n",
       " 'course',\n",
       " 'module',\n",
       " '!',\n",
       " 'to',\n",
       " 'ab',\n",
       " \"'\",\n",
       " 'c',\n",
       " 'defg']"
      ]
     },
     "execution_count": 369,
     "metadata": {},
     "output_type": "execute_result"
    }
   ],
   "source": [
    "from nltk.tokenize import word_tokenize\n",
    "word_tokenize(corpus)"
   ]
  },
  {
   "cell_type": "code",
   "execution_count": 373,
   "id": "f7990fd4-95cb-46ef-b160-f405306f8a60",
   "metadata": {},
   "outputs": [
    {
     "data": {
      "text/plain": [
       "['Hello',\n",
       " 'welcome',\n",
       " ',',\n",
       " 'to',\n",
       " 'NLP',\n",
       " 'learning',\n",
       " '.',\n",
       " 'please',\n",
       " 'do',\n",
       " 'activity',\n",
       " 'the',\n",
       " 'entire',\n",
       " 'course',\n",
       " 'module',\n",
       " '!',\n",
       " 'to',\n",
       " 'ab',\n",
       " \"'\",\n",
       " 'c',\n",
       " 'defg']"
      ]
     },
     "execution_count": 373,
     "metadata": {},
     "output_type": "execute_result"
    }
   ],
   "source": [
    "from nltk.tokenize import wordpunct_tokenize\n",
    "wordpunct_tokenize(corpus)"
   ]
  },
  {
   "cell_type": "code",
   "execution_count": 375,
   "id": "5f592354-1e60-4a36-b78f-18de4d7e20b8",
   "metadata": {},
   "outputs": [],
   "source": [
    "words=['eating','eats','eaten','writing','writes','programming','programs','history','finally']"
   ]
  },
  {
   "cell_type": "code",
   "execution_count": 377,
   "id": "2c418e51-d7fb-402a-91bb-958235753b37",
   "metadata": {},
   "outputs": [
    {
     "data": {
      "text/plain": [
       "'histori'"
      ]
     },
     "execution_count": 377,
     "metadata": {},
     "output_type": "execute_result"
    }
   ],
   "source": [
    "from nltk.stem import PorterStemmer\n",
    "stemming = PorterStemmer()\n",
    "stemming.stem('history')"
   ]
  },
  {
   "cell_type": "code",
   "execution_count": 379,
   "id": "bad02157-7bf8-4c26-8977-c69a2a08b38d",
   "metadata": {},
   "outputs": [
    {
     "name": "stdout",
     "output_type": "stream",
     "text": [
      "eating------->eat\n",
      "eats------->eat\n",
      "eaten------->eaten\n",
      "writing------->write\n",
      "writes------->write\n",
      "programming------->program\n",
      "programs------->program\n",
      "history------->histori\n",
      "finally------->final\n"
     ]
    }
   ],
   "source": [
    "for var in words:\n",
    "    print(var+'------->'+stemming.stem(var))"
   ]
  },
  {
   "cell_type": "code",
   "execution_count": 381,
   "id": "3e6c7209-f851-4b89-afc6-5caf30d8e9cb",
   "metadata": {},
   "outputs": [
    {
     "data": {
      "text/plain": [
       "'history'"
      ]
     },
     "execution_count": 381,
     "metadata": {},
     "output_type": "execute_result"
    }
   ],
   "source": [
    "from nltk.stem import WordNetLemmatizer\n",
    "lemmatizer = WordNetLemmatizer()\n",
    "lemmatizer.lemmatize('history')"
   ]
  },
  {
   "cell_type": "code",
   "execution_count": 387,
   "id": "e35fa08c-d644-4227-87d4-70e7c6a07fda",
   "metadata": {},
   "outputs": [
    {
     "name": "stdout",
     "output_type": "stream",
     "text": [
      "eating------->eating\n",
      "eats------->eats\n",
      "eaten------->eaten\n",
      "writing------->writing\n",
      "writes------->writes\n",
      "programming------->programming\n",
      "programs------->program\n",
      "history------->history\n",
      "finally------->finally\n"
     ]
    }
   ],
   "source": [
    "for var in words:\n",
    "    print(var+'------->'+lemmatizer.lemmatize(var))"
   ]
  },
  {
   "cell_type": "code",
   "execution_count": 389,
   "id": "d584d245-51d2-4c3b-a999-d2ed8306de88",
   "metadata": {},
   "outputs": [
    {
     "data": {
      "text/plain": [
       "['i',\n",
       " 'me',\n",
       " 'my',\n",
       " 'myself',\n",
       " 'we',\n",
       " 'our',\n",
       " 'ours',\n",
       " 'ourselves',\n",
       " 'you',\n",
       " \"you're\",\n",
       " \"you've\",\n",
       " \"you'll\",\n",
       " \"you'd\",\n",
       " 'your',\n",
       " 'yours',\n",
       " 'yourself',\n",
       " 'yourselves',\n",
       " 'he',\n",
       " 'him',\n",
       " 'his',\n",
       " 'himself',\n",
       " 'she',\n",
       " \"she's\",\n",
       " 'her',\n",
       " 'hers',\n",
       " 'herself',\n",
       " 'it',\n",
       " \"it's\",\n",
       " 'its',\n",
       " 'itself',\n",
       " 'they',\n",
       " 'them',\n",
       " 'their',\n",
       " 'theirs',\n",
       " 'themselves',\n",
       " 'what',\n",
       " 'which',\n",
       " 'who',\n",
       " 'whom',\n",
       " 'this',\n",
       " 'that',\n",
       " \"that'll\",\n",
       " 'these',\n",
       " 'those',\n",
       " 'am',\n",
       " 'is',\n",
       " 'are',\n",
       " 'was',\n",
       " 'were',\n",
       " 'be',\n",
       " 'been',\n",
       " 'being',\n",
       " 'have',\n",
       " 'has',\n",
       " 'had',\n",
       " 'having',\n",
       " 'do',\n",
       " 'does',\n",
       " 'did',\n",
       " 'doing',\n",
       " 'a',\n",
       " 'an',\n",
       " 'the',\n",
       " 'and',\n",
       " 'but',\n",
       " 'if',\n",
       " 'or',\n",
       " 'because',\n",
       " 'as',\n",
       " 'until',\n",
       " 'while',\n",
       " 'of',\n",
       " 'at',\n",
       " 'by',\n",
       " 'for',\n",
       " 'with',\n",
       " 'about',\n",
       " 'against',\n",
       " 'between',\n",
       " 'into',\n",
       " 'through',\n",
       " 'during',\n",
       " 'before',\n",
       " 'after',\n",
       " 'above',\n",
       " 'below',\n",
       " 'to',\n",
       " 'from',\n",
       " 'up',\n",
       " 'down',\n",
       " 'in',\n",
       " 'out',\n",
       " 'on',\n",
       " 'off',\n",
       " 'over',\n",
       " 'under',\n",
       " 'again',\n",
       " 'further',\n",
       " 'then',\n",
       " 'once',\n",
       " 'here',\n",
       " 'there',\n",
       " 'when',\n",
       " 'where',\n",
       " 'why',\n",
       " 'how',\n",
       " 'all',\n",
       " 'any',\n",
       " 'both',\n",
       " 'each',\n",
       " 'few',\n",
       " 'more',\n",
       " 'most',\n",
       " 'other',\n",
       " 'some',\n",
       " 'such',\n",
       " 'no',\n",
       " 'nor',\n",
       " 'not',\n",
       " 'only',\n",
       " 'own',\n",
       " 'same',\n",
       " 'so',\n",
       " 'than',\n",
       " 'too',\n",
       " 'very',\n",
       " 's',\n",
       " 't',\n",
       " 'can',\n",
       " 'will',\n",
       " 'just',\n",
       " 'don',\n",
       " \"don't\",\n",
       " 'should',\n",
       " \"should've\",\n",
       " 'now',\n",
       " 'd',\n",
       " 'll',\n",
       " 'm',\n",
       " 'o',\n",
       " 're',\n",
       " 've',\n",
       " 'y',\n",
       " 'ain',\n",
       " 'aren',\n",
       " \"aren't\",\n",
       " 'couldn',\n",
       " \"couldn't\",\n",
       " 'didn',\n",
       " \"didn't\",\n",
       " 'doesn',\n",
       " \"doesn't\",\n",
       " 'hadn',\n",
       " \"hadn't\",\n",
       " 'hasn',\n",
       " \"hasn't\",\n",
       " 'haven',\n",
       " \"haven't\",\n",
       " 'isn',\n",
       " \"isn't\",\n",
       " 'ma',\n",
       " 'mightn',\n",
       " \"mightn't\",\n",
       " 'mustn',\n",
       " \"mustn't\",\n",
       " 'needn',\n",
       " \"needn't\",\n",
       " 'shan',\n",
       " \"shan't\",\n",
       " 'shouldn',\n",
       " \"shouldn't\",\n",
       " 'wasn',\n",
       " \"wasn't\",\n",
       " 'weren',\n",
       " \"weren't\",\n",
       " 'won',\n",
       " \"won't\",\n",
       " 'wouldn',\n",
       " \"wouldn't\"]"
      ]
     },
     "execution_count": 389,
     "metadata": {},
     "output_type": "execute_result"
    }
   ],
   "source": [
    "from nltk.corpus import stopwords\n",
    "stopwords.words('english')"
   ]
  },
  {
   "cell_type": "code",
   "execution_count": 391,
   "id": "2f913140-391a-4aa0-a654-44674862295b",
   "metadata": {},
   "outputs": [
    {
     "data": {
      "text/plain": [
       "['au',\n",
       " 'aux',\n",
       " 'avec',\n",
       " 'ce',\n",
       " 'ces',\n",
       " 'dans',\n",
       " 'de',\n",
       " 'des',\n",
       " 'du',\n",
       " 'elle',\n",
       " 'en',\n",
       " 'et',\n",
       " 'eux',\n",
       " 'il',\n",
       " 'ils',\n",
       " 'je',\n",
       " 'la',\n",
       " 'le',\n",
       " 'les',\n",
       " 'leur',\n",
       " 'lui',\n",
       " 'ma',\n",
       " 'mais',\n",
       " 'me',\n",
       " 'même',\n",
       " 'mes',\n",
       " 'moi',\n",
       " 'mon',\n",
       " 'ne',\n",
       " 'nos',\n",
       " 'notre',\n",
       " 'nous',\n",
       " 'on',\n",
       " 'ou',\n",
       " 'par',\n",
       " 'pas',\n",
       " 'pour',\n",
       " 'qu',\n",
       " 'que',\n",
       " 'qui',\n",
       " 'sa',\n",
       " 'se',\n",
       " 'ses',\n",
       " 'son',\n",
       " 'sur',\n",
       " 'ta',\n",
       " 'te',\n",
       " 'tes',\n",
       " 'toi',\n",
       " 'ton',\n",
       " 'tu',\n",
       " 'un',\n",
       " 'une',\n",
       " 'vos',\n",
       " 'votre',\n",
       " 'vous',\n",
       " 'c',\n",
       " 'd',\n",
       " 'j',\n",
       " 'l',\n",
       " 'à',\n",
       " 'm',\n",
       " 'n',\n",
       " 's',\n",
       " 't',\n",
       " 'y',\n",
       " 'été',\n",
       " 'étée',\n",
       " 'étées',\n",
       " 'étés',\n",
       " 'étant',\n",
       " 'étante',\n",
       " 'étants',\n",
       " 'étantes',\n",
       " 'suis',\n",
       " 'es',\n",
       " 'est',\n",
       " 'sommes',\n",
       " 'êtes',\n",
       " 'sont',\n",
       " 'serai',\n",
       " 'seras',\n",
       " 'sera',\n",
       " 'serons',\n",
       " 'serez',\n",
       " 'seront',\n",
       " 'serais',\n",
       " 'serait',\n",
       " 'serions',\n",
       " 'seriez',\n",
       " 'seraient',\n",
       " 'étais',\n",
       " 'était',\n",
       " 'étions',\n",
       " 'étiez',\n",
       " 'étaient',\n",
       " 'fus',\n",
       " 'fut',\n",
       " 'fûmes',\n",
       " 'fûtes',\n",
       " 'furent',\n",
       " 'sois',\n",
       " 'soit',\n",
       " 'soyons',\n",
       " 'soyez',\n",
       " 'soient',\n",
       " 'fusse',\n",
       " 'fusses',\n",
       " 'fût',\n",
       " 'fussions',\n",
       " 'fussiez',\n",
       " 'fussent',\n",
       " 'ayant',\n",
       " 'ayante',\n",
       " 'ayantes',\n",
       " 'ayants',\n",
       " 'eu',\n",
       " 'eue',\n",
       " 'eues',\n",
       " 'eus',\n",
       " 'ai',\n",
       " 'as',\n",
       " 'avons',\n",
       " 'avez',\n",
       " 'ont',\n",
       " 'aurai',\n",
       " 'auras',\n",
       " 'aura',\n",
       " 'aurons',\n",
       " 'aurez',\n",
       " 'auront',\n",
       " 'aurais',\n",
       " 'aurait',\n",
       " 'aurions',\n",
       " 'auriez',\n",
       " 'auraient',\n",
       " 'avais',\n",
       " 'avait',\n",
       " 'avions',\n",
       " 'aviez',\n",
       " 'avaient',\n",
       " 'eut',\n",
       " 'eûmes',\n",
       " 'eûtes',\n",
       " 'eurent',\n",
       " 'aie',\n",
       " 'aies',\n",
       " 'ait',\n",
       " 'ayons',\n",
       " 'ayez',\n",
       " 'aient',\n",
       " 'eusse',\n",
       " 'eusses',\n",
       " 'eût',\n",
       " 'eussions',\n",
       " 'eussiez',\n",
       " 'eussent']"
      ]
     },
     "execution_count": 391,
     "metadata": {},
     "output_type": "execute_result"
    }
   ],
   "source": [
    "stopwords.words('french')"
   ]
  },
  {
   "cell_type": "code",
   "execution_count": 397,
   "id": "2fb9b863-cc97-487a-a4b0-204ff9e34ded",
   "metadata": {},
   "outputs": [
    {
     "data": {
      "text/plain": [
       "array([[0., 0., 0., 0., 1.],\n",
       "       [0., 1., 0., 0., 0.],\n",
       "       [0., 0., 1., 0., 0.],\n",
       "       [1., 0., 0., 0., 0.],\n",
       "       [0., 0., 0., 1., 0.]])"
      ]
     },
     "execution_count": 397,
     "metadata": {},
     "output_type": "execute_result"
    }
   ],
   "source": [
    "from sklearn.preprocessing import LabelEncoder\n",
    "from sklearn.preprocessing import OneHotEncoder\n",
    "\n",
    "voc = ['the','food','good','bad','ok']\n",
    "\n",
    "label_obj = LabelEncoder()\n",
    "label_encoded = label_obj.fit_transform(voc)\n",
    "\n",
    "obj1 = OneHotEncoder(sparse_output=False)\n",
    "label_encoded = label_encoded.reshape(len(label_encoded),1)\n",
    "obj1.fit_transform(label_encoded)"
   ]
  },
  {
   "cell_type": "code",
   "execution_count": 399,
   "id": "4652fc62-2076-4acb-90b9-7e9fc845e35f",
   "metadata": {},
   "outputs": [
    {
     "data": {
      "text/plain": [
       "<zip at 0x20ca5c594c0>"
      ]
     },
     "execution_count": 399,
     "metadata": {},
     "output_type": "execute_result"
    }
   ],
   "source": [
    "from nltk.util import ngrams\n",
    "from nltk.tokenize import word_tokenize\n",
    "s=\"the food is good\"\n",
    "words = word_tokenize(s)\n",
    "ngrams(words,1) # n=1"
   ]
  },
  {
   "cell_type": "code",
   "execution_count": 401,
   "id": "b24a3562-7cc2-4542-b887-0a989393d080",
   "metadata": {},
   "outputs": [
    {
     "data": {
      "text/plain": [
       "[('the',), ('food',), ('is',), ('good',)]"
      ]
     },
     "execution_count": 401,
     "metadata": {},
     "output_type": "execute_result"
    }
   ],
   "source": [
    "list(ngrams(words,1)) # n=1"
   ]
  },
  {
   "cell_type": "code",
   "execution_count": 403,
   "id": "418af192-940c-4bc3-9ea2-47d3ceaea3a4",
   "metadata": {},
   "outputs": [
    {
     "name": "stdout",
     "output_type": "stream",
     "text": [
      "[('the',), ('food',), ('is',), ('good',)]\n",
      "[('the', 'food'), ('food', 'is'), ('is', 'good')]\n",
      "[('the', 'food', 'is'), ('food', 'is', 'good')]\n",
      "[('the', 'food', 'is', 'good')]\n",
      "[]\n"
     ]
    }
   ],
   "source": [
    "words = word_tokenize(s)\n",
    "print(list(ngrams(words,1)))# n=1\n",
    "print(list(ngrams(words,2)))# n=2\n",
    "print(list(ngrams(words,3)))# n=3\n",
    "print(list(ngrams(words,4)))# n=4\n",
    "print(list(ngrams(words,5)))# n=5"
   ]
  },
  {
   "cell_type": "code",
   "execution_count": null,
   "id": "cc370f80-ba13-4b78-89c8-561b61d2f469",
   "metadata": {},
   "outputs": [],
   "source": [
    "################################# END OF THE SESSION ###############################"
   ]
  }
 ],
 "metadata": {
  "kernelspec": {
   "display_name": "Python 3 (ipykernel)",
   "language": "python",
   "name": "python3"
  },
  "language_info": {
   "codemirror_mode": {
    "name": "ipython",
    "version": 3
   },
   "file_extension": ".py",
   "mimetype": "text/x-python",
   "name": "python",
   "nbconvert_exporter": "python",
   "pygments_lexer": "ipython3",
   "version": "3.12.3"
  }
 },
 "nbformat": 4,
 "nbformat_minor": 5
}
