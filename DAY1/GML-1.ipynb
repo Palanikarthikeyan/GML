{
 "cells": [
  {
   "cell_type": "code",
   "execution_count": null,
   "id": "c70da960-0a89-4e68-a319-a759756dc81c",
   "metadata": {},
   "outputs": [],
   "source": [
    "python.org\n",
    "|\n",
    "cpython - we can do general python programming\n",
    "\n",
    "numpy pandas matplotlib seabon ... ml libs - not exists \n",
    "pip install numpy\n",
    "...\n",
    "cpython - GlobalInterpreterLock(GIL) is enabled  - like mutex (lock)\n",
    "------- \n",
    "      Thread1  Thread2 ...ThreadN //\n",
    "\n",
    "In python everything is an object -> class <==> object \n",
    "\n",
    "|\n",
    "download python -> from anaconda portal\n",
    "ipython  jython pypy ...\n",
    "GIL = disabled <== 1. Thread create  2. Thread synchronization\n",
    "+\n",
    "ML,DA Libs = numpy pandas matplotlib seaborn scikitlearn ...//available\n",
    "\n",
    "ML DA //\n",
    "\n",
    "\n",
    "Linux like os\n",
    "mac os\n",
    "----------------//by default python2.x is available \n",
    "python3 \n",
    "pip3 install "
   ]
  },
  {
   "cell_type": "code",
   "execution_count": 1,
   "id": "d30d7daf-925d-4581-8260-fd7df6f518bf",
   "metadata": {},
   "outputs": [
    {
     "name": "stdout",
     "output_type": "stream",
     "text": [
      "10\n",
      "<class 'int'>\n"
     ]
    }
   ],
   "source": [
    "print(10)\n",
    "print(type(10))"
   ]
  },
  {
   "cell_type": "code",
   "execution_count": null,
   "id": "29433ea4-0640-4e7d-ae18-428c49ead141",
   "metadata": {},
   "outputs": [],
   "source": [
    "python program\n",
    "  |-> 1. procedure style code - DS + operators + conditional /loop + functions //logical skills\n",
    "  |-> 2. oops - style code - class <--> object <--> methods \n",
    "  |-> 3. functional style code - expression style code // ML DS DL.. Higher order coding "
   ]
  },
  {
   "cell_type": "code",
   "execution_count": 3,
   "id": "c46aab6e-604b-4367-bb57-19996d566e4c",
   "metadata": {},
   "outputs": [
    {
     "name": "stdout",
     "output_type": "stream",
     "text": [
      "[20, 30, 40, 50, 60]\n"
     ]
    }
   ],
   "source": [
    "L = []  # L = list()\n",
    "\n",
    "def f1(a):\n",
    "    return a+10\n",
    "\n",
    "for var in [10,20,30,40,50]:\n",
    "    r = f1(var)\n",
    "    L.append(r)\n",
    "\n",
    "print(L)"
   ]
  },
  {
   "cell_type": "code",
   "execution_count": 5,
   "id": "17b2a469-c259-4060-ae06-af8e71e7fe54",
   "metadata": {},
   "outputs": [
    {
     "data": {
      "text/plain": [
       "[20, 30, 40, 50, 60]"
      ]
     },
     "execution_count": 5,
     "metadata": {},
     "output_type": "execute_result"
    }
   ],
   "source": [
    "list(map(lambda a:a+10,[10,20,30,40,50]))"
   ]
  },
  {
   "cell_type": "raw",
   "id": "467ba268-1499-4728-af74-b87d1352038c",
   "metadata": {},
   "source": [
    "python programming ->numpy ->pandas ->matplotlib ->networkx ->nltk ->scikitlearn ->deepwalk"
   ]
  },
  {
   "cell_type": "code",
   "execution_count": null,
   "id": "2fd99d33-33e4-4413-b59f-c116add6fce7",
   "metadata": {},
   "outputs": [],
   "source": [
    "python native types  ( type -- class)\n",
    "int float complex None bool str bytes\n",
    "list tuple dict set \n",
    "-------------------------------------//native types\n",
    "\n",
    "numerical        bool           NoneType           collection \n",
    "|->int          |->True         |->None            |->str,bytes,list,tuple,dict,set\n",
    "|->float        |->False \n",
    "|->complex"
   ]
  },
  {
   "cell_type": "code",
   "execution_count": 11,
   "id": "e7ee6adc-1d94-4c10-96b5-c7f2841b928c",
   "metadata": {},
   "outputs": [
    {
     "name": "stdout",
     "output_type": "stream",
     "text": [
      "<class 'int'>\n",
      "<class 'float'>\n",
      "<class 'complex'>\n"
     ]
    }
   ],
   "source": [
    "print(type(10))\n",
    "print(type(10.0))\n",
    "print(type(10+0j))"
   ]
  },
  {
   "cell_type": "code",
   "execution_count": null,
   "id": "b00108e9-df1b-4229-bdf4-5cdd16255c78",
   "metadata": {},
   "outputs": [],
   "source": [
    "Collection\n",
    "-----------\n",
    "str - collection of chars -> '' ->'abc2434@#$#@$ GSF' -> immutable\n",
    "bytes - collection of ASCII -> b'' ->b'ab324242#$#@ FDS' ->immutable \n",
    "\n",
    "list - collection of different types of items -> [101,1.34,True,'data',None] - mutable \n",
    "Vs\n",
    "tuple - collection of different types of items -> (101,1.34,True,'data',None) - immutable \n",
    "\n",
    "dict - collection of different types of items//(key:value) -> {key1:value,key2:value,..Kn:Vn} - mutable\n",
    "\n",
    "set - collection of keys (or) collection of different types of items - NOT index , NOT Key:Value based\n",
    "\n",
    "new to python (or) programming\n",
    "-------------------------------\n",
    "step 1: 1st understand the topic definition\n",
    "step 2: understand the topic syntax - rule\n",
    "step 3: refer an existing examples \n",
    "|\n",
    "step 4: exercise "
   ]
  },
  {
   "cell_type": "code",
   "execution_count": 13,
   "id": "e37bdf29-cd15-4391-98ef-55547edcfa57",
   "metadata": {},
   "outputs": [
    {
     "name": "stdout",
     "output_type": "stream",
     "text": [
      "10\n"
     ]
    },
    {
     "ename": "NameError",
     "evalue": "name 'Va' is not defined",
     "output_type": "error",
     "traceback": [
      "\u001b[1;31m---------------------------------------------------------------------------\u001b[0m",
      "\u001b[1;31mNameError\u001b[0m                                 Traceback (most recent call last)",
      "Cell \u001b[1;32mIn[13], line 5\u001b[0m\n\u001b[0;32m      3\u001b[0m va \u001b[38;5;241m=\u001b[39m \u001b[38;5;241m10\u001b[39m \u001b[38;5;66;03m# initialization \u001b[39;00m\n\u001b[0;32m      4\u001b[0m \u001b[38;5;28mprint\u001b[39m(va)\n\u001b[1;32m----> 5\u001b[0m \u001b[38;5;28mprint\u001b[39m(Va)\n",
      "\u001b[1;31mNameError\u001b[0m: name 'Va' is not defined"
     ]
    }
   ],
   "source": [
    "# variable - namespace (or) label - mapping an existing value(object)\n",
    "\n",
    "va = 10 # initialization \n",
    "print(va)\n",
    "print(Va)"
   ]
  },
  {
   "cell_type": "code",
   "execution_count": 17,
   "id": "1c762bc8-5c74-4b6d-93b4-4d4e63c0224e",
   "metadata": {},
   "outputs": [
    {
     "ename": "SyntaxError",
     "evalue": "invalid syntax. Perhaps you forgot a comma? (4106157526.py, line 3)",
     "output_type": "error",
     "traceback": [
      "\u001b[1;36m  Cell \u001b[1;32mIn[17], line 3\u001b[1;36m\u001b[0m\n\u001b[1;33m    print(person name) # person name is: karthik\u001b[0m\n\u001b[1;37m          ^\u001b[0m\n\u001b[1;31mSyntaxError\u001b[0m\u001b[1;31m:\u001b[0m invalid syntax. Perhaps you forgot a comma?\n"
     ]
    }
   ],
   "source": [
    "name='karthik'\n",
    "print(name)\n",
    "print(person name) # person name is: karthik"
   ]
  },
  {
   "cell_type": "code",
   "execution_count": null,
   "id": "e5236384-4dc6-4e89-a3be-de3fdfd4b18a",
   "metadata": {},
   "outputs": [],
   "source": [
    "SyntaxError - not following python rules"
   ]
  },
  {
   "cell_type": "code",
   "execution_count": 19,
   "id": "20e3cb93-28c5-4f2e-ac01-5abcae620bdd",
   "metadata": {},
   "outputs": [
    {
     "ename": "SyntaxError",
     "evalue": "invalid syntax (3229757424.py, line 1)",
     "output_type": "error",
     "traceback": [
      "\u001b[1;36m  Cell \u001b[1;32mIn[19], line 1\u001b[1;36m\u001b[0m\n\u001b[1;33m    $name='leo'\u001b[0m\n\u001b[1;37m    ^\u001b[0m\n\u001b[1;31mSyntaxError\u001b[0m\u001b[1;31m:\u001b[0m invalid syntax\n"
     ]
    }
   ],
   "source": [
    "$name='leo'"
   ]
  },
  {
   "cell_type": "code",
   "execution_count": 21,
   "id": "d0de5bf3-5f30-499e-84e8-887d54ac893e",
   "metadata": {},
   "outputs": [
    {
     "ename": "SyntaxError",
     "evalue": "invalid decimal literal (1626407020.py, line 1)",
     "output_type": "error",
     "traceback": [
      "\u001b[1;36m  Cell \u001b[1;32mIn[21], line 1\u001b[1;36m\u001b[0m\n\u001b[1;33m    5var=10\u001b[0m\n\u001b[1;37m    ^\u001b[0m\n\u001b[1;31mSyntaxError\u001b[0m\u001b[1;31m:\u001b[0m invalid decimal literal\n"
     ]
    }
   ],
   "source": [
    "5var=10"
   ]
  },
  {
   "cell_type": "raw",
   "id": "32a83662-3f88-4e95-8cbc-15a18a3e2cb4",
   "metadata": {},
   "source": [
    "variable name\n",
    " |->starts with a-zA-Z_ (not digits)\n",
    " |->digit can place other than 1st chars (ex: v5=100 OK  version5_Code=34.23 OK)\n",
    " |->not allows any specialchars , space chars "
   ]
  },
  {
   "cell_type": "code",
   "execution_count": 23,
   "id": "7b9a2d6a-421f-4e0b-b176-d87c2eb0beaa",
   "metadata": {},
   "outputs": [
    {
     "name": "stdout",
     "output_type": "stream",
     "text": [
      "karthik\n",
      "Trainer name is: karthik\n"
     ]
    }
   ],
   "source": [
    "name='karthik'\n",
    "print(name)\n",
    "print(\"Trainer name is:\",name)"
   ]
  },
  {
   "cell_type": "code",
   "execution_count": 25,
   "id": "9aa56c49-c2b6-4e7a-970a-461415661fb4",
   "metadata": {},
   "outputs": [
    {
     "name": "stdout",
     "output_type": "stream",
     "text": [
      "product name is: pA\n",
      "pA ID is: 101\n",
      "pA cost is: 4234.32\n",
      "pA dispatch status: True\n"
     ]
    }
   ],
   "source": [
    "# Write a python program\n",
    "# initialize product name , product ID, product Cost, product dispatch status\n",
    "# display product details\n",
    "\n",
    "pname = 'pA'\n",
    "pid = 101\n",
    "pcost = 4234.32\n",
    "pstatus = True\n",
    "\n",
    "print('product name is:',pname)\n",
    "print(pname,'ID is:',pid)\n",
    "print(pname,'cost is:',pcost)\n",
    "print(pname,'dispatch status:',pstatus)"
   ]
  },
  {
   "cell_type": "raw",
   "id": "6eb590d7-a9db-4c4a-9a23-379bd4ce0d22",
   "metadata": {},
   "source": [
    "Keyboard -----<----input()----------python-----------print()------>------Monitor\n",
    "variable=input('prompt message')\n",
    " |              |___STDOUT_____|\n",
    " |\n",
    "<STDIN>"
   ]
  },
  {
   "cell_type": "code",
   "execution_count": 27,
   "id": "07448022-0b8a-4916-8f0a-24235578228e",
   "metadata": {},
   "outputs": [
    {
     "name": "stdin",
     "output_type": "stream",
     "text": [
      "Enter a product name: book\n"
     ]
    },
    {
     "name": "stdout",
     "output_type": "stream",
     "text": [
      "product name is: book\n"
     ]
    }
   ],
   "source": [
    "pname = input('Enter a product name:')\n",
    "print('product name is:',pname)"
   ]
  },
  {
   "cell_type": "code",
   "execution_count": 29,
   "id": "e4536e4f-bf1c-4f21-9462-1577a3da31e5",
   "metadata": {},
   "outputs": [
    {
     "name": "stdin",
     "output_type": "stream",
     "text": [
      "Enter a product name: HDD\n"
     ]
    },
    {
     "name": "stdout",
     "output_type": "stream",
     "text": [
      "product name is: HDD\n"
     ]
    }
   ],
   "source": [
    "pname = input('Enter a product name:')\n",
    "print('product name is:',pname)"
   ]
  },
  {
   "cell_type": "code",
   "execution_count": 31,
   "id": "8ec4fb82-189b-44b6-a498-1cbfa01cc220",
   "metadata": {},
   "outputs": [
    {
     "name": "stdin",
     "output_type": "stream",
     "text": [
      "Enter a product name: CDROM\n",
      "Enter a product ID: 330\n",
      "Enter a product Cost: 1343.23\n",
      "Enter product dispatch status: True\n"
     ]
    },
    {
     "name": "stdout",
     "output_type": "stream",
     "text": [
      "product name is: CDROM\n",
      "CDROM ID is: 330\n",
      "CDROM cost is: 1343.23\n",
      "CDROM dispatch status: True\n"
     ]
    }
   ],
   "source": [
    "pname = input('Enter a product name:')\n",
    "pid = input('Enter a product ID:')\n",
    "pcost = input('Enter a product Cost:')\n",
    "pstatus = input('Enter product dispatch status:')\n",
    "\n",
    "print('product name is:',pname)\n",
    "print(pname,'ID is:',pid)\n",
    "print(pname,'cost is:',pcost)\n",
    "print(pname,'dispatch status:',pstatus)"
   ]
  },
  {
   "cell_type": "code",
   "execution_count": 39,
   "id": "5191ff1d-ff1d-4461-9232-e42bfea6ad0a",
   "metadata": {},
   "outputs": [
    {
     "name": "stdout",
     "output_type": "stream",
     "text": [
      "<class 'int'> 45\n",
      "45.0\n",
      "<class 'int'> 45\n"
     ]
    },
    {
     "data": {
      "text/plain": [
       "'45'"
      ]
     },
     "execution_count": 39,
     "metadata": {},
     "output_type": "execute_result"
    }
   ],
   "source": [
    "#Typecasting\n",
    "#-----------\n",
    "#change from current type ->new type\n",
    "\n",
    "n=45\n",
    "print(type(n),n)\n",
    "\n",
    "# convert to float ->  float(current_type) ->float_result\n",
    "\n",
    "print(float(n))\n",
    "print(type(n),n)\n",
    "str(n) # convert to string"
   ]
  },
  {
   "cell_type": "code",
   "execution_count": 41,
   "id": "ecaf8097-e159-486c-a412-b080b31711f0",
   "metadata": {},
   "outputs": [
    {
     "name": "stdout",
     "output_type": "stream",
     "text": [
      "<class 'str'> <class 'str'>\n"
     ]
    }
   ],
   "source": [
    "sa = '56'\n",
    "sb = '98.34'\n",
    "print(type(sa),type(sb))"
   ]
  },
  {
   "cell_type": "code",
   "execution_count": 43,
   "id": "17b618ff-d104-45bd-893b-335c9ac48e5f",
   "metadata": {},
   "outputs": [
    {
     "data": {
      "text/plain": [
       "56"
      ]
     },
     "execution_count": 43,
     "metadata": {},
     "output_type": "execute_result"
    }
   ],
   "source": [
    "int(sa)"
   ]
  },
  {
   "cell_type": "code",
   "execution_count": 45,
   "id": "cca9c98c-7f89-4661-83a7-8d4d318e8ac0",
   "metadata": {},
   "outputs": [
    {
     "data": {
      "text/plain": [
       "56.0"
      ]
     },
     "execution_count": 45,
     "metadata": {},
     "output_type": "execute_result"
    }
   ],
   "source": [
    "float(sa)"
   ]
  },
  {
   "cell_type": "code",
   "execution_count": 47,
   "id": "74ef97d5-3845-4892-8551-b5eb333d394d",
   "metadata": {},
   "outputs": [
    {
     "data": {
      "text/plain": [
       "98.34"
      ]
     },
     "execution_count": 47,
     "metadata": {},
     "output_type": "execute_result"
    }
   ],
   "source": [
    "float(sb)"
   ]
  },
  {
   "cell_type": "code",
   "execution_count": 49,
   "id": "5a3e1a09-51bc-48dd-9df0-ea8e501ac12b",
   "metadata": {},
   "outputs": [
    {
     "name": "stdin",
     "output_type": "stream",
     "text": [
      "Enter a product ID: 450\n",
      "Enter a product Cost: 1234.42\n"
     ]
    },
    {
     "name": "stdout",
     "output_type": "stream",
     "text": [
      "<class 'str'> <class 'str'>\n"
     ]
    }
   ],
   "source": [
    "pid = input('Enter a product ID:')\n",
    "pcost = input('Enter a product Cost:')\n",
    "print(type(pid),type(pcost))"
   ]
  },
  {
   "cell_type": "code",
   "execution_count": 51,
   "id": "0f86df5c-4657-41eb-b366-728076a3abb6",
   "metadata": {},
   "outputs": [
    {
     "data": {
      "text/plain": [
       "'450'"
      ]
     },
     "execution_count": 51,
     "metadata": {},
     "output_type": "execute_result"
    }
   ],
   "source": [
    "pid"
   ]
  },
  {
   "cell_type": "code",
   "execution_count": 53,
   "id": "de110223-ec36-422d-b767-35ab539a6f27",
   "metadata": {},
   "outputs": [
    {
     "data": {
      "text/plain": [
       "'1234.42'"
      ]
     },
     "execution_count": 53,
     "metadata": {},
     "output_type": "execute_result"
    }
   ],
   "source": [
    "pcost"
   ]
  },
  {
   "cell_type": "code",
   "execution_count": 55,
   "id": "81d759b1-cdc1-480a-9d58-9ebf859dbd1a",
   "metadata": {},
   "outputs": [
    {
     "data": {
      "text/plain": [
       "180.0"
      ]
     },
     "execution_count": 55,
     "metadata": {},
     "output_type": "execute_result"
    }
   ],
   "source": [
    "1000 * 0.18"
   ]
  },
  {
   "cell_type": "code",
   "execution_count": 57,
   "id": "6206d94e-58e1-4d15-9eeb-39af32460688",
   "metadata": {},
   "outputs": [
    {
     "ename": "TypeError",
     "evalue": "can't multiply sequence by non-int of type 'float'",
     "output_type": "error",
     "traceback": [
      "\u001b[1;31m---------------------------------------------------------------------------\u001b[0m",
      "\u001b[1;31mTypeError\u001b[0m                                 Traceback (most recent call last)",
      "Cell \u001b[1;32mIn[57], line 1\u001b[0m\n\u001b[1;32m----> 1\u001b[0m pcost \u001b[38;5;241m*\u001b[39m \u001b[38;5;241m0.18\u001b[39m\n",
      "\u001b[1;31mTypeError\u001b[0m: can't multiply sequence by non-int of type 'float'"
     ]
    }
   ],
   "source": [
    "pcost * 0.18"
   ]
  },
  {
   "cell_type": "code",
   "execution_count": 59,
   "id": "b0597a98-8742-42e3-b7f2-3055a98c71ee",
   "metadata": {},
   "outputs": [
    {
     "data": {
      "text/plain": [
       "222.1956"
      ]
     },
     "execution_count": 59,
     "metadata": {},
     "output_type": "execute_result"
    }
   ],
   "source": [
    "float(pcost) * 0.18"
   ]
  },
  {
   "cell_type": "code",
   "execution_count": 61,
   "id": "9868f901-0b50-4103-a62b-7cd48b24e7d7",
   "metadata": {},
   "outputs": [
    {
     "name": "stdout",
     "output_type": "stream",
     "text": [
      "222.1956\n"
     ]
    }
   ],
   "source": [
    "tax = float(pcost) * 0.18\n",
    "print(tax)"
   ]
  },
  {
   "cell_type": "code",
   "execution_count": null,
   "id": "61ddaf81-5e67-4bdd-ad96-f5715cbcf3f8",
   "metadata": {},
   "outputs": [],
   "source": [
    "python supports following operators\n",
    "arithmetic =>  +  -  *  / // ** (input/output: int,float)\n",
    "string =>  +  * (input: str,int ->output: str)\n",
    "\n",
    "relational operators => == != < <= > >= (inputs: int,float,str  output ->bool)\n",
    "|\n",
    "logical operators => and or not (inputs: int,float,str  output ->bool)"
   ]
  },
  {
   "cell_type": "code",
   "execution_count": 69,
   "id": "866050ab-9586-4b52-a14f-4d1b9d8b53e3",
   "metadata": {},
   "outputs": [
    {
     "name": "stdout",
     "output_type": "stream",
     "text": [
      "30\n",
      "30.0\n",
      "ab\n",
      "attached hard disk is: xvdb\n",
      "attached hard disk is:xvdb\n",
      "product id is: 456\n",
      "product id is:456\n"
     ]
    }
   ],
   "source": [
    "print(10+20)\n",
    "print(10+20.0)\n",
    "print('a'+'b')\n",
    "pname='xvdb'\n",
    "pid=456\n",
    "print('attached hard disk is:',pname)\n",
    "print('attached hard disk is:'+pname) #<===\n",
    "print('product id is:',pid)\n",
    "print('product id is:'+str(pid))  #<==="
   ]
  },
  {
   "cell_type": "code",
   "execution_count": 71,
   "id": "aae6aeaa-8424-47f0-867b-23540da0e976",
   "metadata": {},
   "outputs": [
    {
     "name": "stdout",
     "output_type": "stream",
     "text": [
      "30\n",
      "Hello\n",
      "Hello\n",
      "Hello\n",
      "\n"
     ]
    }
   ],
   "source": [
    "print(10*3)\n",
    "print('Hello\\n'*3)"
   ]
  },
  {
   "cell_type": "code",
   "execution_count": 73,
   "id": "fd781b64-1838-4f7e-866a-9a42b8072241",
   "metadata": {},
   "outputs": [
    {
     "data": {
      "text/plain": [
       "False"
      ]
     },
     "execution_count": 73,
     "metadata": {},
     "output_type": "execute_result"
    }
   ],
   "source": [
    "150 > 650.32"
   ]
  },
  {
   "cell_type": "code",
   "execution_count": 75,
   "id": "829c198f-f8ca-46b3-9e72-1d9720702c12",
   "metadata": {},
   "outputs": [
    {
     "data": {
      "text/plain": [
       "True"
      ]
     },
     "execution_count": 75,
     "metadata": {},
     "output_type": "execute_result"
    }
   ],
   "source": [
    "'root' == 'root'"
   ]
  },
  {
   "cell_type": "code",
   "execution_count": 79,
   "id": "4a16c4ff-f1ee-4703-937c-8a7cfa5f68bd",
   "metadata": {},
   "outputs": [
    {
     "data": {
      "text/plain": [
       "True"
      ]
     },
     "execution_count": 79,
     "metadata": {},
     "output_type": "execute_result"
    }
   ],
   "source": [
    "10<50"
   ]
  },
  {
   "cell_type": "code",
   "execution_count": 81,
   "id": "0306d21c-a38d-47a4-9375-12f96c6cade7",
   "metadata": {},
   "outputs": [
    {
     "data": {
      "text/plain": [
       "True"
      ]
     },
     "execution_count": 81,
     "metadata": {},
     "output_type": "execute_result"
    }
   ],
   "source": [
    "port=5500\n",
    "\n",
    "port >5000 # test1\n",
    "port <6000 # test2\n",
    "\n",
    "port >5000 and port <6000"
   ]
  },
  {
   "cell_type": "code",
   "execution_count": 83,
   "id": "7273185b-5594-4d7e-b97b-9fab1d594db0",
   "metadata": {},
   "outputs": [
    {
     "data": {
      "text/plain": [
       "True"
      ]
     },
     "execution_count": 83,
     "metadata": {},
     "output_type": "execute_result"
    }
   ],
   "source": [
    "os_dis='ubuntu'\n",
    "\n",
    "os_dis == 'RedHat' or os_dis == 'ubuntu'"
   ]
  },
  {
   "cell_type": "code",
   "execution_count": 85,
   "id": "c9cfc606-e11d-4e19-8c40-af68d9e07a31",
   "metadata": {},
   "outputs": [
    {
     "data": {
      "text/plain": [
       "False"
      ]
     },
     "execution_count": 85,
     "metadata": {},
     "output_type": "execute_result"
    }
   ],
   "source": [
    "os_dis == 'RedHat'"
   ]
  },
  {
   "cell_type": "code",
   "execution_count": 87,
   "id": "f599e26c-b12a-4897-92d3-d04147d11ff1",
   "metadata": {},
   "outputs": [
    {
     "data": {
      "text/plain": [
       "True"
      ]
     },
     "execution_count": 87,
     "metadata": {},
     "output_type": "execute_result"
    }
   ],
   "source": [
    "os_dis == 'ubuntu'"
   ]
  },
  {
   "cell_type": "raw",
   "id": "3e41b3ac-d393-44a8-9c39-a532d0caedb2",
   "metadata": {},
   "source": [
    "In python any expression -> True/False\n",
    "any method/function -> True /False\n",
    "--------------------------------------//use conditional statement \n",
    "Conditional statement \n",
    "- code block - execute only one time\n",
    "\n",
    "if(condition):\n",
    "   <True block>\n",
    "\n",
    "if(condition):\n",
    "   <True block>\n",
    "else:\n",
    "   <False block>\n",
    "\n",
    "if(condition1):\n",
    "    <True-1>\n",
    "elif(condition2):\n",
    "    <True-2>\n",
    "elif(condition3):\n",
    "   <True-3>\n",
    "..\n",
    "elif(conditionN):\n",
    "   <True-N>\n",
    "else:\n",
    "   <False block>"
   ]
  },
  {
   "cell_type": "raw",
   "id": "b9684ab6-6636-4221-aa78-5adfa18400e1",
   "metadata": {},
   "source": [
    "Write a python program:\n",
    " read a product name from <STDIN>\n",
    " read a product Cost from <STDIN>\n",
    " test - product Cost range is 1001 - 1999 \n",
    "                 -> calculate tax 12%\n",
    "                 -> tax + productCost ->Gs \n",
    "        if product cost is not the above range\n",
    "                 -> calculate tax 18%\n",
    "                 -> tax + productCost ->Gs \n",
    " ->display Gross pay"
   ]
  },
  {
   "cell_type": "code",
   "execution_count": 89,
   "id": "e9bde2ab-4ed7-4b15-aeee-ecacbb3b34bd",
   "metadata": {},
   "outputs": [
    {
     "name": "stdin",
     "output_type": "stream",
     "text": [
      "Enter a product name: pA\n",
      "Enter a product Cost: 1250\n"
     ]
    },
    {
     "name": "stdout",
     "output_type": "stream",
     "text": [
      "product name: pA Tax Amount: 150.0 Gs pay: 1400.0\n"
     ]
    }
   ],
   "source": [
    "pname = input('Enter a product name:')\n",
    "pcost = input('Enter a product Cost:')\n",
    "if(float(pcost) >1000 and float(pcost) <2000):\n",
    "    tax = float(pcost) * 0.12\n",
    "    gs = float(pcost) + tax\n",
    "else:\n",
    "    tax = float(pcost) * 0.18\n",
    "    gs = float(pcost) + tax\n",
    "\n",
    "print('product name:',pname,'Tax Amount:',tax,'Gs pay:',gs)"
   ]
  },
  {
   "cell_type": "code",
   "execution_count": 91,
   "id": "3ad67bbd-409c-4f0b-b6e0-84dd4733ace2",
   "metadata": {},
   "outputs": [
    {
     "name": "stdin",
     "output_type": "stream",
     "text": [
      "Enter a product name: pB\n",
      "Enter a product Cost: 2590\n"
     ]
    },
    {
     "name": "stdout",
     "output_type": "stream",
     "text": [
      "product name: pB Tax Amount: 466.2 Gs pay: 3056.2\n"
     ]
    }
   ],
   "source": [
    "pname = input('Enter a product name:')\n",
    "pcost = input('Enter a product Cost:')\n",
    "\n",
    "if(float(pcost) >1000 and float(pcost) <2000):\n",
    "    tax = float(pcost) * 0.12\n",
    "    gs = float(pcost) + tax\n",
    "else:\n",
    "    tax = float(pcost) * 0.18\n",
    "    gs = float(pcost) + tax\n",
    "\n",
    "print('product name:',pname,'Tax Amount:',tax,'Gs pay:',gs)"
   ]
  },
  {
   "cell_type": "code",
   "execution_count": 93,
   "id": "415ec752-1482-4530-af39-29c15c5f8eab",
   "metadata": {},
   "outputs": [
    {
     "name": "stdout",
     "output_type": "stream",
     "text": [
      "product name:pB Tax amount is:466.2 GS Pay:3056.2\n"
     ]
    }
   ],
   "source": [
    "print(f'product name:{pname} Tax amount is:{tax} GS Pay:{gs}')"
   ]
  },
  {
   "cell_type": "code",
   "execution_count": null,
   "id": "abb0e369-6e81-4a72-9845-74a727991f85",
   "metadata": {},
   "outputs": [],
   "source": [
    "python supports looping statements\n",
    "1. conditional style -> True ->loop will execute ; False ->loop won't execute\n",
    "   while \n",
    "     ->initialization - starting point  i=0       i=15\n",
    "     ->condition - limit                i<5       i>10\n",
    "     ->arithmetic                       i=i+1     i=i-1\n",
    "\n",
    "break - exit from loop\n",
    "continue - continue the loop \n",
    "\n",
    "while(True):\n",
    "    always active\n",
    "\n",
    "2. collection style -> depends on the collection of items\n",
    "   for\n",
    "   for variable in <collection>:\n",
    "       .....\n",
    "       "
   ]
  },
  {
   "cell_type": "code",
   "execution_count": 95,
   "id": "0ddf48e2-bf60-42a8-9562-19238baf27e8",
   "metadata": {},
   "outputs": [
    {
     "name": "stdout",
     "output_type": "stream",
     "text": [
      "test message count from:0\n",
      "test message count from:1\n",
      "test message count from:2\n",
      "test message count from:3\n",
      "test message count from:4\n",
      "\n",
      "var value is:H\n",
      "var value is:e\n",
      "var value is:l\n",
      "var value is:l\n",
      "var value is:o\n"
     ]
    }
   ],
   "source": [
    "i=0\n",
    "while(i<5):\n",
    "    print(f'test message count from:{i}')\n",
    "    i=i+1\n",
    "\n",
    "print('')\n",
    "for var in 'Hello':\n",
    "    print(f'var value is:{var}')"
   ]
  },
  {
   "cell_type": "code",
   "execution_count": 101,
   "id": "aeb113cf-0c84-4d5f-ab04-9bc69b3d502a",
   "metadata": {},
   "outputs": [
    {
     "name": "stdout",
     "output_type": "stream",
     "text": [
      "12\n",
      "t e\n",
      "e\n",
      "st m\n",
      "sage\n"
     ]
    },
    {
     "ename": "IndexError",
     "evalue": "string index out of range",
     "output_type": "error",
     "traceback": [
      "\u001b[1;31m---------------------------------------------------------------------------\u001b[0m",
      "\u001b[1;31mIndexError\u001b[0m                                Traceback (most recent call last)",
      "Cell \u001b[1;32mIn[101], line 9\u001b[0m\n\u001b[0;32m      7\u001b[0m \u001b[38;5;28mprint\u001b[39m(s[\u001b[38;5;241m2\u001b[39m:\u001b[38;5;241m6\u001b[39m]) \u001b[38;5;66;03m# from 2nd index to 5th index(6-1)\u001b[39;00m\n\u001b[0;32m      8\u001b[0m \u001b[38;5;28mprint\u001b[39m(s[\u001b[38;5;241m-\u001b[39m\u001b[38;5;241m4\u001b[39m:]) \u001b[38;5;66;03m# last 4 chars\u001b[39;00m\n\u001b[1;32m----> 9\u001b[0m s[\u001b[38;5;241m15\u001b[39m]\n",
      "\u001b[1;31mIndexError\u001b[0m: string index out of range"
     ]
    }
   ],
   "source": [
    "# str,bytes,list,tuple - index based \n",
    "\n",
    "s='test message'\n",
    "print(len(s))\n",
    "print(s[0],s[1])\n",
    "print(s[-1]) # last index\n",
    "print(s[2:6]) # from 2nd index to 5th index(6-1)\n",
    "print(s[-4:]) # last 4 chars\n",
    "s[15]"
   ]
  },
  {
   "cell_type": "code",
   "execution_count": 103,
   "id": "7a079e31-e948-49de-9619-fe083691f1dd",
   "metadata": {},
   "outputs": [
    {
     "name": "stdout",
     "output_type": "stream",
     "text": [
      "<class 'list'>\n",
      "pA\n",
      "101\n",
      "True\n",
      "[101, 1334.23, True]\n"
     ]
    }
   ],
   "source": [
    "# list - collection of different types of items -> [101,1.34,True,'data',None] - mutable \n",
    "\n",
    "product_info = ['pA',101,1334.23,True]\n",
    "print(type(product_info))\n",
    "print(product_info[0])\n",
    "print(product_info[1])\n",
    "print(product_info[-1]) # last index\n",
    "print(product_info[-3:]) # last 3 items"
   ]
  },
  {
   "cell_type": "code",
   "execution_count": 105,
   "id": "6869f56c-4819-497c-b5c7-87f1d29b9dd3",
   "metadata": {},
   "outputs": [
    {
     "name": "stdout",
     "output_type": "stream",
     "text": [
      "pA\n",
      "101\n",
      "1334.23\n",
      "True\n"
     ]
    }
   ],
   "source": [
    "for var in product_info:\n",
    "    print(var)"
   ]
  },
  {
   "cell_type": "code",
   "execution_count": 107,
   "id": "ca7baa28-69ed-4acc-8d51-b1ee13f37401",
   "metadata": {},
   "outputs": [
    {
     "name": "stdout",
     "output_type": "stream",
     "text": [
      "<class 'tuple'>\n",
      "pA\n",
      "101\n",
      "True\n",
      "(101, 1334.23, True)\n"
     ]
    }
   ],
   "source": [
    "product_info = ('pA',101,1334.23,True)\n",
    "print(type(product_info))\n",
    "print(product_info[0])\n",
    "print(product_info[1])\n",
    "print(product_info[-1]) # last index\n",
    "print(product_info[-3:]) # last 3 items"
   ]
  },
  {
   "cell_type": "code",
   "execution_count": 109,
   "id": "01b94da7-b857-4d4d-b70b-31b383698540",
   "metadata": {},
   "outputs": [
    {
     "name": "stdout",
     "output_type": "stream",
     "text": [
      "pA\n",
      "101\n",
      "1334.23\n",
      "True\n"
     ]
    }
   ],
   "source": [
    "for var in product_info:\n",
    "    print(var)"
   ]
  },
  {
   "cell_type": "code",
   "execution_count": null,
   "id": "abbef82b-7b57-4882-932e-e3947bf4df2b",
   "metadata": {},
   "outputs": [],
   "source": [
    "List - mutable ( we can add/modify/delete)\n",
    "Vs\n",
    "Tuple - immutable ( we can't add/modify/delete)"
   ]
  },
  {
   "cell_type": "code",
   "execution_count": 113,
   "id": "6935eb20-8791-4b04-859f-01091b925a62",
   "metadata": {},
   "outputs": [
    {
     "name": "stdout",
     "output_type": "stream",
     "text": [
      "10.34\n",
      "[10, 5902, 'data']\n"
     ]
    }
   ],
   "source": [
    "L=[10,10.34,\"data\"]\n",
    "print(L[1])\n",
    "L[1]=5902 # modifying an existing index\n",
    "print(L)"
   ]
  },
  {
   "cell_type": "raw",
   "id": "7d974fa0-6c97-4f96-9bc8-803106d63869",
   "metadata": {},
   "source": [
    "T=(10,10.34,\"data\")\n",
    "print(T[1])\n",
    "T[1]=5902 # modifying an existing index\n",
    "#print(L)"
   ]
  },
  {
   "cell_type": "code",
   "execution_count": 117,
   "id": "2cbc50f6-7c4d-4dfe-bc26-ddcc17d64139",
   "metadata": {},
   "outputs": [
    {
     "name": "stdout",
     "output_type": "stream",
     "text": [
      "[10, 20, 30, 40, 'Data1', 'Data2', 45]\n",
      "\n",
      "removed value: 45\n",
      "removed value: 20\n",
      "[10, 30, 40, 'Data1', 'Data2']\n"
     ]
    }
   ],
   "source": [
    "# To add new data to an existing list\n",
    "L=[10,20,30,40]\n",
    "L.append('Data1')\n",
    "L.append('Data2')\n",
    "L.append(45)\n",
    "print(L)\n",
    "print('')\n",
    "# to delete an existing item from list\n",
    "r1=L.pop() #remove last index \n",
    "print('removed value:',r1)\n",
    "r2=L.pop(1) # remove 1st index\n",
    "print('removed value:',r2)\n",
    "print(L)"
   ]
  },
  {
   "cell_type": "code",
   "execution_count": null,
   "id": "a178106b-ed7c-4d88-a45e-0d9293b27784",
   "metadata": {},
   "outputs": [],
   "source": [
    "help(str)\n",
    "help(list)\n",
    "help(tuple)\n",
    "help(dict)\n",
    "\n",
    "press 'q' ->quit from help docs "
   ]
  },
  {
   "cell_type": "code",
   "execution_count": null,
   "id": "8dcd6dc1-bef0-4485-a275-33d482767fad",
   "metadata": {},
   "outputs": [],
   "source": [
    "dict - collection of items - mutable (we can add/modify/delete)\n",
    "----\n",
    "dict_name = {Key1:value,Key2:value,Kn:Vn}\n",
    "\n",
    "         +-------------------------------+\n",
    "         |    Key       |    Value       |\n",
    "         +--------------|----------------+\n",
    "         |    Key1      |    Value       |\n",
    "         +--------------|----------------+\n",
    "         |    Key2      |    Value       |\n",
    "         +--------------|----------------+\n",
    "         |    Key3      |    Value       |\n",
    "         +--------------|----------------+\n",
    "\n",
    "dict_name['inputKey'] ->Value / KeyError \n",
    "\n",
    "dict_name['oldKey']=update_newValue  Vs  List_name[oldindex]=updated_newValue\n",
    "\n",
    "dict_name['newKey']=newValue      Vs  Listname.append(newValue)\n",
    "\n",
    "dict_name.pop('oldKey') ->removedValue  Vs Listname.pop() ; Listname.pop(index)\n",
    "\n"
   ]
  },
  {
   "cell_type": "code",
   "execution_count": 119,
   "id": "71e0cf93-31df-4ba8-837b-a62485209c34",
   "metadata": {},
   "outputs": [
    {
     "name": "stdout",
     "output_type": "stream",
     "text": [
      "0\n"
     ]
    }
   ],
   "source": [
    "product_details={} # empty dict\n",
    "print(len(product_details))"
   ]
  },
  {
   "cell_type": "code",
   "execution_count": 121,
   "id": "523c832a-4fac-421c-b624-6b84bc81d640",
   "metadata": {},
   "outputs": [
    {
     "name": "stdout",
     "output_type": "stream",
     "text": [
      "{'pid': 101, 'pname': 'pA', 'pcost': 12312.21, 'status': True}\n"
     ]
    }
   ],
   "source": [
    "# adding new data to an existing dict\n",
    "product_details['pid']=101\n",
    "product_details['pname']='pA'\n",
    "product_details['pcost']=12312.21\n",
    "product_details['status']=True\n",
    "print(product_details)"
   ]
  },
  {
   "cell_type": "code",
   "execution_count": 129,
   "id": "2bb529f7-5ccf-46fa-82b1-e60d9477adef",
   "metadata": {},
   "outputs": [
    {
     "name": "stdout",
     "output_type": "stream",
     "text": [
      "101\n",
      "pA\n"
     ]
    }
   ],
   "source": [
    "print(product_details['pid'])\n",
    "print(product_details['pname'])"
   ]
  },
  {
   "cell_type": "code",
   "execution_count": null,
   "id": "05a2797b-8018-4acd-88ba-b8979e0581d7",
   "metadata": {},
   "outputs": [],
   "source": [
    "# dict_name['inputKey'] ->Value / KeyError Vs  list_name[index]->Value/IndexError "
   ]
  },
  {
   "cell_type": "code",
   "execution_count": 131,
   "id": "8c9f0ec6-fb44-4546-bc31-1c9a01240d70",
   "metadata": {},
   "outputs": [
    {
     "ename": "KeyError",
     "evalue": "'PName'",
     "output_type": "error",
     "traceback": [
      "\u001b[1;31m---------------------------------------------------------------------------\u001b[0m",
      "\u001b[1;31mKeyError\u001b[0m                                  Traceback (most recent call last)",
      "Cell \u001b[1;32mIn[131], line 1\u001b[0m\n\u001b[1;32m----> 1\u001b[0m \u001b[38;5;28mprint\u001b[39m(product_details[\u001b[38;5;124m'\u001b[39m\u001b[38;5;124mPName\u001b[39m\u001b[38;5;124m'\u001b[39m])\n",
      "\u001b[1;31mKeyError\u001b[0m: 'PName'"
     ]
    }
   ],
   "source": [
    "print(product_details['PName'])"
   ]
  },
  {
   "cell_type": "code",
   "execution_count": 133,
   "id": "10a93074-9903-430f-bb27-f7465396a319",
   "metadata": {},
   "outputs": [
    {
     "name": "stdout",
     "output_type": "stream",
     "text": [
      "pid\n",
      "pname\n",
      "pcost\n",
      "status\n"
     ]
    }
   ],
   "source": [
    "for var in product_details: # will get list of keys \n",
    "    print(var)"
   ]
  },
  {
   "cell_type": "code",
   "execution_count": 135,
   "id": "35d723a9-3f82-4ccc-b894-f503b226efb3",
   "metadata": {},
   "outputs": [
    {
     "name": "stdout",
     "output_type": "stream",
     "text": [
      "pid 101\n",
      "pname pA\n",
      "pcost 12312.21\n",
      "status True\n"
     ]
    }
   ],
   "source": [
    "for var in product_details: # to get list of key values \n",
    "    print(var,product_details[var])"
   ]
  },
  {
   "cell_type": "raw",
   "id": "f03ed5b8-9ac2-41ea-9d1a-389be89d4b22",
   "metadata": {},
   "source": [
    "Write a python program:\n",
    "step 1: create an empty list\n",
    "|\n",
    "step 2: use while loop - limit is 5\n",
    "            -> read a product name from <STDIN>\n",
    "            -> add input product to an existing list ( do append operation)\n",
    "|\n",
    "step 3: use for loop - display list of products one by one\n",
    "|\n",
    "step 4: use len() - display total no.of products\n",
    "--------------------------------------------------------\n",
    "Write a python program: \n",
    " modify an existing code - use dict \n",
    " -> read a product id - key\n",
    " -> read a product name - value\n",
    " -> dict add\n",
    " -> display - key:value //details\n"
   ]
  },
  {
   "cell_type": "code",
   "execution_count": 137,
   "id": "7bc3df14-880f-4d0e-a9c6-67a6bcb32ba9",
   "metadata": {},
   "outputs": [
    {
     "name": "stdin",
     "output_type": "stream",
     "text": [
      "Enter a product name: pA\n",
      "Enter a product name: pB\n",
      "Enter a product name: pC\n",
      "Enter a product name: pD\n",
      "Enter a product name: pE\n"
     ]
    },
    {
     "name": "stdout",
     "output_type": "stream",
     "text": [
      "List of products:-\n",
      "pA\n",
      "pB\n",
      "pC\n",
      "pD\n",
      "pE\n",
      "Total no.of products:5\n"
     ]
    }
   ],
   "source": [
    "products = [] # empty list\n",
    "c=0\n",
    "while(c < 5):\n",
    "    c=c+1  # c+=1 //OK   c++ ++c c-- --c//not supports \n",
    "    pname = input('Enter a product name:')\n",
    "    products.append(pname) # adding new data to an existing list\n",
    "\n",
    "print('List of products:-')\n",
    "for var in products:\n",
    "    print(var)\n",
    "\n",
    "print(f'Total no.of products:{len(products)}')"
   ]
  },
  {
   "cell_type": "code",
   "execution_count": 139,
   "id": "44b243aa-51b4-4e5e-a43b-fb9e79fee51d",
   "metadata": {},
   "outputs": [
    {
     "name": "stdin",
     "output_type": "stream",
     "text": [
      "Enter a product ID: 101\n",
      "Enter a product Name: pA\n",
      "Enter a product ID: 102\n",
      "Enter a product Name: pB\n",
      "Enter a product ID: 103\n",
      "Enter a product Name: pC\n",
      "Enter a product ID: 104\n",
      "Enter a product Name: pD\n",
      "Enter a product ID: 105\n",
      "Enter a product Name: pE\n"
     ]
    },
    {
     "name": "stdout",
     "output_type": "stream",
     "text": [
      "To get product details:-\n",
      "101\t pA\n",
      "102\t pB\n",
      "103\t pC\n",
      "104\t pD\n",
      "105\t pE\n"
     ]
    }
   ],
   "source": [
    "products={} # empty dict\n",
    "\n",
    "c=0\n",
    "while(c<5):\n",
    "    c=c+1\n",
    "    pid = input('Enter a product ID:')\n",
    "    pname = input('Enter a product Name:')\n",
    "    products[pid] = pname # adding new data to an existing dict\n",
    "\n",
    "print('To get product details:-')\n",
    "for var in products:\n",
    "    print(f'{var}\\t {products[var]}')"
   ]
  },
  {
   "cell_type": "code",
   "execution_count": 143,
   "id": "ca97138b-181f-4f67-9e4b-da858fc17e28",
   "metadata": {},
   "outputs": [
    {
     "data": {
      "text/plain": [
       "{'101': 'pA', '102': 'pB', '103': 'pC', '104': 'pD', '105': 'pE'}"
      ]
     },
     "execution_count": 143,
     "metadata": {},
     "output_type": "execute_result"
    }
   ],
   "source": [
    "products"
   ]
  },
  {
   "cell_type": "code",
   "execution_count": 145,
   "id": "67687a70-081f-4e4d-b09b-38aad26813f0",
   "metadata": {},
   "outputs": [
    {
     "data": {
      "text/plain": [
       "'pB'"
      ]
     },
     "execution_count": 145,
     "metadata": {},
     "output_type": "execute_result"
    }
   ],
   "source": [
    "products['102']"
   ]
  },
  {
   "cell_type": "code",
   "execution_count": null,
   "id": "0e2ae217-34e3-47e5-95ba-bac4181f8746",
   "metadata": {},
   "outputs": [],
   "source": [
    "function\n",
    "---------\n",
    " ->Code block\n",
    " |\n",
    " ->function definition \n",
    " ->function call - to invoke a definition\n",
    "\n",
    "syntax:-\n",
    "---------\n",
    "def functionName():\n",
    "    code block\n",
    "\n",
    "functionName() # simple functionCall"
   ]
  },
  {
   "cell_type": "code",
   "execution_count": 147,
   "id": "743b7d06-dd44-44f0-b9fc-d0c2c8c31f2a",
   "metadata": {},
   "outputs": [
    {
     "name": "stdout",
     "output_type": "stream",
     "text": [
      "product Name: pA product id: 101\n"
     ]
    }
   ],
   "source": [
    "def f1():\n",
    "    pname='pA'\n",
    "    pid=101\n",
    "    print('product Name:',pname,'product id:',pid)\n",
    "\n",
    "f1() # simple function call"
   ]
  },
  {
   "cell_type": "code",
   "execution_count": 159,
   "id": "31e5f4d1-db80-433b-bd18-1896ca4d934a",
   "metadata": {},
   "outputs": [
    {
     "name": "stdout",
     "output_type": "stream",
     "text": [
      "product Name: pB product id: 102\n",
      "product Name: pC product id: 103\n",
      "product Name: vbox product id: v-104\n"
     ]
    }
   ],
   "source": [
    "def f2(a1,a2): # required arguments\n",
    "    pname=a1\n",
    "    pid=a2\n",
    "    print('product Name:',pname,'product id:',pid)\n",
    "\n",
    "f2('pB',102)  # function call with arguments\n",
    "f2('pC',103)  # function call with arguments\n",
    "f2('vbox','v-104') # function call with arguments\n",
    "\n",
    "# f2() TypeError: f2() missing 2 required positional arguments: 'a1' and 'a2'\n",
    "# f2('pD') TypeError: f2() missing 1 required positional argument: 'a2'\n",
    "# f2('pD',105,1000) TypeError: f2() takes 2 positional arguments but 3 were given"
   ]
  },
  {
   "cell_type": "code",
   "execution_count": 169,
   "id": "ac8bcc9c-8517-47d2-98e6-ea184752053e",
   "metadata": {},
   "outputs": [
    {
     "name": "stdout",
     "output_type": "stream",
     "text": [
      "product Name: testproduct product id: 0\n",
      "product Name: pA product id: 0\n",
      "product Name: pA product id: 101\n"
     ]
    }
   ],
   "source": [
    "def f2(a1='testproduct',a2=0): # defalt arguments\n",
    "    pname=a1\n",
    "    pid=a2\n",
    "    print('product Name:',pname,'product id:',pid)\n",
    "\n",
    "f2()\n",
    "f2('pA')\n",
    "f2('pA',101)\n",
    "# f2('pA',101,1000) TypeError: f2() takes from 0 to 2 positional arguments but 3 were given"
   ]
  },
  {
   "cell_type": "code",
   "execution_count": 173,
   "id": "3c041b01-7b5b-40f6-a2b4-1e591fe5735a",
   "metadata": {},
   "outputs": [
    {
     "name": "stdout",
     "output_type": "stream",
     "text": [
      "product Name: pA product id: 505\n",
      "product Name: pE product id: 123\n"
     ]
    }
   ],
   "source": [
    "def f3(a1,a2=505): # we can combine required and default args\n",
    "    pname=a1\n",
    "    pid=a2\n",
    "    print('product Name:',pname,'product id:',pid)\n",
    "\n",
    "f3('pA') # OK\n",
    "f3('pE',123) # OK\n",
    "# f3() # TypeError: f3() missing 1 required positional argument: 'a1'"
   ]
  },
  {
   "cell_type": "code",
   "execution_count": 175,
   "id": "6aae42e9-b31d-4e0b-a04e-87c5822de7e4",
   "metadata": {},
   "outputs": [
    {
     "ename": "SyntaxError",
     "evalue": "parameter without a default follows parameter with a default (1470103033.py, line 1)",
     "output_type": "error",
     "traceback": [
      "\u001b[1;36m  Cell \u001b[1;32mIn[175], line 1\u001b[1;36m\u001b[0m\n\u001b[1;33m    def fx(a1,a2,a3,a4=True,a5=0,a6):\u001b[0m\n\u001b[1;37m                                 ^\u001b[0m\n\u001b[1;31mSyntaxError\u001b[0m\u001b[1;31m:\u001b[0m parameter without a default follows parameter with a default\n"
     ]
    }
   ],
   "source": [
    "def fx(a1,a2,a3,a4=True,a5=0,a6):\n",
    "    print(\"OK\")"
   ]
  },
  {
   "cell_type": "code",
   "execution_count": 179,
   "id": "89960ef3-4c0e-4097-a0eb-456f0b50f7ce",
   "metadata": {},
   "outputs": [
    {
     "name": "stdout",
     "output_type": "stream",
     "text": [
      "a= 10\n",
      "b= 20\n",
      "a= 500\n",
      "b= 600\n",
      "a= 800\n",
      "b= 20\n"
     ]
    }
   ],
   "source": [
    "def fx(a=10,b=20):\n",
    "    print(\"a=\",a)\n",
    "    print(\"b=\",b)\n",
    "\n",
    "fx()\n",
    "fx(500,600)\n",
    "fx(800) # fx(var=800) "
   ]
  },
  {
   "cell_type": "code",
   "execution_count": 193,
   "id": "92fa34c4-6567-4cc4-89b9-6c01663cca38",
   "metadata": {},
   "outputs": [
    {
     "name": "stdout",
     "output_type": "stream",
     "text": [
      "a= 0 b= True c= data\n",
      "a= 10 b= True c= data\n",
      "a= 10 b= 20 c= data\n",
      "a= 10 b= 20 c= 30\n"
     ]
    }
   ],
   "source": [
    "def fx(a=0,b=True,c='data'):\n",
    "    print(\"a=\",a,\"b=\",b,\"c=\",c)\n",
    "\n",
    "fx()\n",
    "fx(10)\n",
    "fx(10,20)\n",
    "fx(10,20,30)\n",
    "#fx(10,20,30,40) # TypeError: fx() takes from 0 to 3 positional arguments but 4 were given"
   ]
  },
  {
   "cell_type": "code",
   "execution_count": 201,
   "id": "91a939c7-bf3d-4cbf-be4a-722b953e7c4c",
   "metadata": {},
   "outputs": [
    {
     "name": "stdout",
     "output_type": "stream",
     "text": [
      "()\n",
      "(10,)\n",
      "(10, 20)\n",
      "(10, 20, 30)\n",
      "(10, 20, 30, 40)\n"
     ]
    },
    {
     "ename": "TypeError",
     "evalue": "fx() got an unexpected keyword argument 'db'",
     "output_type": "error",
     "traceback": [
      "\u001b[1;31m---------------------------------------------------------------------------\u001b[0m",
      "\u001b[1;31mTypeError\u001b[0m                                 Traceback (most recent call last)",
      "Cell \u001b[1;32mIn[201], line 9\u001b[0m\n\u001b[0;32m      7\u001b[0m fx(\u001b[38;5;241m10\u001b[39m,\u001b[38;5;241m20\u001b[39m,\u001b[38;5;241m30\u001b[39m)\n\u001b[0;32m      8\u001b[0m fx(\u001b[38;5;241m10\u001b[39m,\u001b[38;5;241m20\u001b[39m,\u001b[38;5;241m30\u001b[39m,\u001b[38;5;241m40\u001b[39m)\n\u001b[1;32m----> 9\u001b[0m fx(db\u001b[38;5;241m=\u001b[39m\u001b[38;5;124m'\u001b[39m\u001b[38;5;124mmysql\u001b[39m\u001b[38;5;124m'\u001b[39m)\n",
      "\u001b[1;31mTypeError\u001b[0m: fx() got an unexpected keyword argument 'db'"
     ]
    }
   ],
   "source": [
    "def fx(*args):\n",
    "    print(args)\n",
    "    \n",
    "fx()\n",
    "fx(10)\n",
    "fx(10,20)\n",
    "fx(10,20,30)\n",
    "fx(10,20,30,40)\n",
    "fx(db='mysql')"
   ]
  },
  {
   "cell_type": "code",
   "execution_count": 205,
   "id": "0e54801a-d8d7-4dee-b929-8f0a087dc7e5",
   "metadata": {},
   "outputs": [
    {
     "name": "stdout",
     "output_type": "stream",
     "text": [
      "{'sh': '/bin/bash', 'conf': '/www/html/httpd.conf', 'port': 5000}\n",
      "{}\n"
     ]
    }
   ],
   "source": [
    "def fx(**kwargs):\n",
    "    print(kwargs)\n",
    "\n",
    "fx(sh=\"/bin/bash\",conf=\"/www/html/httpd.conf\",port=5000)\n",
    "fx()"
   ]
  },
  {
   "cell_type": "code",
   "execution_count": 213,
   "id": "d541b3c4-af1d-4284-8b7d-f7fa460abd13",
   "metadata": {},
   "outputs": [
    {
     "name": "stdout",
     "output_type": "stream",
     "text": [
      "()\n",
      "{}\n",
      "(1, 2, 3)\n",
      "{}\n",
      "()\n",
      "{'db': 'mysql'}\n",
      "(10, 20, 30)\n",
      "{'port': 5000, 'app': 'testApp'}\n"
     ]
    }
   ],
   "source": [
    "def fx(*args,**kwargs):\n",
    "    print(args)\n",
    "    print(kwargs)\n",
    "\n",
    "fx()\n",
    "fx(1,2,3)\n",
    "fx(db='mysql')\n",
    "fx(10,20,30,port=5000,app='testApp')"
   ]
  },
  {
   "cell_type": "code",
   "execution_count": 215,
   "id": "b8eb785a-a928-4fb3-8015-27e0b6ef75f2",
   "metadata": {},
   "outputs": [
    {
     "name": "stdout",
     "output_type": "stream",
     "text": [
      "a1= 101\n"
     ]
    },
    {
     "data": {
      "text/plain": [
       "(101, 0)"
      ]
     },
     "execution_count": 215,
     "metadata": {},
     "output_type": "execute_result"
    }
   ],
   "source": [
    "def fx(a1,a2=0,a3=0.0,a4=True): # 1 required argument ; 3 default arguments\n",
    "    print(\"a1=\",a1)\n",
    "    myvar = a1\n",
    "    return myvar,a2\n",
    "\n",
    "fx(101)"
   ]
  },
  {
   "cell_type": "code",
   "execution_count": null,
   "id": "b95d410f-7edb-459f-aea2-52f7c9a4549d",
   "metadata": {},
   "outputs": [],
   "source": [
    "# module \n",
    "# -------\n",
    "#  |-> existing python code (or) file\n",
    "\n",
    "  file: ab.py\n",
    "+------------------------+\n",
    "|  var = 10\n",
    "|  def fx():\n",
    "|      ..\n",
    "|  class className:\n",
    "|        ...\n",
    "|        def fy():\n",
    "|            ..\n",
    "+-------------------------+\n",
    "  # module - reusability\n",
    "\n",
    "file: p1.py               file: p2.py\n",
    "--------------           ------------\n",
    "import ab                import ab\n",
    "print(ab.var)            obj=ab.className()\n",
    "ab.fx()                  obj.fy()\n",
    "--------------           --------------\n"
   ]
  },
  {
   "cell_type": "code",
   "execution_count": 217,
   "id": "34d33390-e88f-4f8f-aab4-66cad04b7d04",
   "metadata": {},
   "outputs": [
    {
     "data": {
      "text/plain": [
       "'C:\\\\Users\\\\theeba'"
      ]
     },
     "execution_count": 217,
     "metadata": {},
     "output_type": "execute_result"
    }
   ],
   "source": [
    "import os\n",
    "os.getcwd()"
   ]
  },
  {
   "cell_type": "code",
   "execution_count": 221,
   "id": "b6f897ad-3a8a-4535-adf6-817e416acbce",
   "metadata": {},
   "outputs": [
    {
     "data": {
      "text/plain": [
       "241"
      ]
     },
     "execution_count": 221,
     "metadata": {},
     "output_type": "execute_result"
    }
   ],
   "source": [
    "len(os.listdir('.'))"
   ]
  },
  {
   "cell_type": "code",
   "execution_count": null,
   "id": "8e863521-f415-4ee2-8132-35461afa96a7",
   "metadata": {},
   "outputs": [],
   "source": [
    "os - os information\n",
    "help(os)\n",
    "\n",
    "sys - python info\n",
    "help(sys)\n",
    "\n",
    "re - regular expression \n",
    "|->search\n",
    "|->substitute \n",
    "\n",
    "from <module> import <member>"
   ]
  },
  {
   "cell_type": "code",
   "execution_count": 223,
   "id": "f77b2310-fd94-40da-ac31-701a5152df65",
   "metadata": {},
   "outputs": [
    {
     "data": {
      "text/plain": [
       "'C:\\\\Users\\\\theeba'"
      ]
     },
     "execution_count": 223,
     "metadata": {},
     "output_type": "execute_result"
    }
   ],
   "source": [
    "import os\n",
    "os.getcwd()"
   ]
  },
  {
   "cell_type": "code",
   "execution_count": 225,
   "id": "ce39d032-df48-4dd7-be9f-81d026b97268",
   "metadata": {},
   "outputs": [
    {
     "ename": "NameError",
     "evalue": "name 'getcwd' is not defined",
     "output_type": "error",
     "traceback": [
      "\u001b[1;31m---------------------------------------------------------------------------\u001b[0m",
      "\u001b[1;31mNameError\u001b[0m                                 Traceback (most recent call last)",
      "Cell \u001b[1;32mIn[225], line 1\u001b[0m\n\u001b[1;32m----> 1\u001b[0m getcwd()\n",
      "\u001b[1;31mNameError\u001b[0m: name 'getcwd' is not defined"
     ]
    }
   ],
   "source": [
    "getcwd()"
   ]
  },
  {
   "cell_type": "code",
   "execution_count": 227,
   "id": "ce059e1e-a52e-4bc3-b28b-621f803a449a",
   "metadata": {},
   "outputs": [
    {
     "data": {
      "text/plain": [
       "'C:\\\\Users\\\\theeba'"
      ]
     },
     "execution_count": 227,
     "metadata": {},
     "output_type": "execute_result"
    }
   ],
   "source": [
    "from os import getcwd\n",
    "getcwd()"
   ]
  },
  {
   "cell_type": "code",
   "execution_count": null,
   "id": "4627271c-1fad-48b8-a483-3016c52cb78b",
   "metadata": {},
   "outputs": [],
   "source": [
    "import <Dir1>.<Sub1>.<Sub2>.filename\n",
    "<Dir1>.<Sub1>.<Sub2>.filename.fx()\n",
    "<Dir1>.<Sub1>.<Sub2>.filename.fy()\n",
    "<Dir1>.<Sub1>.<Sub2>.filename.var"
   ]
  },
  {
   "cell_type": "code",
   "execution_count": 229,
   "id": "fece1b11-ced8-4d96-8e32-eda1f8095b33",
   "metadata": {},
   "outputs": [
    {
     "data": {
      "text/plain": [
       "[<matplotlib.lines.Line2D at 0x28b0d2d4a10>]"
      ]
     },
     "execution_count": 229,
     "metadata": {},
     "output_type": "execute_result"
    },
    {
     "data": {
      "image/png": "[encoded data removed]",
      "text/plain": [
       "<Figure size 640x480 with 1 Axes>"
      ]
     },
     "metadata": {},
     "output_type": "display_data"
    }
   ],
   "source": [
    "import matplotlib.pyplot\n",
    "matplotlib.pyplot.plot([1,2,5],[10,5,25])"
   ]
  },
  {
   "cell_type": "code",
   "execution_count": null,
   "id": "b6c54e8b-0d7e-4675-89e3-5b5cc3c835fc",
   "metadata": {},
   "outputs": [],
   "source": [
    "import <Dir1>.<Sub1>.<Sub2>.filename as <userdefinedName>  # symbolic name (or) alias \n",
    "\n",
    "import Http_template_section_js\n",
    "Http_template_section_js.fx()\n",
    "Http_template_section_js.fy()\n",
    "\n",
    "import Http_template_section_js as ht\n",
    "ht.fx()\n",
    "ht.fy()"
   ]
  },
  {
   "cell_type": "code",
   "execution_count": 231,
   "id": "3f6ed2b2-714d-4456-aa12-e28d99915ef6",
   "metadata": {},
   "outputs": [
    {
     "data": {
      "text/plain": [
       "[<matplotlib.lines.Line2D at 0x28b0d3529c0>]"
      ]
     },
     "execution_count": 231,
     "metadata": {},
     "output_type": "execute_result"
    },
    {
     "data": {
      "image/png": "[encoded data removed]",
      "text/plain": [
       "<Figure size 640x480 with 1 Axes>"
      ]
     },
     "metadata": {},
     "output_type": "display_data"
    }
   ],
   "source": [
    "import matplotlib.pyplot as plt\n",
    "plt.plot([1,2,5],[10,5,25])"
   ]
  },
  {
   "cell_type": "code",
   "execution_count": 235,
   "id": "7a08c03a-383f-4b0c-80e9-50d2a8787b3e",
   "metadata": {},
   "outputs": [
    {
     "name": "stdout",
     "output_type": "stream",
     "text": [
      "<class 'networkx.classes.graph.Graph'>\n"
     ]
    }
   ],
   "source": [
    "import networkx\n",
    "print(networkx.Graph)"
   ]
  },
  {
   "cell_type": "code",
   "execution_count": null,
   "id": "277bbf52-b189-4366-b894-a54d8571dd50",
   "metadata": {},
   "outputs": [],
   "source": [
    "networkx/\n",
    "    |___classes/\n",
    "             |___graph.py\n",
    "                       class Graph"
   ]
  },
  {
   "cell_type": "code",
   "execution_count": 237,
   "id": "b495ec5b-12e9-45ae-b165-437b9d9059cf",
   "metadata": {},
   "outputs": [],
   "source": [
    "import networkx as nx\n",
    "gobj = nx.Graph()\n",
    "gobj.add_edges_from([('A','B'),('A','C')])"
   ]
  },
  {
   "cell_type": "code",
   "execution_count": 241,
   "id": "af6bbad6-bd11-4b64-9557-81416bdf7760",
   "metadata": {},
   "outputs": [
    {
     "data": {
      "image/png": "[encoded data removed]",
      "text/plain": [
       "<Figure size 640x480 with 1 Axes>"
      ]
     },
     "metadata": {},
     "output_type": "display_data"
    }
   ],
   "source": [
    "nx.draw(gobj,with_labels=True)"
   ]
  },
  {
   "cell_type": "code",
   "execution_count": null,
   "id": "af89857d-1b8e-4dac-a823-9c7fadb6a6d9",
   "metadata": {},
   "outputs": [],
   "source": [
    "projectA/\n",
    "      |___ p1.py p2.py ... p50.py\n",
    "      |___ sub-dir1/p1.py p2.py ...p100.py\n",
    "      |___ sub-dir2/\n",
    "                 |__sub-dir3/\n",
    "                           |_pa.py pb.py\n",
    "\n",
    "To run this projectA - import all the python files under projectA => import <folder/directory>\n",
    "\n",
    "import <filename>\n",
    "\n",
    "import os\n",
    "import json,re,sys,numpy\n",
    " <or>\n",
    "import json\n",
    "import re\n",
    "import sys\n",
    "import numpy\n",
    "\n",
    "project folder(or) directory -> module\n",
    "commandline steps:\n",
    "1st => mkdir projectA - create a project directory\n",
    "2nd => collect/copy list of .py files into projectA \n",
    "\n",
    "3rd => create new package initialization file -----> ( __init__.py )<==special file\n",
    "|\n",
    "4th => copy all external symbols to __init__.py file\n",
    "       -------------------------------------------\n",
    "|       from <module> import <member>\n",
    "|       from p1 import *\n",
    "5th => test your directory => import <projectDirectory>\n",
    "                "
   ]
  },
  {
   "cell_type": "code",
   "execution_count": 243,
   "id": "12b497e9-0977-4c02-a1e1-e41836684f8d",
   "metadata": {},
   "outputs": [
    {
     "data": {
      "text/plain": [
       "<module 'os' from 'C:\\\\Users\\\\theeba\\\\anaconda3\\\\Lib\\\\os.py'>"
      ]
     },
     "execution_count": 243,
     "metadata": {},
     "output_type": "execute_result"
    }
   ],
   "source": [
    "import os\n",
    "os"
   ]
  },
  {
   "cell_type": "code",
   "execution_count": 245,
   "id": "c73268a3-fae7-4dbe-8130-7bbdac59fa78",
   "metadata": {},
   "outputs": [
    {
     "data": {
      "text/plain": [
       "<module 'networkx' from 'C:\\\\Users\\\\theeba\\\\anaconda3\\\\Lib\\\\site-packages\\\\networkx\\\\__init__.py'>"
      ]
     },
     "execution_count": 245,
     "metadata": {},
     "output_type": "execute_result"
    }
   ],
   "source": [
    "import networkx\n",
    "networkx"
   ]
  },
  {
   "cell_type": "code",
   "execution_count": null,
   "id": "649408b5-966c-4771-a28a-a775d2863bc3",
   "metadata": {},
   "outputs": [],
   "source": [
    "Functional style programming - Expression style // ML DL DA ..//computation\n",
    "-----------------------------\n",
    " |->not a block style code\n",
    "\n",
    "lambda\n",
    "comprehension\n",
    "generator\n",
    "|\n",
    "map\n",
    "filter\n",
    "enumerator\n",
    "\n",
    "lambda - unnamed function\n",
    "lambda <list of args>:<basicOperation>\n",
    "|\n",
    "function call arguments return some value \n",
    "def f1(a1,a2):\n",
    "    return <someValue>\n",
    "f1(v1,v2)"
   ]
  },
  {
   "cell_type": "code",
   "execution_count": 247,
   "id": "c85cb335-2544-46d2-aba3-35559e6dc57c",
   "metadata": {},
   "outputs": [
    {
     "data": {
      "text/plain": [
       "<function __main__.<lambda>(a1, a2)>"
      ]
     },
     "execution_count": 247,
     "metadata": {},
     "output_type": "execute_result"
    }
   ],
   "source": [
    "lambda a1,a2:a1+a2"
   ]
  },
  {
   "cell_type": "code",
   "execution_count": 249,
   "id": "eec28a26-2e74-4258-87b9-10aee9d54073",
   "metadata": {},
   "outputs": [
    {
     "data": {
      "text/plain": [
       "30"
      ]
     },
     "execution_count": 249,
     "metadata": {},
     "output_type": "execute_result"
    }
   ],
   "source": [
    "f1 = lambda a1,a2:a1+a2\n",
    "f1(10,20)"
   ]
  },
  {
   "cell_type": "code",
   "execution_count": 251,
   "id": "2b67eec9-ce44-494b-b994-e30894801402",
   "metadata": {},
   "outputs": [
    {
     "data": {
      "text/plain": [
       "30"
      ]
     },
     "execution_count": 251,
     "metadata": {},
     "output_type": "execute_result"
    }
   ],
   "source": [
    "def f2(a1,a2):\n",
    "    return a1+a2\n",
    "\n",
    "f2(10,20)"
   ]
  },
  {
   "cell_type": "code",
   "execution_count": 253,
   "id": "e7be5ff8-975b-40bb-85c4-8da34ff89107",
   "metadata": {},
   "outputs": [
    {
     "data": {
      "text/plain": [
       "'HELLO'"
      ]
     },
     "execution_count": 253,
     "metadata": {},
     "output_type": "execute_result"
    }
   ],
   "source": [
    "def f3(a):\n",
    "    return a.upper()\n",
    "\n",
    "f3('hello')"
   ]
  },
  {
   "cell_type": "code",
   "execution_count": 255,
   "id": "0440253c-695d-41f9-a6af-3f9a5e6f06e7",
   "metadata": {},
   "outputs": [
    {
     "data": {
      "text/plain": [
       "'PYTHON'"
      ]
     },
     "execution_count": 255,
     "metadata": {},
     "output_type": "execute_result"
    }
   ],
   "source": [
    "F3 = lambda a:a.upper()\n",
    "F3('python')"
   ]
  },
  {
   "cell_type": "code",
   "execution_count": 257,
   "id": "67e3d584-481b-46e1-b449-09e93914b068",
   "metadata": {},
   "outputs": [
    {
     "data": {
      "text/plain": [
       "False"
      ]
     },
     "execution_count": 257,
     "metadata": {},
     "output_type": "execute_result"
    }
   ],
   "source": [
    "f4 = lambda a1,a2: a1>a2\n",
    "f4(10,20)"
   ]
  },
  {
   "cell_type": "code",
   "execution_count": 259,
   "id": "67d4a240-d095-42cf-883f-129e7c4ed802",
   "metadata": {},
   "outputs": [
    {
     "data": {
      "text/plain": [
       "True"
      ]
     },
     "execution_count": 259,
     "metadata": {},
     "output_type": "execute_result"
    }
   ],
   "source": [
    "f4(100,50)"
   ]
  },
  {
   "cell_type": "code",
   "execution_count": 261,
   "id": "97c9e0a1-9995-4654-b714-95db0bb2129e",
   "metadata": {},
   "outputs": [],
   "source": [
    "def fx(x):\n",
    "    if(x >50 and x <60):\n",
    "        return x+100\n",
    "    elif(x >100 and x <200):\n",
    "        return x+200\n",
    "    elif(x >500):\n",
    "        return x+300\n",
    "    else:\n",
    "        return x+500"
   ]
  },
  {
   "cell_type": "code",
   "execution_count": 263,
   "id": "33c4922f-4b2c-4d00-9f6d-0a63c119574b",
   "metadata": {},
   "outputs": [
    {
     "data": {
      "text/plain": [
       "155"
      ]
     },
     "execution_count": 263,
     "metadata": {},
     "output_type": "execute_result"
    }
   ],
   "source": [
    "f5=lambda a:fx(a) # lambda can invoke functionCall\n",
    "f5(55)"
   ]
  },
  {
   "cell_type": "code",
   "execution_count": 265,
   "id": "e7eda40c-2976-49ce-8893-705584dc78f2",
   "metadata": {},
   "outputs": [
    {
     "data": {
      "text/plain": [
       "320"
      ]
     },
     "execution_count": 265,
     "metadata": {},
     "output_type": "execute_result"
    }
   ],
   "source": [
    "f5(120)"
   ]
  },
  {
   "cell_type": "code",
   "execution_count": 267,
   "id": "e024fbc9-8e51-449d-9e16-b55d97c5e303",
   "metadata": {},
   "outputs": [
    {
     "data": {
      "text/plain": [
       "840"
      ]
     },
     "execution_count": 267,
     "metadata": {},
     "output_type": "execute_result"
    }
   ],
   "source": [
    "f5(540)"
   ]
  },
  {
   "cell_type": "code",
   "execution_count": 269,
   "id": "c96aa8a1-11a3-4281-90f7-04071fb6d083",
   "metadata": {},
   "outputs": [
    {
     "data": {
      "text/plain": [
       "[110, 120, 130, 140, 150]"
      ]
     },
     "execution_count": 269,
     "metadata": {},
     "output_type": "execute_result"
    }
   ],
   "source": [
    "# list comprehension ---> list append operation\n",
    "L=[]\n",
    "for var in [10,20,30,40,50]:\n",
    "    r = var+100\n",
    "    L.append(r)\n",
    "L"
   ]
  },
  {
   "cell_type": "code",
   "execution_count": null,
   "id": "769be5f6-8c86-4721-9ea0-d9ad3907dbb9",
   "metadata": {},
   "outputs": [],
   "source": [
    "[final_value for iterable]\n",
    "             -----(1)---\n",
    " ----(2)-----"
   ]
  },
  {
   "cell_type": "code",
   "execution_count": 271,
   "id": "7c116c15-61a6-4d3c-a98c-cedce30f550c",
   "metadata": {},
   "outputs": [
    {
     "data": {
      "text/plain": [
       "[110, 120, 130, 140, 150]"
      ]
     },
     "execution_count": 271,
     "metadata": {},
     "output_type": "execute_result"
    }
   ],
   "source": [
    "[var+100 for var in [10,20,30,40,50]]"
   ]
  },
  {
   "cell_type": "code",
   "execution_count": 273,
   "id": "6bf988b9-8adb-45a1-a982-c572e5d0f116",
   "metadata": {},
   "outputs": [
    {
     "data": {
      "text/plain": [
       "[140, 150]"
      ]
     },
     "execution_count": 273,
     "metadata": {},
     "output_type": "execute_result"
    }
   ],
   "source": [
    "L=[]\n",
    "for var in [10,20,30,40,50]:\n",
    "    if(var >30):\n",
    "        r = var+100\n",
    "        L.append(r)\n",
    "L"
   ]
  },
  {
   "cell_type": "code",
   "execution_count": 277,
   "id": "a6ec5ea4-dbae-44df-81c8-8ea70dc348d8",
   "metadata": {},
   "outputs": [
    {
     "data": {
      "text/plain": [
       "[140, 150]"
      ]
     },
     "execution_count": 277,
     "metadata": {},
     "output_type": "execute_result"
    }
   ],
   "source": [
    "[var+100 for var in [10,20,30,40,50] if var >30]"
   ]
  },
  {
   "cell_type": "code",
   "execution_count": 279,
   "id": "7014e03e-5a17-43a9-a761-256808687bb4",
   "metadata": {},
   "outputs": [
    {
     "data": {
      "text/plain": [
       "[210, 220, 230, 140, 150]"
      ]
     },
     "execution_count": 279,
     "metadata": {},
     "output_type": "execute_result"
    }
   ],
   "source": [
    "L=[]\n",
    "for var in [10,20,30,40,50]:\n",
    "    if(var >30):\n",
    "        r = var+100\n",
    "        L.append(r)\n",
    "    else:\n",
    "        r = var+200\n",
    "        L.append(r)\n",
    "L"
   ]
  },
  {
   "cell_type": "code",
   "execution_count": null,
   "id": "e10325f2-4013-49cd-aee5-1bb0b68cb4ee",
   "metadata": {},
   "outputs": [],
   "source": [
    "[True if condition else False for iterable]"
   ]
  },
  {
   "cell_type": "code",
   "execution_count": 281,
   "id": "9e3aa4cc-ab10-48a5-b939-2c27ea946d11",
   "metadata": {},
   "outputs": [
    {
     "data": {
      "text/plain": [
       "[210, 220, 230, 140, 150]"
      ]
     },
     "execution_count": 281,
     "metadata": {},
     "output_type": "execute_result"
    }
   ],
   "source": [
    "[var+100 if var >30 else var+200 for var in [10,20,30,40,50]]"
   ]
  },
  {
   "cell_type": "code",
   "execution_count": null,
   "id": "f462ef14-da19-4b50-bf6c-ea76f908372f",
   "metadata": {},
   "outputs": [],
   "source": [
    "generator ->function returns an iterator(address)\n",
    "                     -------------------\n",
    "                         yield \n",
    "def f1():\n",
    "    return Value // this is NOT a generator \n",
    "\n",
    "def f2():\n",
    "    yield value // this is a generator "
   ]
  },
  {
   "cell_type": "code",
   "execution_count": 283,
   "id": "203d5916-979b-4715-b022-8035f622290a",
   "metadata": {},
   "outputs": [
    {
     "data": {
      "text/plain": [
       "10"
      ]
     },
     "execution_count": 283,
     "metadata": {},
     "output_type": "execute_result"
    }
   ],
   "source": [
    "def f1():\n",
    "    return 10\n",
    "    print(\"Hello\") # this line won't execute \n",
    "\n",
    "f1()"
   ]
  },
  {
   "cell_type": "code",
   "execution_count": 285,
   "id": "27a1a2c8-8f87-4a8e-92bf-30cee8b30d08",
   "metadata": {},
   "outputs": [
    {
     "name": "stdout",
     "output_type": "stream",
     "text": [
      "<class 'function'> <class 'generator'>\n"
     ]
    }
   ],
   "source": [
    "def f2():\n",
    "    yield 10\n",
    "    print(\"Hello\")\n",
    "    yield 20\n",
    "    yield \"Data1\",\"Data2\"\n",
    "    yield [\"D1\",\"D2\",\"D3\"]\n",
    "\n",
    "print(type(f2),type(f2()))"
   ]
  },
  {
   "cell_type": "code",
   "execution_count": 287,
   "id": "a47499ee-5802-4b16-a847-aabfdc91bc3e",
   "metadata": {},
   "outputs": [
    {
     "data": {
      "text/plain": [
       "<generator object f2 at 0x0000028B110328C0>"
      ]
     },
     "execution_count": 287,
     "metadata": {},
     "output_type": "execute_result"
    }
   ],
   "source": [
    "f2()"
   ]
  },
  {
   "cell_type": "raw",
   "id": "41a9ff7e-dee9-4be3-842a-b3ba6de8092a",
   "metadata": {},
   "source": [
    "To open this generator \n",
    " 1. use next(generator_obj) ->value ... StopIteration\n",
    " 2. use for loop \n",
    " 3. type cast to list"
   ]
  },
  {
   "cell_type": "code",
   "execution_count": 289,
   "id": "11efc0a5-6342-423b-b61c-6223edaba4fb",
   "metadata": {},
   "outputs": [],
   "source": [
    "genobj=f2()"
   ]
  },
  {
   "cell_type": "code",
   "execution_count": 291,
   "id": "da28a251-4a8e-4b3f-8f14-0eb228c0a6aa",
   "metadata": {},
   "outputs": [
    {
     "name": "stdout",
     "output_type": "stream",
     "text": [
      "Hello\n"
     ]
    },
    {
     "data": {
      "text/plain": [
       "[10, 20, ('Data1', 'Data2'), ['D1', 'D2', 'D3']]"
      ]
     },
     "execution_count": 291,
     "metadata": {},
     "output_type": "execute_result"
    }
   ],
   "source": [
    "list(genobj) # typecast to list"
   ]
  },
  {
   "cell_type": "code",
   "execution_count": 293,
   "id": "336397b8-bdc6-4e10-8af6-59b19d931d04",
   "metadata": {},
   "outputs": [
    {
     "name": "stdout",
     "output_type": "stream",
     "text": [
      "10\n",
      "Hello\n",
      "20\n",
      "('Data1', 'Data2')\n",
      "['D1', 'D2', 'D3']\n"
     ]
    }
   ],
   "source": [
    "genobj=f2()\n",
    "for var in genobj:\n",
    "    print(var)"
   ]
  },
  {
   "cell_type": "code",
   "execution_count": 301,
   "id": "3d8154ee-1dbf-417a-8ec3-5fdf69ce7c39",
   "metadata": {},
   "outputs": [
    {
     "name": "stdout",
     "output_type": "stream",
     "text": [
      "10\n",
      "Hello\n",
      "20\n",
      "('Data1', 'Data2')\n",
      "['D1', 'D2', 'D3']\n"
     ]
    },
    {
     "ename": "StopIteration",
     "evalue": "",
     "output_type": "error",
     "traceback": [
      "\u001b[1;31m---------------------------------------------------------------------------\u001b[0m",
      "\u001b[1;31mStopIteration\u001b[0m                             Traceback (most recent call last)",
      "Cell \u001b[1;32mIn[301], line 6\u001b[0m\n\u001b[0;32m      4\u001b[0m \u001b[38;5;28mprint\u001b[39m(\u001b[38;5;28mnext\u001b[39m(genobj))\n\u001b[0;32m      5\u001b[0m \u001b[38;5;28mprint\u001b[39m(\u001b[38;5;28mnext\u001b[39m(genobj))\n\u001b[1;32m----> 6\u001b[0m \u001b[38;5;28mprint\u001b[39m(\u001b[38;5;28mnext\u001b[39m(genobj))\n",
      "\u001b[1;31mStopIteration\u001b[0m: "
     ]
    }
   ],
   "source": [
    "genobj=f2()\n",
    "print(next(genobj))\n",
    "print(next(genobj))\n",
    "print(next(genobj))\n",
    "print(next(genobj))\n",
    "print(next(genobj))"
   ]
  },
  {
   "cell_type": "code",
   "execution_count": null,
   "id": "224b2b16-777e-4dc8-ad02-5654042f3072",
   "metadata": {},
   "outputs": [],
   "source": [
    "DB - select *from table ->generator\n",
    "filesearch/directory/filetest ->generator\n",
    "Excel - range of cells A1:F9 ->generator\n",
    "cluster data ->generator\n",
    "recursion ->deep search ->generator"
   ]
  },
  {
   "cell_type": "code",
   "execution_count": null,
   "id": "81bd8f0c-7f99-468b-a1fa-bb79c4dcf05d",
   "metadata": {},
   "outputs": [],
   "source": [
    "lambda\n",
    "listcomprehension\n",
    "generator\n",
    "|\n",
    "map     -> map(function,collection) -> generator \n",
    "                |         |\n",
    "filter -> filter(function,collection) -> generator "
   ]
  },
  {
   "cell_type": "code",
   "execution_count": 303,
   "id": "2d9bfded-d814-4d6b-a735-6d01fac3be65",
   "metadata": {},
   "outputs": [
    {
     "name": "stdout",
     "output_type": "stream",
     "text": [
      "[110, 120, 130, 140, 150]\n"
     ]
    }
   ],
   "source": [
    "L=[]\n",
    "\n",
    "def f1(a):\n",
    "    return a+100\n",
    "\n",
    "for var in [10,20,30,40,50]:\n",
    "    r = f1(var)\n",
    "    L.append(r)\n",
    "\n",
    "\n",
    "print(L)"
   ]
  },
  {
   "cell_type": "code",
   "execution_count": 307,
   "id": "c4730e3f-c9b6-46e0-afad-df1616619daf",
   "metadata": {},
   "outputs": [
    {
     "data": {
      "text/plain": [
       "[110, 120, 130, 140, 150]"
      ]
     },
     "execution_count": 307,
     "metadata": {},
     "output_type": "execute_result"
    }
   ],
   "source": [
    "list(map(lambda a:a+100,[10,20,30,40,50]))"
   ]
  },
  {
   "cell_type": "code",
   "execution_count": 311,
   "id": "984c70af-d0d2-4297-9360-104a64f8b67e",
   "metadata": {},
   "outputs": [
    {
     "data": {
      "text/plain": [
       "[True, False, False, True, True, False, True]"
      ]
     },
     "execution_count": 311,
     "metadata": {},
     "output_type": "execute_result"
    }
   ],
   "source": [
    "list(map(lambda a:a>25,[26,10,20,30,40,16,50]))"
   ]
  },
  {
   "cell_type": "code",
   "execution_count": 313,
   "id": "08bb99d6-7dce-4383-a945-c9eb4ac05a4f",
   "metadata": {},
   "outputs": [
    {
     "data": {
      "text/plain": [
       "[26, 30, 40, 50]"
      ]
     },
     "execution_count": 313,
     "metadata": {},
     "output_type": "execute_result"
    }
   ],
   "source": [
    "list(filter(lambda a:a>25,[26,10,20,30,40,16,50]))"
   ]
  },
  {
   "cell_type": "code",
   "execution_count": 315,
   "id": "fdff24ad-8968-4dd6-b50c-93e23f18a528",
   "metadata": {},
   "outputs": [
    {
     "data": {
      "text/plain": [
       "[26, 10, 20, 30, 40, 16, 50]"
      ]
     },
     "execution_count": 315,
     "metadata": {},
     "output_type": "execute_result"
    }
   ],
   "source": [
    "list(filter(lambda a:a+100,[26,10,20,30,40,16,50])) \n",
    "# filter won't support arithmetic"
   ]
  },
  {
   "cell_type": "code",
   "execution_count": null,
   "id": "a661038a-5631-49bf-ab8f-95eff6789f80",
   "metadata": {},
   "outputs": [],
   "source": [
    "#list,tuple,dict \n",
    "\n",
    "# list - index based - mutable  \n",
    "# tuple - index based - immutable \n",
    "# dict - key based - mutable\n",
    "\n",
    "L = ['D1','D2','D3'] # 1D\n",
    "\n",
    "\n",
    "       0     1    2     0     1\n",
    "L = [['D1','D2','D3'],('D4','D5'),{'K1':'V1','K2':'V2','K3':'V3'}] # MD\n",
    "     ---------------- ----------- --------------------------------\n",
    "             0              1                 2  <== index \n",
    "      list of list    list of tuple       list of dict"
   ]
  },
  {
   "cell_type": "code",
   "execution_count": 325,
   "id": "206eb41f-fc23-461c-8612-49a62d842366",
   "metadata": {},
   "outputs": [
    {
     "name": "stdout",
     "output_type": "stream",
     "text": [
      "['D1', 'D2', 'D3']\n",
      "D1\n",
      "D2\n",
      "D3\n",
      "('D4', 'D5')\n",
      "D4\n",
      "D5\n",
      "{'K1': 'V1', 'K2': 'V2', 'K3': 'V3'}\n",
      "V1\n",
      "V2\n"
     ]
    }
   ],
   "source": [
    "L = [['D1','D2','D3'],('D4','D5'),{'K1':'V1','K2':'V2','K3':'V3'}]\n",
    "print(L[0]) # list of list \n",
    "print(L[0][0])\n",
    "print(L[0][1])\n",
    "print(L[0][2])\n",
    "\n",
    "print(L[1]) # list of tuple\n",
    "print(L[1][0])\n",
    "print(L[1][1])\n",
    "\n",
    "print(L[2]) # list of dict\n",
    "print(L[2]['K1'])\n",
    "print(L[2]['K2'])"
   ]
  },
  {
   "cell_type": "code",
   "execution_count": 329,
   "id": "2a360107-1b8e-42ec-be72-e78b91da0da8",
   "metadata": {},
   "outputs": [
    {
     "data": {
      "text/plain": [
       "[['D1', 'Data-2', 'D3'], ('D4', 'D5'), {'K1': 'V1', 'K2': 'V2', 'K3': 'V3'}]"
      ]
     },
     "execution_count": 329,
     "metadata": {},
     "output_type": "execute_result"
    }
   ],
   "source": [
    "L = [['D1','D2','D3'],('D4','D5'),{'K1':'V1','K2':'V2','K3':'V3'}]\n",
    "L[0][1] = \"Data-2\" # list is mutable - we can modify\n",
    "L"
   ]
  },
  {
   "cell_type": "code",
   "execution_count": 331,
   "id": "1f8a06ee-e82a-4ae7-895b-6ad9da4d8496",
   "metadata": {},
   "outputs": [
    {
     "data": {
      "text/plain": [
       "[['D1', 'Data-2', 'D3'],\n",
       " ('D4', 'D5'),\n",
       " {'K1': 'index.html', 'K2': 'V2', 'K3': 'V3'}]"
      ]
     },
     "execution_count": 331,
     "metadata": {},
     "output_type": "execute_result"
    }
   ],
   "source": [
    "L[2]['K1']='index.html'\n",
    "L"
   ]
  },
  {
   "cell_type": "code",
   "execution_count": 333,
   "id": "9be8a9ec-e20d-4841-b8fd-3e4af8ac910a",
   "metadata": {},
   "outputs": [
    {
     "data": {
      "text/plain": [
       "(['D1', 'D2'], ('D3', 'D4'), {'K1': 'V1', 'K2': 'V2'})"
      ]
     },
     "execution_count": 333,
     "metadata": {},
     "output_type": "execute_result"
    }
   ],
   "source": [
    "T=(['D1','D2'],('D3','D4'),{'K1':'V1','K2':'V2'})\n",
    "\n",
    "def fx():\n",
    "    return ['D1','D2'],('D3','D4'),{'K1':'V1','K2':'V2'}\n",
    "\n",
    "fx()"
   ]
  },
  {
   "cell_type": "code",
   "execution_count": 335,
   "id": "4a77cd37-0937-402b-88fa-7ec01e24dd9b",
   "metadata": {},
   "outputs": [
    {
     "name": "stdout",
     "output_type": "stream",
     "text": [
      "101\n",
      "pA\n"
     ]
    }
   ],
   "source": [
    "# dict \n",
    "products={'pid':101,'pname':'pA','pcost':1000} # 1D   1Key:1Value  1 - to - 1\n",
    "\n",
    "products={'pid':[101,102,103],'pname':('pA','pB','pC')} # 1key:multiple values 1 -to-many\n",
    "  # dict of list              dict of tuple\n",
    "print(products['pid'][0])\n",
    "print(products['pname'][0])"
   ]
  },
  {
   "cell_type": "code",
   "execution_count": 337,
   "id": "02a8052c-078a-43f3-a414-80859f978aef",
   "metadata": {},
   "outputs": [
    {
     "data": {
      "text/plain": [
       "{'K1': [110, 120, 130, 140, 150]}"
      ]
     },
     "execution_count": 337,
     "metadata": {},
     "output_type": "execute_result"
    }
   ],
   "source": [
    "d={}\n",
    "\n",
    "d['K1'] = list(map(lambda a:a+100,[10,20,30,40,50]))\n",
    "d"
   ]
  },
  {
   "cell_type": "code",
   "execution_count": 339,
   "id": "3a8ac9be-0816-4193-a5f7-929c4f0a777e",
   "metadata": {},
   "outputs": [
    {
     "data": {
      "text/plain": [
       "['eid,ename,edept,eplace,ecost\\n',\n",
       " '101,ram,sales,pune,1000\\n',\n",
       " '102,leo,prod,bglore,2000\\n',\n",
       " '103,anu,HR,hyd,3000\\n',\n",
       " '104,paul,sales,bglore,3200\\n',\n",
       " '423,zio,sales,pune,3420\\n',\n",
       " '142,anu,prod,chennai,4300\\n',\n",
       " '949,karthik,sales,bglore,3100\\n',\n",
       " '848,tom,hr,chennai,3940\\n',\n",
       " '931,vijay,prod,chennai,3411']"
      ]
     },
     "execution_count": 339,
     "metadata": {},
     "output_type": "execute_result"
    }
   ],
   "source": [
    "list(map(lambda a:a,open('emp.csv')))"
   ]
  },
  {
   "cell_type": "code",
   "execution_count": 341,
   "id": "215db55e-5d09-4076-a367-6f25c59bd742",
   "metadata": {},
   "outputs": [
    {
     "data": {
      "text/plain": [
       "{'K1': [110, 120, 130, 140, 150],\n",
       " 'CSV': ['eid,ename,edept,eplace,ecost\\n',\n",
       "  '101,ram,sales,pune,1000\\n',\n",
       "  '102,leo,prod,bglore,2000\\n',\n",
       "  '103,anu,HR,hyd,3000\\n',\n",
       "  '104,paul,sales,bglore,3200\\n',\n",
       "  '423,zio,sales,pune,3420\\n',\n",
       "  '142,anu,prod,chennai,4300\\n',\n",
       "  '949,karthik,sales,bglore,3100\\n',\n",
       "  '848,tom,hr,chennai,3940\\n',\n",
       "  '931,vijay,prod,chennai,3411']}"
      ]
     },
     "execution_count": 341,
     "metadata": {},
     "output_type": "execute_result"
    }
   ],
   "source": [
    "d['CSV'] = list(map(lambda a:a,open('emp.csv')))\n",
    "d"
   ]
  },
  {
   "cell_type": "code",
   "execution_count": 345,
   "id": "cae23b3b-dd1b-4b7d-98c0-bd63ed132cf7",
   "metadata": {},
   "outputs": [
    {
     "data": {
      "text/plain": [
       "{'app': 'flask', 'port': 5000}"
      ]
     },
     "execution_count": 345,
     "metadata": {},
     "output_type": "execute_result"
    }
   ],
   "source": [
    "# dict of dict\n",
    "d={'K1':{'app':'flask','port':5000},'K2':{'app':'django','port':8080}}\n",
    "d['K1']"
   ]
  },
  {
   "cell_type": "code",
   "execution_count": 347,
   "id": "bf40d3a4-cfc8-41bb-a435-af63d704c627",
   "metadata": {},
   "outputs": [
    {
     "data": {
      "text/plain": [
       "{'app': 'django', 'port': 8080}"
      ]
     },
     "execution_count": 347,
     "metadata": {},
     "output_type": "execute_result"
    }
   ],
   "source": [
    "d['K2']"
   ]
  },
  {
   "cell_type": "code",
   "execution_count": 349,
   "id": "6968c61b-6a59-483c-bd7a-777ab18a9ff0",
   "metadata": {},
   "outputs": [
    {
     "data": {
      "text/plain": [
       "'flask'"
      ]
     },
     "execution_count": 349,
     "metadata": {},
     "output_type": "execute_result"
    }
   ],
   "source": [
    "d['K1']['app']"
   ]
  },
  {
   "cell_type": "code",
   "execution_count": 351,
   "id": "2352f883-ba12-4952-a0f0-2d895720e6be",
   "metadata": {},
   "outputs": [
    {
     "data": {
      "text/plain": [
       "'django'"
      ]
     },
     "execution_count": 351,
     "metadata": {},
     "output_type": "execute_result"
    }
   ],
   "source": [
    "d['K2']['app']"
   ]
  },
  {
   "cell_type": "code",
   "execution_count": 353,
   "id": "a54baae5-274f-4605-acec-cd6d75280aae",
   "metadata": {},
   "outputs": [
    {
     "data": {
      "text/plain": [
       "{'pid': [101, 102, 103],\n",
       " 'pname': ['pA', 'pB', 'pC'],\n",
       " 'pcost': [1000, 2000, 3000]}"
      ]
     },
     "execution_count": 353,
     "metadata": {},
     "output_type": "execute_result"
    }
   ],
   "source": [
    "products={}\n",
    "products['pid']=[101,102,103]\n",
    "products['pname']=['pA','pB','pC']\n",
    "products['pcost']=[1000,2000,3000]\n",
    "\n",
    "products"
   ]
  },
  {
   "cell_type": "code",
   "execution_count": 355,
   "id": "c70ef163-9ba3-4ab8-9be6-7b6b5d76c3be",
   "metadata": {},
   "outputs": [
    {
     "data": {
      "text/html": [
       "<div>\n",
       "<style scoped>\n",
       "    .dataframe tbody tr th:only-of-type {\n",
       "        vertical-align: middle;\n",
       "    }\n",
       "\n",
       "    .dataframe tbody tr th {\n",
       "        vertical-align: top;\n",
       "    }\n",
       "\n",
       "    .dataframe thead th {\n",
       "        text-align: right;\n",
       "    }\n",
       "</style>\n",
       "<table border=\"1\" class=\"dataframe\">\n",
       "  <thead>\n",
       "    <tr style=\"text-align: right;\">\n",
       "      <th></th>\n",
       "      <th>pid</th>\n",
       "      <th>pname</th>\n",
       "      <th>pcost</th>\n",
       "    </tr>\n",
       "  </thead>\n",
       "  <tbody>\n",
       "    <tr>\n",
       "      <th>0</th>\n",
       "      <td>101</td>\n",
       "      <td>pA</td>\n",
       "      <td>1000</td>\n",
       "    </tr>\n",
       "    <tr>\n",
       "      <th>1</th>\n",
       "      <td>102</td>\n",
       "      <td>pB</td>\n",
       "      <td>2000</td>\n",
       "    </tr>\n",
       "    <tr>\n",
       "      <th>2</th>\n",
       "      <td>103</td>\n",
       "      <td>pC</td>\n",
       "      <td>3000</td>\n",
       "    </tr>\n",
       "  </tbody>\n",
       "</table>\n",
       "</div>"
      ],
      "text/plain": [
       "   pid pname  pcost\n",
       "0  101    pA   1000\n",
       "1  102    pB   2000\n",
       "2  103    pC   3000"
      ]
     },
     "execution_count": 355,
     "metadata": {},
     "output_type": "execute_result"
    }
   ],
   "source": [
    "import pandas as pd\n",
    "pd.DataFrame(products)"
   ]
  },
  {
   "cell_type": "code",
   "execution_count": 357,
   "id": "779b76ff-d9a2-460b-a40c-fafb7a0e861b",
   "metadata": {},
   "outputs": [
    {
     "data": {
      "text/html": [
       "<div>\n",
       "<style scoped>\n",
       "    .dataframe tbody tr th:only-of-type {\n",
       "        vertical-align: middle;\n",
       "    }\n",
       "\n",
       "    .dataframe tbody tr th {\n",
       "        vertical-align: top;\n",
       "    }\n",
       "\n",
       "    .dataframe thead th {\n",
       "        text-align: right;\n",
       "    }\n",
       "</style>\n",
       "<table border=\"1\" class=\"dataframe\">\n",
       "  <thead>\n",
       "    <tr style=\"text-align: right;\">\n",
       "      <th></th>\n",
       "      <th>eid</th>\n",
       "      <th>ename</th>\n",
       "      <th>edept</th>\n",
       "      <th>eplace</th>\n",
       "      <th>ecost</th>\n",
       "    </tr>\n",
       "  </thead>\n",
       "  <tbody>\n",
       "    <tr>\n",
       "      <th>0</th>\n",
       "      <td>101</td>\n",
       "      <td>ram</td>\n",
       "      <td>sales</td>\n",
       "      <td>pune</td>\n",
       "      <td>1000</td>\n",
       "    </tr>\n",
       "    <tr>\n",
       "      <th>1</th>\n",
       "      <td>102</td>\n",
       "      <td>leo</td>\n",
       "      <td>prod</td>\n",
       "      <td>bglore</td>\n",
       "      <td>2000</td>\n",
       "    </tr>\n",
       "    <tr>\n",
       "      <th>2</th>\n",
       "      <td>103</td>\n",
       "      <td>anu</td>\n",
       "      <td>HR</td>\n",
       "      <td>hyd</td>\n",
       "      <td>3000</td>\n",
       "    </tr>\n",
       "    <tr>\n",
       "      <th>3</th>\n",
       "      <td>104</td>\n",
       "      <td>paul</td>\n",
       "      <td>sales</td>\n",
       "      <td>bglore</td>\n",
       "      <td>3200</td>\n",
       "    </tr>\n",
       "    <tr>\n",
       "      <th>4</th>\n",
       "      <td>423</td>\n",
       "      <td>zio</td>\n",
       "      <td>sales</td>\n",
       "      <td>pune</td>\n",
       "      <td>3420</td>\n",
       "    </tr>\n",
       "    <tr>\n",
       "      <th>5</th>\n",
       "      <td>142</td>\n",
       "      <td>anu</td>\n",
       "      <td>prod</td>\n",
       "      <td>chennai</td>\n",
       "      <td>4300</td>\n",
       "    </tr>\n",
       "    <tr>\n",
       "      <th>6</th>\n",
       "      <td>949</td>\n",
       "      <td>karthik</td>\n",
       "      <td>sales</td>\n",
       "      <td>bglore</td>\n",
       "      <td>3100</td>\n",
       "    </tr>\n",
       "    <tr>\n",
       "      <th>7</th>\n",
       "      <td>848</td>\n",
       "      <td>tom</td>\n",
       "      <td>hr</td>\n",
       "      <td>chennai</td>\n",
       "      <td>3940</td>\n",
       "    </tr>\n",
       "    <tr>\n",
       "      <th>8</th>\n",
       "      <td>931</td>\n",
       "      <td>vijay</td>\n",
       "      <td>prod</td>\n",
       "      <td>chennai</td>\n",
       "      <td>3411</td>\n",
       "    </tr>\n",
       "  </tbody>\n",
       "</table>\n",
       "</div>"
      ],
      "text/plain": [
       "   eid    ename  edept   eplace  ecost\n",
       "0  101      ram  sales     pune   1000\n",
       "1  102      leo   prod   bglore   2000\n",
       "2  103      anu     HR      hyd   3000\n",
       "3  104     paul  sales   bglore   3200\n",
       "4  423      zio  sales     pune   3420\n",
       "5  142      anu   prod  chennai   4300\n",
       "6  949  karthik  sales   bglore   3100\n",
       "7  848      tom     hr  chennai   3940\n",
       "8  931    vijay   prod  chennai   3411"
      ]
     },
     "execution_count": 357,
     "metadata": {},
     "output_type": "execute_result"
    }
   ],
   "source": [
    "pd.read_csv('emp.csv')"
   ]
  },
  {
   "cell_type": "code",
   "execution_count": null,
   "id": "bfef406a-2d03-4c04-81c1-8a5d497e29b3",
   "metadata": {},
   "outputs": [],
   "source": []
  }
 ],
 "metadata": {
  "kernelspec": {
   "display_name": "Python 3 (ipykernel)",
   "language": "python",
   "name": "python3"
  },
  "language_info": {
   "codemirror_mode": {
    "name": "ipython",
    "version": 3
   },
   "file_extension": ".py",
   "mimetype": "text/x-python",
   "name": "python",
   "nbconvert_exporter": "python",
   "pygments_lexer": "ipython3",
   "version": "3.12.3"
  }
 },
 "nbformat": 4,
 "nbformat_minor": 5
}
